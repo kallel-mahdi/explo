{
 "cells": [
  {
   "cell_type": "code",
   "execution_count": 14,
   "metadata": {},
   "outputs": [],
   "source": [
    "import torch\n",
    "import torch.nn as nn\n",
    "import torch.nn.functional as F\n",
    "\n",
    "class ActorNetwork(nn.Module):\n",
    "    def __init__(self, input_shape, output_shape, n_features, **kwargs):\n",
    "        super(ActorNetwork, self).__init__()\n",
    "\n",
    "        n_input = input_shape\n",
    "        n_output = output_shape\n",
    "        \n",
    "        #self.dummy_param = nn.Parameter(torch.empty(0))\n",
    "\n",
    "        self._h1 = nn.Linear(n_input, n_features)\n",
    "        self._h2 = nn.Linear(n_features, n_features)\n",
    "        self._h3 = nn.Linear(n_features, n_output)\n",
    "\n",
    "        nn.init.xavier_uniform_(self._h1.weight,\n",
    "                                gain=nn.init.calculate_gain('relu'))\n",
    "        nn.init.xavier_uniform_(self._h2.weight,\n",
    "                                gain=nn.init.calculate_gain('relu'))\n",
    "        nn.init.xavier_uniform_(self._h3.weight,\n",
    "                                gain=nn.init.calculate_gain('linear'))\n",
    "    \n",
    "    @property\n",
    "    def n_params(self):\n",
    "        \n",
    "        n = 0\n",
    "        for p in self.parameters():\n",
    "            p_shape = torch.tensor(p.shape)\n",
    "            n += torch.prod(p_shape,0)\n",
    "        \n",
    "        return n\n",
    "    \n",
    "    @property\n",
    "    def device(self):\n",
    "        device = next(self.parameters()).device\n",
    "        return device\n",
    "            \n",
    "\n",
    "    def _update_weights(self,new_weights,tau=1):\n",
    "    \n",
    "        new_weights = torch.tensor(new_weights,device=self.device)\n",
    "        \n",
    "        idx = 0\n",
    "        for param in self.parameters():\n",
    "            weights = param.data\n",
    "            weights_shape = torch.tensor(weights.shape)\n",
    "            n_steps = torch.prod(weights_shape,0)\n",
    "            #print(f'n_steps :{n_steps}, idx{idx} idx+ {idx+n_steps}')\n",
    "            new_params = new_weights[idx:idx+n_steps]\n",
    "            #print(f'1 {new_params.shape}')\n",
    "            new_params = new_params.reshape(*weights_shape)\n",
    "            #print(f'2 {new_params.shape}')\n",
    "            param.data = new_params\n",
    "            idx += n_steps\n",
    "\n",
    "    def forward(self, state):\n",
    "        features1 = F.relu(self._h1(torch.squeeze(state, 1).float()))\n",
    "        features2 = F.relu(self._h2(features1))\n",
    "        a = self._h3(features2)\n",
    "\n",
    "        return a"
   ]
  },
  {
   "cell_type": "code",
   "execution_count": 23,
   "metadata": {},
   "outputs": [
    {
     "name": "stdout",
     "output_type": "stream",
     "text": [
      "torch.Size([10, 3])\n",
      "torch.Size([10])\n",
      "torch.Size([10, 10])\n",
      "torch.Size([10])\n",
      "torch.Size([1, 10])\n",
      "torch.Size([1])\n"
     ]
    }
   ],
   "source": [
    "actr = ActorNetwork(input_shape=3,output_shape=1,n_features=10)\n",
    "states = torch.rand(10,3)\n",
    "output = torch.sum(actr(states))\n",
    "#grad   = torch.autograd.grad(output,actr.parameters())\n",
    "\n",
    "noise_vector = torch.rand(actr.n_params)\n",
    "#actr._update_weights(noise_vector)\n",
    "\n",
    "\n",
    "#actr.n_params\n",
    "#noise_vector = torch.tensor(noise_vector,requires_grad=True)\n",
    "#actr._update_weights(noise_vector)\n",
    "grad   = torch.autograd.grad(output,actr.parameters())\n",
    "for i in grad:\n",
    "    print(i.shape)\n",
    "\n",
    "# _update_target(self, current,noise_vector)"
   ]
  },
  {
   "cell_type": "code",
   "execution_count": 28,
   "metadata": {},
   "outputs": [
    {
     "name": "stderr",
     "output_type": "stream",
     "text": [
      "/tmp/ipykernel_21491/1884723998.py:1: UserWarning: torch.range is deprecated and will be removed in a future release because its behavior is inconsistent with Python's range builtin. Instead, use torch.arange, which produces values in [start, end).\n",
      "  torch.tensor(torch.range(1,30)).reshape(3,10)\n",
      "/tmp/ipykernel_21491/1884723998.py:1: UserWarning: To copy construct from a tensor, it is recommended to use sourceTensor.clone().detach() or sourceTensor.clone().detach().requires_grad_(True), rather than torch.tensor(sourceTensor).\n",
      "  torch.tensor(torch.range(1,30)).reshape(3,10)\n"
     ]
    },
    {
     "data": {
      "text/plain": [
       "tensor([[ 1.,  2.,  3.,  4.,  5.,  6.,  7.,  8.,  9., 10.],\n",
       "        [11., 12., 13., 14., 15., 16., 17., 18., 19., 20.],\n",
       "        [21., 22., 23., 24., 25., 26., 27., 28., 29., 30.]])"
      ]
     },
     "execution_count": 28,
     "metadata": {},
     "output_type": "execute_result"
    }
   ],
   "source": [
    "torch.tensor(torch.range(1,30)).reshape(3,10)"
   ]
  }
 ],
 "metadata": {
  "kernelspec": {
   "display_name": "Python 3.10.4 ('boptim')",
   "language": "python",
   "name": "python3"
  },
  "language_info": {
   "codemirror_mode": {
    "name": "ipython",
    "version": 3
   },
   "file_extension": ".py",
   "mimetype": "text/x-python",
   "name": "python",
   "nbconvert_exporter": "python",
   "pygments_lexer": "ipython3",
   "version": "3.10.4"
  },
  "orig_nbformat": 4,
  "vscode": {
   "interpreter": {
    "hash": "8389904c907846b71296796d17b1509d31543c622799a32225d90d0bb5700220"
   }
  }
 },
 "nbformat": 4,
 "nbformat_minor": 2
}
