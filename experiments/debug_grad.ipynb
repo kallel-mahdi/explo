{
 "cells": [
  {
   "cell_type": "code",
   "execution_count": 11,
   "metadata": {},
   "outputs": [],
   "source": [
    "import torch\n",
    "import torch.nn as nn\n",
    "import torch.nn.functional as F\n",
    "\n",
    "class ActorNetwork(nn.Module):\n",
    "    def __init__(self, input_shape, output_shape, n_features, **kwargs):\n",
    "        super(ActorNetwork, self).__init__()\n",
    "\n",
    "        n_input = input_shape\n",
    "        n_output = output_shape\n",
    "        \n",
    "        #self.dummy_param = nn.Parameter(torch.empty(0))\n",
    "\n",
    "        self._h1 = nn.Linear(n_input, n_features)\n",
    "        self._h2 = nn.Linear(n_features, n_features)\n",
    "        self._h3 = nn.Linear(n_features, n_output)\n",
    "\n",
    "        nn.init.xavier_uniform_(self._h1.weight,\n",
    "                                gain=nn.init.calculate_gain('relu'))\n",
    "        nn.init.xavier_uniform_(self._h2.weight,\n",
    "                                gain=nn.init.calculate_gain('relu'))\n",
    "        nn.init.xavier_uniform_(self._h3.weight,\n",
    "                                gain=nn.init.calculate_gain('linear'))\n",
    "    \n",
    "    @property\n",
    "    def n_params(self):\n",
    "        \n",
    "        n = 0\n",
    "        for p in self.parameters():\n",
    "            p_shape = torch.tensor(p.shape)\n",
    "            n += torch.prod(p_shape,0)\n",
    "        \n",
    "        return n\n",
    "    \n",
    "    @property\n",
    "    def device(self):\n",
    "        device = next(self.parameters()).device\n",
    "        return device\n",
    "            \n",
    "\n",
    "    def add_noise(self,noise):\n",
    "        \n",
    "        if not torch.is_tensor(noise):        \n",
    "            noise = torch.tensor(noise,device=self.device)\n",
    "        \n",
    "        idx = 0\n",
    "        for param in self.parameters():\n",
    "            weights = param.data\n",
    "            weights_shape = torch.tensor(weights.shape)\n",
    "            n_steps = torch.prod(weights_shape,0)\n",
    "            noise_param = noise[idx:idx+n_steps].reshape(*weights_shape)\n",
    "            param.data += noise_param\n",
    "            idx += n_steps\n",
    "\n",
    "    def forward(self, state):\n",
    "        features1 = F.relu(self._h1(torch.squeeze(state, 1).float()))\n",
    "        features2 = F.relu(self._h2(features1))\n",
    "        a = self._h3(features2)\n",
    "\n",
    "        return a"
   ]
  },
  {
   "cell_type": "code",
   "execution_count": 19,
   "metadata": {},
   "outputs": [],
   "source": [
    "actr = ActorNetwork(input_shape=3,output_shape=1,n_features=10)\n",
    "states = torch.rand(10,3)"
   ]
  },
  {
   "cell_type": "code",
   "execution_count": 23,
   "metadata": {},
   "outputs": [
    {
     "data": {
      "text/plain": [
       "(tensor([[213.8113, 172.2993, 212.5418],\n",
       "         [287.9179, 232.0180, 286.2085],\n",
       "         [235.5001, 189.7772, 234.1018],\n",
       "         [162.9399, 131.3047, 161.9725],\n",
       "         [189.1584, 152.4329, 188.0353],\n",
       "         [172.8526, 139.2929, 171.8263],\n",
       "         [258.6119, 208.4018, 257.0764],\n",
       "         [188.5842, 151.9702, 187.4646],\n",
       "         [210.1334, 169.3355, 208.8858],\n",
       "         [231.6133, 186.6450, 230.2381]]),\n",
       " tensor([353.3896, 475.8739, 389.2371, 269.3088, 312.6431, 285.6927, 427.4365,\n",
       "         311.6941, 347.3108, 382.8130]),\n",
       " tensor([[ 43.1548,  34.2945,  74.7545,  70.5093,  53.4055,  53.6183,  59.5728,\n",
       "           79.3692,  80.2186,  55.4671],\n",
       "         [ 14.0676,  11.1793,  24.3685,  22.9846,  17.4091,  17.4785,  19.4195,\n",
       "           25.8728,  26.1497,  18.0812],\n",
       "         [ 48.9951,  38.9358,  84.8714,  80.0517,  60.6332,  60.8748,  67.6351,\n",
       "           90.1107,  91.0751,  62.9738],\n",
       "         [ 98.7421,  78.4690, 171.0452, 161.3318, 122.1967, 122.6837, 136.3081,\n",
       "          181.6042, 183.5476, 126.9139],\n",
       "         [ 76.7171,  60.9661, 132.8926, 125.3458,  94.9401,  95.3184, 105.9038,\n",
       "          141.0963, 142.6063,  98.6050],\n",
       "         [ 81.4658,  64.7398, 141.1184, 133.1045, 100.8167, 101.2184, 112.4591,\n",
       "          149.8299, 151.4334, 104.7085],\n",
       "         [ 83.1211,  66.0552, 143.9859, 135.8091, 102.8653, 103.2751, 114.7442,\n",
       "          152.8745, 154.5105, 106.8362],\n",
       "         [ 82.4413,  65.5150, 142.8082, 134.6983, 102.0239, 102.4305, 113.8057,\n",
       "          151.6241, 153.2467, 105.9624],\n",
       "         [ 65.8686,  52.3449, 114.1003, 107.6207,  81.5147,  81.8395,  90.9280,\n",
       "          121.1440, 122.4404,  84.6614],\n",
       "         [ 56.3418,  44.7741,  97.5977,  92.0553,  69.7250,  70.0028,  77.7768,\n",
       "          103.6226, 104.7315,  72.4166]]),\n",
       " tensor([12.2729,  4.0007, 13.9339, 28.0815, 21.8178, 23.1683, 23.6390, 23.4457,\n",
       "         18.7325, 16.0232]),\n",
       " tensor([[ 871.7460, 1024.5829,  895.5680,  864.0822, 1019.4029, 1125.9655,\n",
       "           952.7857,  943.3033,  886.5812,  894.2371]]),\n",
       " tensor([10.]))"
      ]
     },
     "execution_count": 23,
     "metadata": {},
     "output_type": "execute_result"
    }
   ],
   "source": [
    "\n",
    "noise_vector = torch.rand(actr.n_params)\n",
    "actr.add_noise(noise_vector)\n",
    "output = torch.sum(actr(states))\n",
    "\n",
    "grad   = torch.autograd.grad(output,actr.parameters())\n",
    "grad\n",
    "\n",
    "# _update_target(self, current,noise_vector)"
   ]
  }
 ],
 "metadata": {
  "kernelspec": {
   "display_name": "Python 3.10.4 ('boptim')",
   "language": "python",
   "name": "python3"
  },
  "language_info": {
   "codemirror_mode": {
    "name": "ipython",
    "version": 3
   },
   "file_extension": ".py",
   "mimetype": "text/x-python",
   "name": "python",
   "nbconvert_exporter": "python",
   "pygments_lexer": "ipython3",
   "version": "3.10.4"
  },
  "orig_nbformat": 4,
  "vscode": {
   "interpreter": {
    "hash": "8389904c907846b71296796d17b1509d31543c622799a32225d90d0bb5700220"
   }
  }
 },
 "nbformat": 4,
 "nbformat_minor": 2
}
