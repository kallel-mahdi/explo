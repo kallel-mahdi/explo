{
 "cells": [
  {
   "cell_type": "code",
   "execution_count": 10,
   "metadata": {},
   "outputs": [],
   "source": [
    "import math\n",
    "import torch\n",
    "import gpytorch\n",
    "from matplotlib import pyplot as plt\n"
   ]
  },
  {
   "cell_type": "code",
   "execution_count": 11,
   "metadata": {},
   "outputs": [],
   "source": [
    "import os\n",
    "smoke_test = ('CI' in os.environ)\n",
    "training_iter = 2 if smoke_test else 50\n",
    "\n",
    "# Training data is 100 points in [0,1] inclusive regularly spaced\n",
    "train_x = torch.linspace(0, 1, 100)\n",
    "# True function is sin(2*pi*x) with Gaussian noise\n",
    "train_y = torch.sin(train_x * (2 * math.pi)) + torch.randn(train_x.size()) * math.sqrt(0.04)\n",
    "\n",
    "# Wrap training, prediction and plotting from the ExactGP-Tutorial into a function,\n",
    "# so that we do not have to repeat the code later on\n",
    "def train(model, likelihood, training_iter=training_iter):\n",
    "    # Use the adam optimizer\n",
    "    optimizer = torch.optim.Adam(model.parameters(), lr=0.1)  # Includes GaussianLikelihood parameters\n",
    "\n",
    "    # \"Loss\" for GPs - the marginal log likelihood\n",
    "    mll = gpytorch.mlls.ExactMarginalLogLikelihood(likelihood, model)\n",
    "\n",
    "    for i in range(training_iter):\n",
    "        # Zero gradients from previous iteration\n",
    "        optimizer.zero_grad()\n",
    "        # Output from model\n",
    "        output = model(train_x)\n",
    "        # Calc loss and backprop gradients\n",
    "        loss = -mll(output, train_y)\n",
    "        loss.backward()\n",
    "        optimizer.step()\n",
    "\n",
    "\n",
    "def predict(model, likelihood, test_x = torch.linspace(0, 1, 51)):\n",
    "    model.eval()\n",
    "    likelihood.eval()\n",
    "    # Make predictions by feeding model through likelihood\n",
    "    with torch.no_grad(), gpytorch.settings.fast_pred_var():\n",
    "        # Test points are regularly spaced along [0,1]\n",
    "        return likelihood(model(test_x))\n",
    "\n",
    "def plot(observed_pred, test_x=torch.linspace(0, 1, 51)):\n",
    "    with torch.no_grad():\n",
    "        # Initialize plot\n",
    "        f, ax = plt.subplots(1, 1, figsize=(4, 3))\n",
    "\n",
    "        # Get upper and lower confidence bounds\n",
    "        lower, upper = observed_pred.confidence_region()\n",
    "        # Plot training data as black stars\n",
    "        ax.plot(train_x.numpy(), train_y.numpy(), 'k*')\n",
    "        # Plot predictive means as blue line\n",
    "        ax.plot(test_x.numpy(), observed_pred.mean.numpy(), 'b')\n",
    "        # Shade between the lower and upper confidence bounds\n",
    "        ax.fill_between(test_x.numpy(), lower.numpy(), upper.numpy(), alpha=0.5)\n",
    "        ax.set_ylim([-3, 3])\n",
    "        ax.legend(['Observed Data', 'Mean', 'Confidence'])"
   ]
  },
  {
   "cell_type": "code",
   "execution_count": 23,
   "metadata": {},
   "outputs": [],
   "source": [
    "\n",
    "class FirstSincKernel(gpytorch.kernels.Kernel):\n",
    "    # the sinc kernel is stationary\n",
    "    is_stationary = True\n",
    "\n",
    "    # this is the kernel function\n",
    "    def forward(self, x1, x2, **params):\n",
    "        \n",
    "        print(\"x1,x2 siiize\",x1.size(),x2.size())\n",
    "        # calculate the distance between inputs\n",
    "        diff = self.covar_dist(x1, x2, **params)\n",
    "        # prevent divide by 0 errors\n",
    "        diff.where(diff == 0, torch.as_tensor(1e-20))\n",
    "        # return sinc(diff) = sin(diff) / diff\n",
    "        return torch.sin(diff).div(diff)"
   ]
  },
  {
   "cell_type": "code",
   "execution_count": 24,
   "metadata": {},
   "outputs": [
    {
     "name": "stdout",
     "output_type": "stream",
     "text": [
      "x1,x2 siiize torch.Size([10, 10]) torch.Size([10, 10])\n"
     ]
    },
    {
     "data": {
      "text/plain": [
       "torch.Size([10, 10])"
      ]
     },
     "execution_count": 24,
     "metadata": {},
     "output_type": "execute_result"
    }
   ],
   "source": [
    "\n",
    "kernel = FirstSincKernel()\n",
    "a = torch.rand((10,10))\n",
    "kernel.forward(a,a).size()"
   ]
  },
  {
   "cell_type": "code",
   "execution_count": 25,
   "metadata": {},
   "outputs": [],
   "source": [
    "# Use the simplest form of GP model, exact inference\n",
    "class FirstGPModel(gpytorch.models.ExactGP):\n",
    "    def __init__(self, train_x, train_y, likelihood):\n",
    "        super().__init__(train_x, train_y, likelihood)\n",
    "        self.mean_module = gpytorch.means.ConstantMean()\n",
    "        self.covar_module = FirstSincKernel()\n",
    "\n",
    "    def forward(self, x):\n",
    "        mean_x = self.mean_module(x)\n",
    "        covar_x = self.covar_module(x)\n",
    "        return gpytorch.distributions.MultivariateNormal(mean_x, covar_x)"
   ]
  },
  {
   "cell_type": "code",
   "execution_count": 26,
   "metadata": {},
   "outputs": [
    {
     "name": "stdout",
     "output_type": "stream",
     "text": [
      "x1,x2 siiize torch.Size([100, 1]) torch.Size([100, 1])\n",
      "x1,x2 siiize torch.Size([100, 1]) torch.Size([100, 1])\n",
      "x1,x2 siiize torch.Size([100, 1]) torch.Size([100, 1])\n",
      "x1,x2 siiize torch.Size([100, 1]) torch.Size([100, 1])\n",
      "x1,x2 siiize torch.Size([100, 1]) torch.Size([100, 1])\n",
      "x1,x2 siiize torch.Size([100, 1]) torch.Size([100, 1])\n",
      "x1,x2 siiize torch.Size([100, 1]) torch.Size([100, 1])\n",
      "x1,x2 siiize torch.Size([100, 1]) torch.Size([100, 1])\n",
      "x1,x2 siiize torch.Size([100, 1]) torch.Size([100, 1])\n",
      "x1,x2 siiize torch.Size([100, 1]) torch.Size([100, 1])\n",
      "x1,x2 siiize torch.Size([100, 1]) torch.Size([100, 1])\n",
      "x1,x2 siiize torch.Size([100, 1]) torch.Size([100, 1])\n",
      "x1,x2 siiize torch.Size([100, 1]) torch.Size([100, 1])\n",
      "x1,x2 siiize torch.Size([100, 1]) torch.Size([100, 1])\n",
      "x1,x2 siiize torch.Size([100, 1]) torch.Size([100, 1])\n",
      "x1,x2 siiize torch.Size([100, 1]) torch.Size([100, 1])\n",
      "x1,x2 siiize torch.Size([100, 1]) torch.Size([100, 1])\n",
      "x1,x2 siiize torch.Size([100, 1]) torch.Size([100, 1])\n",
      "x1,x2 siiize torch.Size([100, 1]) torch.Size([100, 1])\n",
      "x1,x2 siiize torch.Size([100, 1]) torch.Size([100, 1])\n",
      "x1,x2 siiize torch.Size([100, 1]) torch.Size([100, 1])\n",
      "x1,x2 siiize torch.Size([100, 1]) torch.Size([100, 1])\n",
      "x1,x2 siiize torch.Size([100, 1]) torch.Size([100, 1])\n",
      "x1,x2 siiize torch.Size([100, 1]) torch.Size([100, 1])\n",
      "x1,x2 siiize torch.Size([100, 1]) torch.Size([100, 1])\n",
      "x1,x2 siiize torch.Size([100, 1]) torch.Size([100, 1])\n",
      "x1,x2 siiize torch.Size([100, 1]) torch.Size([100, 1])\n",
      "x1,x2 siiize torch.Size([100, 1]) torch.Size([100, 1])\n",
      "x1,x2 siiize torch.Size([100, 1]) torch.Size([100, 1])\n",
      "x1,x2 siiize torch.Size([100, 1]) torch.Size([100, 1])\n",
      "x1,x2 siiize torch.Size([100, 1]) torch.Size([100, 1])\n",
      "x1,x2 siiize torch.Size([100, 1]) torch.Size([100, 1])\n",
      "x1,x2 siiize torch.Size([100, 1]) torch.Size([100, 1])\n",
      "x1,x2 siiize torch.Size([100, 1]) torch.Size([100, 1])\n",
      "x1,x2 siiize torch.Size([100, 1]) torch.Size([100, 1])\n",
      "x1,x2 siiize torch.Size([100, 1]) torch.Size([100, 1])\n",
      "x1,x2 siiize torch.Size([100, 1]) torch.Size([100, 1])\n",
      "x1,x2 siiize torch.Size([100, 1]) torch.Size([100, 1])\n",
      "x1,x2 siiize torch.Size([100, 1]) torch.Size([100, 1])\n",
      "x1,x2 siiize torch.Size([100, 1]) torch.Size([100, 1])\n",
      "x1,x2 siiize torch.Size([100, 1]) torch.Size([100, 1])\n",
      "x1,x2 siiize torch.Size([100, 1]) torch.Size([100, 1])\n",
      "x1,x2 siiize torch.Size([100, 1]) torch.Size([100, 1])\n",
      "x1,x2 siiize torch.Size([100, 1]) torch.Size([100, 1])\n",
      "x1,x2 siiize torch.Size([100, 1]) torch.Size([100, 1])\n",
      "x1,x2 siiize torch.Size([100, 1]) torch.Size([100, 1])\n",
      "x1,x2 siiize torch.Size([100, 1]) torch.Size([100, 1])\n",
      "x1,x2 siiize torch.Size([100, 1]) torch.Size([100, 1])\n",
      "x1,x2 siiize torch.Size([100, 1]) torch.Size([100, 1])\n",
      "x1,x2 siiize torch.Size([100, 1]) torch.Size([100, 1])\n",
      "x1,x2 siiize torch.Size([51, 1]) torch.Size([151, 1])\n",
      "x1,x2 siiize torch.Size([100, 1]) torch.Size([100, 1])\n"
     ]
    },
    {
     "data": {
      "image/png": "[encoded data removed]",
      "text/plain": [
       "<Figure size 288x216 with 1 Axes>"
      ]
     },
     "metadata": {
      "needs_background": "light"
     },
     "output_type": "display_data"
    }
   ],
   "source": [
    "# initialize likelihood and model\n",
    "likelihood = gpytorch.likelihoods.GaussianLikelihood()\n",
    "model = FirstGPModel(train_x, train_y, likelihood)\n",
    "\n",
    "# set to training mode and train\n",
    "model.train()\n",
    "likelihood.train()\n",
    "train(model, likelihood)\n",
    "\n",
    "# Get into evaluation (predictive posterior) mode and predict\n",
    "model.eval()\n",
    "likelihood.eval()\n",
    "observed_pred = predict(model, likelihood)\n",
    "# plot results\n",
    "plot(observed_pred)"
   ]
  },
  {
   "cell_type": "code",
   "execution_count": null,
   "metadata": {},
   "outputs": [],
   "source": []
  }
 ],
 "metadata": {
  "interpreter": {
   "hash": "3b54cb4d83655428105eabb77a9cd1898504607119e0ebf088afaf3437f4d048"
  },
  "kernelspec": {
   "display_name": "Python 3.8.5 ('explo')",
   "language": "python",
   "name": "python3"
  },
  "language_info": {
   "codemirror_mode": {
    "name": "ipython",
    "version": 3
   },
   "file_extension": ".py",
   "mimetype": "text/x-python",
   "name": "python",
   "nbconvert_exporter": "python",
   "pygments_lexer": "ipython3",
   "version": "3.8.13"
  },
  "orig_nbformat": 4
 },
 "nbformat": 4,
 "nbformat_minor": 2
}
