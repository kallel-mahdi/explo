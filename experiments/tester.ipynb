{
 "cells": [
  {
   "cell_type": "code",
   "execution_count": 1,
   "metadata": {},
   "outputs": [
    {
     "name": "stdout",
     "output_type": "stream",
     "text": [
      "/home/q123/Desktop/explo\n"
     ]
    },
    {
     "name": "stderr",
     "output_type": "stream",
     "text": [
      "/home/q123/miniconda3/envs/explo/lib/python3.8/site-packages/tqdm/auto.py:22: TqdmWarning: IProgress not found. Please update jupyter and ipywidgets. See https://ipywidgets.readthedocs.io/en/stable/user_install.html\n",
      "  from .autonotebook import tqdm as notebook_tqdm\n"
     ]
    }
   ],
   "source": [
    "%cd /home/q123/Desktop/explo\n",
    "\n",
    "import torch \n",
    "import gpytorch \n",
    "import logging\n",
    "import logging.config\n",
    "\n",
    "from src.helpers import setup_experiment\n",
    "from src.gibo.optim import GIBOptimizer\n",
    "from src.optim import BOptimizer\n",
    "from src.config import get_configs\n",
    "\n",
    "logging.config.fileConfig('logging.conf')\n",
    "# create root logger\n",
    "logger = logging.getLogger()"
   ]
  },
  {
   "cell_type": "code",
   "execution_count": 2,
   "metadata": {},
   "outputs": [
    {
     "name": "stderr",
     "output_type": "stream",
     "text": [
      "/home/q123/miniconda3/envs/explo/lib/python3.8/site-packages/gym/envs/registration.py:505: UserWarning: \u001b[33mWARN: The environment Swimmer-v2 is out of date. You should consider upgrading to version `v3` with the environment ID `Swimmer-v3`.\u001b[0m\n",
      "  logger.warn(\n"
     ]
    },
    {
     "name": "stdout",
     "output_type": "stream",
     "text": [
      "MathLog.src.helpers : WARNING : MLP dimensions : [8, 2]\n"
     ]
    },
    {
     "ename": "AttributeError",
     "evalue": "cannot assign module before Module.__init__() call",
     "output_type": "error",
     "traceback": [
      "\u001b[0;31m---------------------------------------------------------------------------\u001b[0m",
      "\u001b[0;31mAttributeError\u001b[0m                            Traceback (most recent call last)",
      "\u001b[1;32m/home/q123/Desktop/explo/experiments/tester.ipynb Cell 2'\u001b[0m in \u001b[0;36m<cell line: 7>\u001b[0;34m()\u001b[0m\n\u001b[1;32m      <a href='vscode-notebook-cell:/home/q123/Desktop/explo/experiments/tester.ipynb#ch0000001?line=3'>4</a>\u001b[0m kernel_name \u001b[39m=\u001b[39m \u001b[39m\"\u001b[39m\u001b[39mgrid\u001b[39m\u001b[39m\"\u001b[39m\n\u001b[1;32m      <a href='vscode-notebook-cell:/home/q123/Desktop/explo/experiments/tester.ipynb#ch0000001?line=5'>6</a>\u001b[0m env_config,likelihood_config,kernel_config,_,_ \u001b[39m=\u001b[39m get_configs(env_name,kernel_name)\n\u001b[0;32m----> <a href='vscode-notebook-cell:/home/q123/Desktop/explo/experiments/tester.ipynb#ch0000001?line=6'>7</a>\u001b[0m model,objective_env \u001b[39m=\u001b[39m setup_experiment(env_config,kernel_config,likelihood_config)\n\u001b[1;32m      <a href='vscode-notebook-cell:/home/q123/Desktop/explo/experiments/tester.ipynb#ch0000001?line=7'>8</a>\u001b[0m tester \u001b[39m=\u001b[39m Tester(model,objective_env,\n\u001b[1;32m      <a href='vscode-notebook-cell:/home/q123/Desktop/explo/experiments/tester.ipynb#ch0000001?line=8'>9</a>\u001b[0m                  local_opt \u001b[39m=\u001b[39m\u001b[39m\"\u001b[39m\u001b[39m/home/q123/Desktop/explo/local_optima/\u001b[39m\u001b[39m\"\u001b[39m\u001b[39m+\u001b[39menv_name,\n\u001b[1;32m     <a href='vscode-notebook-cell:/home/q123/Desktop/explo/experiments/tester.ipynb#ch0000001?line=9'>10</a>\u001b[0m                  use_opt_states \u001b[39m=\u001b[39m \u001b[39mTrue\u001b[39;00m,\n\u001b[1;32m     <a href='vscode-notebook-cell:/home/q123/Desktop/explo/experiments/tester.ipynb#ch0000001?line=10'>11</a>\u001b[0m                  delta \u001b[39m=\u001b[39m\u001b[39m1e-1\u001b[39m,\n\u001b[1;32m     <a href='vscode-notebook-cell:/home/q123/Desktop/explo/experiments/tester.ipynb#ch0000001?line=11'>12</a>\u001b[0m                  n_train\u001b[39m=\u001b[39m\u001b[39m2\u001b[39m,n_test\u001b[39m=\u001b[39m\u001b[39m2\u001b[39m,n_episodes\u001b[39m=\u001b[39m\u001b[39m5\u001b[39m)\n\u001b[1;32m     <a href='vscode-notebook-cell:/home/q123/Desktop/explo/experiments/tester.ipynb#ch0000001?line=13'>14</a>\u001b[0m train_data,train_pred,test_data,test_pred,tmp \u001b[39m=\u001b[39m tester\u001b[39m.\u001b[39mrun()\n",
      "File \u001b[0;32m~/Desktop/explo/src/helpers.py:69\u001b[0m, in \u001b[0;36msetup_experiment\u001b[0;34m(env_config, kernel_config, likelihood_config)\u001b[0m\n\u001b[1;32m     <a href='file:///home/q123/Desktop/explo/src/helpers.py?line=65'>66</a>\u001b[0m train_x,train_y,train_s \u001b[39m=\u001b[39m get_initial_data(mlp,objective_env,n_init)\n\u001b[1;32m     <a href='file:///home/q123/Desktop/explo/src/helpers.py?line=67'>68</a>\u001b[0m \u001b[39m# initialize likelihood and model\u001b[39;00m\n\u001b[0;32m---> <a href='file:///home/q123/Desktop/explo/src/helpers.py?line=68'>69</a>\u001b[0m model \u001b[39m=\u001b[39m DEGP(train_x\u001b[39m=\u001b[39;49mtrain_x,train_y\u001b[39m=\u001b[39;49mtrain_y,train_s\u001b[39m=\u001b[39;49mtrain_s,\n\u001b[1;32m     <a href='file:///home/q123/Desktop/explo/src/helpers.py?line=69'>70</a>\u001b[0m              kernel_config\u001b[39m=\u001b[39;49mkernel_config,likelihood_config\u001b[39m=\u001b[39;49mlikelihood_config,\n\u001b[1;32m     <a href='file:///home/q123/Desktop/explo/src/helpers.py?line=70'>71</a>\u001b[0m              mlp \u001b[39m=\u001b[39;49mmlp)\n\u001b[1;32m     <a href='file:///home/q123/Desktop/explo/src/helpers.py?line=72'>73</a>\u001b[0m \u001b[39mreturn\u001b[39;00m model,objective_env\n",
      "File \u001b[0;32m~/Desktop/explo/src/gp.py:104\u001b[0m, in \u001b[0;36mDEGP.__init__\u001b[0;34m(self, *args, **kwargs)\u001b[0m\n\u001b[1;32m    <a href='file:///home/q123/Desktop/explo/src/gp.py?line=99'>100</a>\u001b[0m \u001b[39mdef\u001b[39;00m \u001b[39m__init__\u001b[39m(\u001b[39mself\u001b[39m,\u001b[39m*\u001b[39margs,\u001b[39m*\u001b[39m\u001b[39m*\u001b[39mkwargs):\n\u001b[1;32m    <a href='file:///home/q123/Desktop/explo/src/gp.py?line=101'>102</a>\u001b[0m     \u001b[39m\"\"\"Inits GP model with data and a Gaussian likelihood.\"\"\"\u001b[39;00m\n\u001b[0;32m--> <a href='file:///home/q123/Desktop/explo/src/gp.py?line=103'>104</a>\u001b[0m     \u001b[39msuper\u001b[39;49m()\u001b[39m.\u001b[39;49m\u001b[39m__init__\u001b[39;49m(\u001b[39m*\u001b[39;49margs,\u001b[39m*\u001b[39;49m\u001b[39m*\u001b[39;49mkwargs)\n",
      "File \u001b[0;32m~/Desktop/explo/src/gp.py:43\u001b[0m, in \u001b[0;36mMyGP.__init__\u001b[0;34m(self, train_x, train_y, train_s, kernel_config, likelihood_config, mlp)\u001b[0m\n\u001b[1;32m     <a href='file:///home/q123/Desktop/explo/src/gp.py?line=39'>40</a>\u001b[0m ExactGP\u001b[39m.\u001b[39m\u001b[39m__init__\u001b[39m(\u001b[39mself\u001b[39m,train_x, train_y, likelihood)\n\u001b[1;32m     <a href='file:///home/q123/Desktop/explo/src/gp.py?line=41'>42</a>\u001b[0m \u001b[39mself\u001b[39m\u001b[39m.\u001b[39mmean_module \u001b[39m=\u001b[39m ConstantMean() \u001b[39m## prior mean = 0\u001b[39;00m\n\u001b[0;32m---> <a href='file:///home/q123/Desktop/explo/src/gp.py?line=42'>43</a>\u001b[0m \u001b[39mself\u001b[39m\u001b[39m.\u001b[39mcovar_module \u001b[39m=\u001b[39m setup_kernel(kernel_config,mlp\u001b[39m=\u001b[39;49mmlp,train_s\u001b[39m=\u001b[39;49mtrain_s)\n\u001b[1;32m     <a href='file:///home/q123/Desktop/explo/src/gp.py?line=44'>45</a>\u001b[0m \u001b[39mself\u001b[39m\u001b[39m.\u001b[39mN \u001b[39m=\u001b[39m train_x\u001b[39m.\u001b[39mshape[\u001b[39m0\u001b[39m]\n\u001b[1;32m     <a href='file:///home/q123/Desktop/explo/src/gp.py?line=45'>46</a>\u001b[0m \u001b[39mself\u001b[39m\u001b[39m.\u001b[39mD \u001b[39m=\u001b[39m train_x\u001b[39m.\u001b[39mshape[\u001b[39m1\u001b[39m]\n",
      "File \u001b[0;32m~/Desktop/explo/src/kernels.py:233\u001b[0m, in \u001b[0;36msetup_kernel\u001b[0;34m(kernel_config, mlp, train_s)\u001b[0m\n\u001b[1;32m    <a href='file:///home/q123/Desktop/explo/src/kernels.py?line=228'>229</a>\u001b[0m     kernel \u001b[39m=\u001b[39m MyRBFKernel(\u001b[39m*\u001b[39m\u001b[39m*\u001b[39mkernel_config)\n\u001b[1;32m    <a href='file:///home/q123/Desktop/explo/src/kernels.py?line=230'>231</a>\u001b[0m \u001b[39melif\u001b[39;00m kernel_name \u001b[39m==\u001b[39m \u001b[39m\"\u001b[39m\u001b[39mgrid\u001b[39m\u001b[39m\"\u001b[39m:\n\u001b[0;32m--> <a href='file:///home/q123/Desktop/explo/src/kernels.py?line=232'>233</a>\u001b[0m     kernel \u001b[39m=\u001b[39m GridKernel(\u001b[39m*\u001b[39;49m\u001b[39m*\u001b[39;49mkernel_config,mlp\u001b[39m=\u001b[39;49mmlp,train_s\u001b[39m=\u001b[39;49mtrain_s)\n\u001b[1;32m    <a href='file:///home/q123/Desktop/explo/src/kernels.py?line=234'>235</a>\u001b[0m \u001b[39melse\u001b[39;00m : \u001b[39mraise\u001b[39;00m \u001b[39mValueError\u001b[39;00m(\u001b[39m\"\u001b[39m\u001b[39mUnknown kernel\u001b[39m\u001b[39m\"\u001b[39m)\n\u001b[1;32m    <a href='file:///home/q123/Desktop/explo/src/kernels.py?line=236'>237</a>\u001b[0m \u001b[39mreturn\u001b[39;00m kernel\n",
      "File \u001b[0;32m~/Desktop/explo/src/kernels.py:151\u001b[0m, in \u001b[0;36mGridKernel.__init__\u001b[0;34m(self, *args, **kwargs)\u001b[0m\n\u001b[1;32m    <a href='file:///home/q123/Desktop/explo/src/kernels.py?line=148'>149</a>\u001b[0m \u001b[39mdef\u001b[39;00m \u001b[39m__init__\u001b[39m(\u001b[39mself\u001b[39m,\u001b[39m*\u001b[39margs,\u001b[39m*\u001b[39m\u001b[39m*\u001b[39mkwargs):\n\u001b[0;32m--> <a href='file:///home/q123/Desktop/explo/src/kernels.py?line=150'>151</a>\u001b[0m     \u001b[39msuper\u001b[39;49m(GridKernel, \u001b[39mself\u001b[39;49m)\u001b[39m.\u001b[39;49m\u001b[39m__init__\u001b[39;49m(\u001b[39m*\u001b[39;49margs,\u001b[39m*\u001b[39;49m\u001b[39m*\u001b[39;49mkwargs)\n",
      "File \u001b[0;32m~/Desktop/explo/src/kernels.py:87\u001b[0m, in \u001b[0;36mStateKernel.__init__\u001b[0;34m(self, mlp, train_s, ard_num_dims, use_ard, noise_constraint, noise_hyperprior, lengthscale_constraint, lengthscale_hyperprior, outputscale_constraint, outputscale_hyperprior)\u001b[0m\n\u001b[1;32m     <a href='file:///home/q123/Desktop/explo/src/kernels.py?line=84'>85</a>\u001b[0m \u001b[39mself\u001b[39m\u001b[39m.\u001b[39margs \u001b[39m=\u001b[39m deepcopy(\u001b[39mlocals\u001b[39m())\n\u001b[1;32m     <a href='file:///home/q123/Desktop/explo/src/kernels.py?line=85'>86</a>\u001b[0m \u001b[39mself\u001b[39m\u001b[39m.\u001b[39mn_actions \u001b[39m=\u001b[39m mlp\u001b[39m.\u001b[39mn_actions\n\u001b[0;32m---> <a href='file:///home/q123/Desktop/explo/src/kernels.py?line=86'>87</a>\u001b[0m \u001b[39mself\u001b[39m\u001b[39m.\u001b[39mmlp \u001b[39m=\u001b[39m mlp\n\u001b[1;32m     <a href='file:///home/q123/Desktop/explo/src/kernels.py?line=87'>88</a>\u001b[0m \u001b[39mself\u001b[39m\u001b[39m.\u001b[39mreset(train_s)\n",
      "File \u001b[0;32m~/miniconda3/envs/explo/lib/python3.8/site-packages/torch/nn/modules/module.py:1159\u001b[0m, in \u001b[0;36mModule.__setattr__\u001b[0;34m(self, name, value)\u001b[0m\n\u001b[1;32m   <a href='file:///home/q123/miniconda3/envs/explo/lib/python3.8/site-packages/torch/nn/modules/module.py?line=1156'>1157</a>\u001b[0m \u001b[39mif\u001b[39;00m \u001b[39misinstance\u001b[39m(value, Module):\n\u001b[1;32m   <a href='file:///home/q123/miniconda3/envs/explo/lib/python3.8/site-packages/torch/nn/modules/module.py?line=1157'>1158</a>\u001b[0m     \u001b[39mif\u001b[39;00m modules \u001b[39mis\u001b[39;00m \u001b[39mNone\u001b[39;00m:\n\u001b[0;32m-> <a href='file:///home/q123/miniconda3/envs/explo/lib/python3.8/site-packages/torch/nn/modules/module.py?line=1158'>1159</a>\u001b[0m         \u001b[39mraise\u001b[39;00m \u001b[39mAttributeError\u001b[39;00m(\n\u001b[1;32m   <a href='file:///home/q123/miniconda3/envs/explo/lib/python3.8/site-packages/torch/nn/modules/module.py?line=1159'>1160</a>\u001b[0m             \u001b[39m\"\u001b[39m\u001b[39mcannot assign module before Module.__init__() call\u001b[39m\u001b[39m\"\u001b[39m)\n\u001b[1;32m   <a href='file:///home/q123/miniconda3/envs/explo/lib/python3.8/site-packages/torch/nn/modules/module.py?line=1160'>1161</a>\u001b[0m     remove_from(\u001b[39mself\u001b[39m\u001b[39m.\u001b[39m\u001b[39m__dict__\u001b[39m, \u001b[39mself\u001b[39m\u001b[39m.\u001b[39m_parameters, \u001b[39mself\u001b[39m\u001b[39m.\u001b[39m_buffers, \u001b[39mself\u001b[39m\u001b[39m.\u001b[39m_non_persistent_buffers_set)\n\u001b[1;32m   <a href='file:///home/q123/miniconda3/envs/explo/lib/python3.8/site-packages/torch/nn/modules/module.py?line=1161'>1162</a>\u001b[0m     modules[name] \u001b[39m=\u001b[39m value\n",
      "\u001b[0;31mAttributeError\u001b[0m: cannot assign module before Module.__init__() call"
     ]
    }
   ],
   "source": [
    "from src.tester import Tester \n",
    "\n",
    "env_name = \"Swimmer-v2\"\n",
    "kernel_name = \"grid\"\n",
    "\n",
    "env_config,likelihood_config,kernel_config,_,_ = get_configs(env_name,kernel_name)\n",
    "model,objective_env = setup_experiment(env_config,kernel_config,likelihood_config)\n",
    "tester = Tester(model,objective_env,\n",
    "                 local_opt =\"/home/q123/Desktop/explo/local_optima/\"+env_name,\n",
    "                 use_opt_states = True,\n",
    "                 delta =1e-1,\n",
    "                 n_train=2,n_test=2,n_episodes=5)\n",
    "\n",
    "train_data,train_pred,test_data,test_pred,tmp = tester.run()"
   ]
  },
  {
   "cell_type": "code",
   "execution_count": null,
   "metadata": {},
   "outputs": [
    {
     "name": "stdout",
     "output_type": "stream",
     "text": [
      "torch.Size([1001, 8])\n",
      "torch.Size([500, 8])\n"
     ]
    }
   ],
   "source": [
    "local_opt = tester.local_opt\n",
    "r,states = objective_env(local_opt.reshape(1,-1),n_episodes=5)\n",
    "print(states.shape)\n",
    "print(model.covar_module.states.shape)"
   ]
  },
  {
   "cell_type": "code",
   "execution_count": null,
   "metadata": {},
   "outputs": [
    {
     "name": "stdout",
     "output_type": "stream",
     "text": [
      "MathLog.src.helpers : WARNING : MLP dimensions : [8, 2]\n"
     ]
    },
    {
     "name": "stderr",
     "output_type": "stream",
     "text": [
      "/home/q123/miniconda3/envs/explo/lib/python3.8/site-packages/gym/envs/registration.py:505: UserWarning: \u001b[33mWARN: The environment Swimmer-v2 is out of date. You should consider upgrading to version `v3` with the environment ID `Swimmer-v3`.\u001b[0m\n",
      "  logger.warn(\n"
     ]
    },
    {
     "ename": "TypeError",
     "evalue": "__init__() missing 1 required positional argument: 'delta'",
     "output_type": "error",
     "traceback": [
      "\u001b[0;31m---------------------------------------------------------------------------\u001b[0m",
      "\u001b[0;31mTypeError\u001b[0m                                 Traceback (most recent call last)",
      "\u001b[1;32m/home/q123/Desktop/explo/experiments/tester.ipynb Cell 4'\u001b[0m in \u001b[0;36m<cell line: 8>\u001b[0;34m()\u001b[0m\n\u001b[1;32m      <a href='vscode-notebook-cell:/home/q123/Desktop/explo/experiments/tester.ipynb#ch0000003?line=5'>6</a>\u001b[0m env_config,likelihood_config,kernel_config,_,_ \u001b[39m=\u001b[39m get_configs(env_name,kernel_name)\n\u001b[1;32m      <a href='vscode-notebook-cell:/home/q123/Desktop/explo/experiments/tester.ipynb#ch0000003?line=6'>7</a>\u001b[0m model,objective_env \u001b[39m=\u001b[39m setup_experiment(env_config,kernel_config,likelihood_config)\n\u001b[0;32m----> <a href='vscode-notebook-cell:/home/q123/Desktop/explo/experiments/tester.ipynb#ch0000003?line=7'>8</a>\u001b[0m tester \u001b[39m=\u001b[39m Tester(model,objective_env,\n\u001b[1;32m      <a href='vscode-notebook-cell:/home/q123/Desktop/explo/experiments/tester.ipynb#ch0000003?line=8'>9</a>\u001b[0m                  \u001b[39m\"\u001b[39;49m\u001b[39m/home/q123/Desktop/explo/local_optima/\u001b[39;49m\u001b[39m\"\u001b[39;49m\u001b[39m+\u001b[39;49menv_name,\u001b[39m1e-1\u001b[39;49m,\n\u001b[1;32m     <a href='vscode-notebook-cell:/home/q123/Desktop/explo/experiments/tester.ipynb#ch0000003?line=9'>10</a>\u001b[0m                  n_train\u001b[39m=\u001b[39;49m\u001b[39m100\u001b[39;49m,n_test\u001b[39m=\u001b[39;49m\u001b[39m100\u001b[39;49m,n_episodes\u001b[39m=\u001b[39;49m\u001b[39m5\u001b[39;49m)\n\u001b[1;32m     <a href='vscode-notebook-cell:/home/q123/Desktop/explo/experiments/tester.ipynb#ch0000003?line=11'>12</a>\u001b[0m train_data,train_pred,test_data,test_pred,tmp \u001b[39m=\u001b[39m tester\u001b[39m.\u001b[39mrun()\n",
      "\u001b[0;31mTypeError\u001b[0m: __init__() missing 1 required positional argument: 'delta'"
     ]
    }
   ],
   "source": [
    "from src.tester import Tester \n",
    "\n",
    "env_name = \"Swimmer-v2\"\n",
    "kernel_name = \"rbf\"\n",
    "\n",
    "env_config,likelihood_config,kernel_config,_,_ = get_configs(env_name,kernel_name)\n",
    "model,objective_env = setup_experiment(env_config,kernel_config,likelihood_config)\n",
    "tester = Tester(model,objective_env,\n",
    "                 \"/home/q123/Desktop/explo/local_optima/\"+env_name,1e-1,\n",
    "                 \n",
    "                 n_train=100,n_test=100,n_episodes=5)\n",
    "\n",
    "train_data,train_pred,test_data,test_pred,tmp = tester.run()"
   ]
  },
  {
   "cell_type": "code",
   "execution_count": null,
   "metadata": {},
   "outputs": [
    {
     "ename": "ModuleNotFoundError",
     "evalue": "No module named 'src'",
     "output_type": "error",
     "traceback": [
      "\u001b[0;31m---------------------------------------------------------------------------\u001b[0m",
      "\u001b[0;31mModuleNotFoundError\u001b[0m                       Traceback (most recent call last)",
      "\u001b[1;32m/home/q123/Desktop/explo/experiments/tester(grid).ipynb Cell 4'\u001b[0m in \u001b[0;36m<cell line: 1>\u001b[0;34m()\u001b[0m\n\u001b[0;32m----> <a href='vscode-notebook-cell:/home/q123/Desktop/explo/experiments/tester%28grid%29.ipynb#ch0000003?line=0'>1</a>\u001b[0m \u001b[39mfrom\u001b[39;00m \u001b[39msrc\u001b[39;00m\u001b[39m.\u001b[39;00m\u001b[39mtester\u001b[39;00m \u001b[39mimport\u001b[39;00m Tester \n\u001b[1;32m      <a href='vscode-notebook-cell:/home/q123/Desktop/explo/experiments/tester%28grid%29.ipynb#ch0000003?line=2'>3</a>\u001b[0m env_name \u001b[39m=\u001b[39m \u001b[39m\"\u001b[39m\u001b[39mCartPole-v1\u001b[39m\u001b[39m\"\u001b[39m\n\u001b[1;32m      <a href='vscode-notebook-cell:/home/q123/Desktop/explo/experiments/tester%28grid%29.ipynb#ch0000003?line=3'>4</a>\u001b[0m kernel_name \u001b[39m=\u001b[39m \u001b[39m\"\u001b[39m\u001b[39mgrid\u001b[39m\u001b[39m\"\u001b[39m\n",
      "\u001b[0;31mModuleNotFoundError\u001b[0m: No module named 'src'"
     ]
    }
   ],
   "source": [
    "from src.tester import Tester \n",
    "\n",
    "env_name = \"CartPole-v1\"\n",
    "kernel_name = \"grid\"\n",
    "\n",
    "env_config,likelihood_config,kernel_config,_,_ = get_configs(env_name,kernel_name)\n",
    "model,objective_env = setup_experiment(env_config,kernel_config,likelihood_config)\n",
    "tester = Tester(model,objective_env,\n",
    "                 \"/home/q123/Desktop/explo/local_optima/\"+env_name,1e-2,\n",
    "                 n_train=10,n_test=10,n_episodes=5)\n",
    "\n",
    "train_data,train_pred,test_data,test_pred,tmp = tester.run()"
   ]
  },
  {
   "cell_type": "code",
   "execution_count": null,
   "metadata": {},
   "outputs": [
    {
     "name": "stdout",
     "output_type": "stream",
     "text": [
      "MathLog.src.helpers : WARNING : MLP dimensions : [4, 1]\n",
      "local_y 0.999994158744812 local_opt tensor([ 0.1845, -0.1644,  0.8678,  0.5544,  0.0036])\n",
      " intial local opt reward : 0.6513976782560349\n",
      "Generating data\n",
      "Done generating data\n",
      "##############################\n",
      "covar_lengthscale max 0.5 / min 0.5                  covar_outputscale 1.9999998807907104                 noise 0.3050000071525574\n",
      "##############################\n",
      "##############################\n",
      "covar_lengthscale max 0.5307373404502869 / min 0.031301017850637436                  covar_outputscale 0.0383976586163044                 noise 0.012775972485542297\n",
      "##############################\n"
     ]
    },
    {
     "data": {
      "image/png": "[encoded data removed]",
      "text/plain": [
       "<Figure size 432x288 with 1 Axes>"
      ]
     },
     "metadata": {
      "needs_background": "light"
     },
     "output_type": "display_data"
    },
    {
     "data": {
      "image/png": "[encoded data removed]",
      "text/plain": [
       "<Figure size 432x288 with 1 Axes>"
      ]
     },
     "metadata": {
      "needs_background": "light"
     },
     "output_type": "display_data"
    }
   ],
   "source": [
    "from src.tester import Tester \n",
    "\n",
    "env_name = \"CartPole-v1\"\n",
    "kernel_name = \"rbf\"\n",
    "\n",
    "env_config,likelihood_config,kernel_config,_,_ = get_configs(env_name,kernel_name)\n",
    "model,objective_env = setup_experiment(env_config,kernel_config,likelihood_config)\n",
    "tester = Tester(model,objective_env,\n",
    "                 \"/home/q123/Desktop/explo/local_optima/\"+env_name,1e-2,\n",
    "                 n_train=100,n_test=100,n_episodes=5)\n",
    "\n",
    "train_data,train_pred,test_data,test_pred,tmp = tester.run()"
   ]
  },
  {
   "cell_type": "code",
   "execution_count": null,
   "metadata": {},
   "outputs": [
    {
     "name": "stdout",
     "output_type": "stream",
     "text": [
      "tensor([0.0200])\n",
      "tensor([0.0200])\n",
      "tensor([0.0200])\n",
      "tensor([0.0220])\n",
      "tensor([0.0220])\n",
      "tensor([0.0200])\n",
      "tensor([0.0220])\n",
      "tensor([0.0220])\n",
      "tensor([0.0180])\n",
      "tensor([0.0220])\n"
     ]
    }
   ],
   "source": [
    "params = torch.rand(5)\n",
    "\n",
    "for i in range(10):\n",
    "   reward,_ =objective_env(params)\n",
    "   print(reward)"
   ]
  }
 ],
 "metadata": {
  "interpreter": {
   "hash": "3b54cb4d83655428105eabb77a9cd1898504607119e0ebf088afaf3437f4d048"
  },
  "kernelspec": {
   "display_name": "Python 3.8.13 ('explo')",
   "language": "python",
   "name": "python3"
  },
  "language_info": {
   "codemirror_mode": {
    "name": "ipython",
    "version": 3
   },
   "file_extension": ".py",
   "mimetype": "text/x-python",
   "name": "python",
   "nbconvert_exporter": "python",
   "pygments_lexer": "ipython3",
   "version": "3.8.13"
  },
  "orig_nbformat": 4
 },
 "nbformat": 4,
 "nbformat_minor": 2
}
