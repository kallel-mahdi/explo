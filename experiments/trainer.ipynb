{
 "cells": [
  {
   "cell_type": "code",
   "execution_count": 1,
   "metadata": {},
   "outputs": [
    {
     "name": "stdout",
     "output_type": "stream",
     "text": [
      "/home/q123/Desktop/explo\n"
     ]
    },
    {
     "name": "stderr",
     "output_type": "stream",
     "text": [
      "/home/q123/miniconda3/envs/explo/lib/python3.8/site-packages/tqdm/auto.py:22: TqdmWarning: IProgress not found. Please update jupyter and ipywidgets. See https://ipywidgets.readthedocs.io/en/stable/user_install.html\n",
      "  from .autonotebook import tqdm as notebook_tqdm\n"
     ]
    }
   ],
   "source": [
    "%cd /home/q123/Desktop/explo\n",
    "\n",
    "import torch \n",
    "import gpytorch \n",
    "import logging\n",
    "import logging.config\n",
    "\n",
    "from src.helpers import setup_experiment\n",
    "from src.trainer import Trainer\n",
    "from src.gibo.optim import GIBOptimizer\n",
    "from src.optim import BOptimizer\n",
    "from src.config import get_configs\n",
    "\n",
    "logging.config.fileConfig('logging.conf')\n",
    "# create root logger\n",
    "logger = logging.getLogger()"
   ]
  },
  {
   "cell_type": "code",
   "execution_count": 2,
   "metadata": {},
   "outputs": [
    {
     "name": "stderr",
     "output_type": "stream",
     "text": [
      "/home/q123/miniconda3/envs/explo/lib/python3.8/site-packages/gym/envs/registration.py:505: UserWarning: \u001b[33mWARN: The environment Swimmer-v2 is out of date. You should consider upgrading to version `v3` with the environment ID `Swimmer-v3`.\u001b[0m\n",
      "  logger.warn(\n"
     ]
    },
    {
     "name": "stdout",
     "output_type": "stream",
     "text": [
      "MathLog.src.helpers : WARNING : MLP dimensions : [8, 2]\n",
      " Gibo will use 32 last points to fit GP and 16 info samples\n",
      "current 0.08889798074960709 / max 0.6505747437477112 /batch_mean 0.1733204424381256 /batch_max 0.49307748675346375 \n",
      "##############################\n",
      "covar_lengthscale max 0.40576350688934326 / min 0.33492717146873474                  covar_outputscale 0.009999999776482582                 noise 0.010000010952353477\n",
      "##############################\n",
      "current 0.7051029205322266 / max 0.7395650744438171 /batch_mean 0.5873931646347046 /batch_max 0.7051029205322266 \n",
      "##############################\n",
      "covar_lengthscale max 0.4117121696472168 / min 0.13497145473957062                  covar_outputscale 0.009999999776482582                 noise 0.010000010952353477\n",
      "##############################\n",
      "current 0.7011809945106506 / max 0.7474626898765564 /batch_mean 0.692450225353241 /batch_max 0.7189528942108154 \n",
      "##############################\n",
      "covar_lengthscale max 0.39676523208618164 / min 0.19768810272216797                  covar_outputscale 0.009999999776482582                 noise 0.010000010952353477\n",
      "##############################\n",
      "current 0.6854523420333862 / max 0.7522744536399841 /batch_mean 0.6779990196228027 /batch_max 0.7169780135154724 \n",
      "##############################\n",
      "covar_lengthscale max 0.41333329677581787 / min 0.38606756925582886                  covar_outputscale 0.009999999776482582                 noise 0.010000010952353477\n",
      "##############################\n",
      "current 0.6381861567497253 / max 0.8005271553993225 /batch_mean 0.6656315922737122 /batch_max 0.7308522462844849 \n",
      "##############################\n",
      "covar_lengthscale max 0.4126061797142029 / min 0.3867446482181549                  covar_outputscale 0.009999999776482582                 noise 0.010000010952353477\n",
      "##############################\n",
      "current 0.7167338132858276 / max 0.8120827078819275 /batch_mean 0.7029388546943665 /batch_max 0.7372415065765381 \n",
      "##############################\n",
      "covar_lengthscale max 0.4250342547893524 / min 0.3917931020259857                  covar_outputscale 0.009999999776482582                 noise 0.010000010952353477\n",
      "##############################\n",
      "current 0.7045672535896301 / max 0.8933025002479553 /batch_mean 0.7359436750411987 /batch_max 0.8933025002479553 \n",
      "##############################\n",
      "covar_lengthscale max 0.417730450630188 / min 0.3817847669124603                  covar_outputscale 0.009999999776482582                 noise 0.010000010952353477\n",
      "##############################\n",
      "current 0.9210881590843201 / max 0.9900626540184021 /batch_mean 0.9355618357658386 /batch_max 0.9719653725624084 \n",
      "##############################\n",
      "covar_lengthscale max 0.41726183891296387 / min 0.3715285062789917                  covar_outputscale 0.010000020265579224                 noise 0.010000010952353477\n",
      "##############################\n"
     ]
    }
   ],
   "source": [
    "env_name = \"Swimmer-v2\"\n",
    "kernel_name = \"rbf\"\n",
    "\n",
    "env_config,likelihood_config,kernel_config,optimizer_config,trainer_config = get_configs(env_name,kernel_name)\n",
    "model,objective_env = setup_experiment(env_config,kernel_config,likelihood_config)\n",
    "\n",
    "trainer_config = {\n",
    "        \"n_steps\" :100 ,\n",
    "        \"report_freq\":10,\n",
    "        \"save_best\":False,\n",
    "}\n",
    "\n",
    "### Chose optimizer \n",
    "#optimizer = BOptimizer(**optimizer_config)\n",
    "optimizer = GIBOptimizer(model,**optimizer_config)\n",
    "trainer = Trainer(model,objective_env,optimizer,**trainer_config)\n",
    "rslt= trainer.run()"
   ]
  }
 ],
 "metadata": {
  "interpreter": {
   "hash": "3b54cb4d83655428105eabb77a9cd1898504607119e0ebf088afaf3437f4d048"
  },
  "kernelspec": {
   "display_name": "Python 3.8.5 ('explo')",
   "language": "python",
   "name": "python3"
  },
  "language_info": {
   "codemirror_mode": {
    "name": "ipython",
    "version": 3
   },
   "file_extension": ".py",
   "mimetype": "text/x-python",
   "name": "python",
   "nbconvert_exporter": "python",
   "pygments_lexer": "ipython3",
   "version": "3.8.13"
  },
  "orig_nbformat": 4
 },
 "nbformat": 4,
 "nbformat_minor": 2
}
