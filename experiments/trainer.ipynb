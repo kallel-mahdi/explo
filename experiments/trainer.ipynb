{
 "cells": [
  {
   "cell_type": "code",
   "execution_count": null,
   "metadata": {},
   "outputs": [],
   "source": [
    "%cd /home/mkallel/explo/\n",
    "\n",
    "import torch \n",
    "import numpy as np\n",
    "import gpytorch \n",
    "import logging\n",
    "import logging.config\n",
    "\n",
    "from src.helpers import setup_experiment\n",
    "from src.trainer import Trainer\n",
    "from src.config import get_configs\n",
    "\n",
    "\n",
    "logging.config.fileConfig('logging.conf')\n",
    "# create root logger\n",
    "logger = logging.getLogger()\n",
    "print(\"hello\")\n",
    "\n",
    "from warnings import simplefilter \n",
    "simplefilter(action='ignore', category=DeprecationWarning)\n",
    "\n",
    "torch.set_num_threads(1)"
   ]
  },
  {
   "cell_type": "code",
   "execution_count": null,
   "metadata": {},
   "outputs": [],
   "source": [
    "seed = 10\n",
    "\n",
    "\n",
    "\n",
    "torch.set_num_threads(1)\n",
    "\n",
    "#env_name = \"CartPole-v1\" ## Action kernel + State_norm looks very well for cartpole\n",
    "env_name = \"Swimmer-v4\" ##  State_norm stabilizes training \n",
    "#env_name = \"Hopper-v2\"\n",
    "#env_name = \"Walker2d-v3\"\n",
    "\n",
    "\n",
    "kernel_name = \"rbfstate\" ## \"rbf\"\n",
    "#kernel_name = \"rbf\" ## \"rbf\"\n",
    "\n",
    "conf_grad = False\n",
    "norm_grad = True\n",
    "advantage_mean = False\n",
    "adaptive_lr = False\n",
    "\n",
    "run_name = kernel_name + str(seed)+\"_conf_grad\"*conf_grad+\"_norm_grad\"*norm_grad+\"_advantage\"*advantage_mean\n",
    "env_config,policy_config,likelihood_config,kernel_config,mean_config,optimizer_config,trainer_config = get_configs(env_name,kernel_name,\n",
    "use_ard=True,manipulate_state=True,\n",
    "conf_grad=conf_grad,norm_grad=norm_grad,advantage_mean=advantage_mean,adaptive_lr=False,\n",
    "wandb_logger=False,run_name=run_name)\n",
    "\n",
    "model,objective_env,optimizer = setup_experiment(env_config,mean_config,kernel_config,likelihood_config,policy_config,optimizer_config,\n",
    "                        seed=seed)\n",
    "\n",
    "trainer = Trainer(model,objective_env,optimizer,**trainer_config)\n",
    "trainer.run()\n",
    "\n",
    "### ADD LR SCHEDULAR ===> ENJOY WEEKEND :DDD\n",
    "\n"
   ]
  },
  {
   "cell_type": "code",
   "execution_count": null,
   "metadata": {},
   "outputs": [],
   "source": [
    "a = torch.rand(1,10,100)\n",
    "model.covar_module(a,a).evaluate()"
   ]
  },
  {
   "cell_type": "code",
   "execution_count": 37,
   "metadata": {},
   "outputs": [
    {
     "name": "stdout",
     "output_type": "stream",
     "text": [
      "tensor([[True, True],\n",
      "        [True, True],\n",
      "        [True, True]])\n"
     ]
    }
   ],
   "source": [
    "import torch\n",
    "\n",
    "d = 100\n",
    "a = torch.rand(3,5,d)\n",
    "b = torch.rand(2,5,d)\n",
    "k = torch.zeros(3,2)\n",
    "\n",
    "for i in range(d):\n",
    "    k*= torch.exp(-torch.cdist(a[...,i],b[...,i])**2)\n",
    "\n",
    "a1 = torch.flatten(a,start_dim=1)\n",
    "b1 = torch.flatten(b,start_dim=1)\n",
    "k1 = torch.exp(-torch.cdist(a1,b1)**2)\n",
    "\n",
    "print((k1-k)<1e-4)\n",
    "\n"
   ]
  },
  {
   "cell_type": "code",
   "execution_count": 4,
   "metadata": {},
   "outputs": [
    {
     "data": {
      "text/plain": [
       "array([534895718, 199900595, 862061404, 787846414, 996406378, 127521863,\n",
       "       423734972, 415968276, 670094950, 841095289])"
      ]
     },
     "execution_count": 4,
     "metadata": {},
     "output_type": "execute_result"
    }
   ],
   "source": [
    "import numpy as np\n",
    "\n",
    "np.random.seed(42)\n",
    "seeds = np.random.randint(low=0,high=2**30,size=(10,))\n",
    "seeds"
   ]
  },
  {
   "cell_type": "code",
   "execution_count": 27,
   "metadata": {},
   "outputs": [
    {
     "name": "stdout",
     "output_type": "stream",
     "text": [
      "tensor([[0.7451, 0.4519, 0.8520, 0.9092, 0.5902],\n",
      "        [0.1724, 0.6498, 0.6940, 0.3090, 0.2608],\n",
      "        [0.5382, 0.9240, 0.4726, 0.8161, 0.4965]])\n",
      "tensor([[0.7451, 0.4519, 0.8520, 0.9092, 0.5902],\n",
      "        [0.1724, 0.6498, 0.6940, 0.3090, 0.2608],\n",
      "        [0.5382, 0.9240, 0.4726, 0.8161, 0.4965]])\n"
     ]
    }
   ],
   "source": [
    "print(a[...,0])\n",
    "print(torch.flatten(a,start_dim=1))"
   ]
  },
  {
   "cell_type": "code",
   "execution_count": null,
   "metadata": {},
   "outputs": [],
   "source": [
    "from multiprocessing import Pool\n",
    "import wandb\n",
    "\n",
    "n = \n",
    "seeds = np.random.randint(low=0,high=2**30,size=(n,))\n",
    "seeds = [ int(i) for i in seeds]\n",
    "\n",
    "\n",
    "if __name__ == '__main__':\n",
    "\n",
    "    wandb.require(\"service\")\n",
    "    \n",
    "    with Pool(processes=n) as p:\n",
    "        p.map(f, seeds)\n",
    "\n",
    "    "
   ]
  },
  {
   "cell_type": "code",
   "execution_count": null,
   "metadata": {},
   "outputs": [],
   "source": [
    "type(seeds[0])"
   ]
  },
  {
   "cell_type": "code",
   "execution_count": null,
   "metadata": {},
   "outputs": [],
   "source": [
    "import scipy.stats as stats \n",
    "import numpy as np\n",
    "import matplotlib.pyplot as plt\n",
    "\n",
    "alpha = 1.25\n",
    "beta = 0.25\n",
    "x = np.linspace (0, 10, 2000) \n",
    "y1 = stats.gamma.pdf(x, a=alpha, scale=1/beta)\n",
    "plt.plot(x,y1)"
   ]
  },
  {
   "cell_type": "code",
   "execution_count": null,
   "metadata": {},
   "outputs": [],
   "source": [
    "import torch\n",
    "\n",
    "a = torch.rand(3,3)\n",
    "a_s = a.T@a\n",
    "\n",
    "f(a_s,m,c):\n",
    "\n",
    "    max(f(a_s,m,c),f(a_)\n",
    "\n",
    "\n",
    "\n",
    "\n",
    "def solve_qkp(a_s,c):\n",
    "\n",
    "    f(k)\n",
    "\n",
    "\n",
    "\n",
    "\n"
   ]
  },
  {
   "cell_type": "code",
   "execution_count": null,
   "metadata": {},
   "outputs": [],
   "source": [
    "f(m,w) = \n",
    "\n",
    "max(\n",
    "    \n",
    "###don't choose this item\n",
    "f(m-1,w)\n",
    "### choose this item\n",
    "f(m-1,w-w_m)+1 \n",
    "w_m = \n",
    "\n",
    "\n",
    "def f(m,w,A):\n",
    "\n",
    "\n",
    "\n",
    "    if m == len(x) or w ==0:\n",
    "\n",
    "        return 0"
   ]
  }
 ],
 "metadata": {
  "kernelspec": {
   "display_name": "boptim",
   "language": "python",
   "name": "python3"
  },
  "language_info": {
   "codemirror_mode": {
    "name": "ipython",
    "version": 3
   },
   "file_extension": ".py",
   "mimetype": "text/x-python",
   "name": "python",
   "nbconvert_exporter": "python",
   "pygments_lexer": "ipython3",
   "version": "3.10.4 | packaged by conda-forge | (main, Mar 24 2022, 17:39:04) [GCC 10.3.0]"
  },
  "orig_nbformat": 4,
  "vscode": {
   "interpreter": {
    "hash": "8389904c907846b71296796d17b1509d31543c622799a32225d90d0bb5700220"
   }
  }
 },
 "nbformat": 4,
 "nbformat_minor": 2
}
