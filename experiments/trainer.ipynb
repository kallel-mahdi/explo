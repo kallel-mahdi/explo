{
 "cells": [
  {
   "cell_type": "code",
   "execution_count": 1,
   "metadata": {},
   "outputs": [
    {
     "name": "stdout",
     "output_type": "stream",
     "text": [
      "/home/q123/Desktop/explo\n"
     ]
    },
    {
     "name": "stderr",
     "output_type": "stream",
     "text": [
      "/home/q123/miniconda3/envs/explo/lib/python3.8/site-packages/tqdm/auto.py:22: TqdmWarning: IProgress not found. Please update jupyter and ipywidgets. See https://ipywidgets.readthedocs.io/en/stable/user_install.html\n",
      "  from .autonotebook import tqdm as notebook_tqdm\n"
     ]
    }
   ],
   "source": [
    "%cd /home/q123/Desktop/explo\n",
    "\n",
    "import torch \n",
    "import gpytorch \n",
    "import logging\n",
    "import logging.config\n",
    "\n",
    "import yaml\n",
    "\n",
    "\n",
    "from src.config import insertion_config,insert\n",
    "from src.helpers import setup_experiment\n",
    "from src.trainer import Trainer\n",
    "from src.gibo.optim import GIBOptimizer\n",
    "from src.optim import BOptimizer\n",
    "\n",
    "logging.config.fileConfig('logging.conf')\n",
    "# create root logger\n",
    "logger = logging.getLogger()"
   ]
  },
  {
   "cell_type": "code",
   "execution_count": 2,
   "metadata": {},
   "outputs": [],
   "source": [
    "## Cartpole\n",
    "\n",
    "# env_config = {\n",
    "#         \"reward_scale\":500,\n",
    "#         \"reward_shift\":0,\n",
    "#         \"env_name\":\"CartPole-v1\",\n",
    "# }\n",
    "\n",
    "# Swimmer\n",
    "env_config = {\n",
    "        \"reward_scale\":350,\n",
    "        \"reward_shift\":0,\n",
    "        \"env_name\":\"Swimmer-v2\",\n",
    "}\n",
    "\n",
    "# ## hopper\n",
    "# env_config = {\n",
    "#         \"reward_scale\":1000,\n",
    "#         \"reward_shift\":1,\n",
    "#         \"env_name\":\"Hopper-v2\",\n",
    "# }\n"
   ]
  },
  {
   "cell_type": "code",
   "execution_count": 6,
   "metadata": {},
   "outputs": [],
   "source": [
    "\n",
    "n_init = 1\n",
    "\n",
    "likelihood_config = {\n",
    "        \"noise_hyperprior\":gpytorch.priors.torch_priors.UniformPrior(a=0.01,b=0.3),\n",
    "        \"noise_constraint\":gpytorch.constraints.constraints.Interval(1e-2,0.3)\n",
    "        #\"noise_constraint\":gpytorch.constraints.GreaterThan(0.1)\n",
    "        }\n",
    "\n",
    "kernel_config = {\n",
    "\n",
    "        \"kernel_name\":\"rbf\",\n",
    "        \n",
    "        ### default values \n",
    "        \"N_max\":10e6,\n",
    "        \"ard_num_dims\":1000,\n",
    "        \"use_ard\":True,\n",
    "        \n",
    "        ###### Cartpole\n",
    "        # \"ard_num_dims\":5,\n",
    "        # \"N_max\":20,\n",
    "\n",
    "        ###### Hopper\n",
    "        # \"ard_num_dims\":36,\n",
    "        # \"N_max\":48,\n",
    "        \n",
    "        ##### Swimmer\n",
    "        \"ard_num_dims\":18,\n",
    "        \"N_max\":32,\n",
    "        #########\n",
    "        \n",
    "        \"lengthscale_hyperprior\":gpytorch.priors.torch_priors.GammaPrior(3.0,6.0),\n",
    "        \"lengthscale_constraint\":gpytorch.constraints.constraints.GreaterThan(0.001),\n",
    "        \"outputscale_constraint\":gpytorch.constraints.constraints.GreaterThan(0.1),\n",
    "        \"outputscale_hyperprior\":gpytorch.priors.torch_priors.NormalPrior(loc=2.0,scale=1.0),\n",
    "        }\n",
    "\n",
    "trainer_config = {\n",
    "        \"n_steps\" :50 ,\n",
    "        \"report_freq\":10,\n",
    "        \"save_best\":True,\n",
    "}\n",
    "\n",
    "optimizer_config = {\n",
    "        \"n_eval\":2,\n",
    "        ### for GIBO\n",
    "        \"n_info_samples\":8,\n",
    "        \"delta\":0.1,\n",
    "        \"normalize_gradient\":True,\n",
    "        \"standard_deviation_scaling\":False,\n",
    "}"
   ]
  },
  {
   "cell_type": "code",
   "execution_count": 7,
   "metadata": {},
   "outputs": [
    {
     "name": "stdout",
     "output_type": "stream",
     "text": [
      "MathLog.src.helpers : WARNING : MLP dimensions : [8, 2]\n",
      " Using 32 last points to compute GP\n",
      "current 0.1745128333568573 / max 1.009308934211731 /batch_mean 0.8068991899490356 /batch_max 0.9809073805809021 \n",
      "##############################\n",
      "covar_lengthscale max 0.4838898479938507 / min 0.2464846968650818                  covar_outputscale 0.10000003129243851                 noise 0.010000672191381454\n",
      "##############################\n",
      "current 1.0091722011566162 / max 1.0278239250183105 /batch_mean 0.9725052714347839 /batch_max 1.0174894332885742 \n",
      "##############################\n",
      "covar_lengthscale max 0.5098865032196045 / min 0.21342861652374268                  covar_outputscale 0.10000012814998627                 noise 0.010000655427575111\n",
      "##############################\n",
      "current 0.9150869846343994 / max 1.0361478328704834 /batch_mean 0.8837372064590454 /batch_max 0.9979345202445984 \n",
      "##############################\n",
      "covar_lengthscale max 0.5513732433319092 / min 0.4921071231365204                  covar_outputscale 0.10000012814998627                 noise 0.010000650770962238\n",
      "##############################\n",
      "current 0.9197574853897095 / max 1.0361478328704834 /batch_mean 0.9405329823493958 /batch_max 1.0023977756500244 \n",
      "##############################\n",
      "covar_lengthscale max 0.5425308346748352 / min 0.47059670090675354                  covar_outputscale 0.10000012814998627                 noise 0.010000646114349365\n",
      "##############################\n",
      "Saved best weights to /home/q123/Desktop/explo/local_optima/Swimmer-v2\n"
     ]
    }
   ],
   "source": [
    "\n",
    "\n",
    "model,objective_env = setup_experiment(env_config,kernel_config,likelihood_config,n_init)\n",
    "### Chose optimizer \n",
    "#optimizer = BOptimizer(**optimizer_config)\n",
    "optimizer = GIBOptimizer(model,**optimizer_config)\n",
    "trainer = Trainer(model,objective_env,optimizer,**trainer_config)\n",
    "rslt= trainer.run()"
   ]
  },
  {
   "cell_type": "code",
   "execution_count": 5,
   "metadata": {},
   "outputs": [
    {
     "name": "stdout",
     "output_type": "stream",
     "text": [
      "MathLog.src.helpers : WARNING : MLP dimensions : [8, 2]\n"
     ]
    },
    {
     "name": "stderr",
     "output_type": "stream",
     "text": [
      "/home/q123/miniconda3/envs/explo/lib/python3.8/site-packages/gym/envs/registration.py:505: UserWarning: \u001b[33mWARN: The environment Swimmer-v2 is out of date. You should consider upgrading to version `v3` with the environment ID `Swimmer-v3`.\u001b[0m\n",
      "  logger.warn(\n"
     ]
    },
    {
     "ename": "KeyError",
     "evalue": "'N_max'",
     "output_type": "error",
     "traceback": [
      "\u001b[0;31m---------------------------------------------------------------------------\u001b[0m",
      "\u001b[0;31mKeyError\u001b[0m                                  Traceback (most recent call last)",
      "\u001b[1;32m/home/q123/Desktop/explo/experiments/trainer.ipynb Cell 5'\u001b[0m in \u001b[0;36m<cell line: 3>\u001b[0;34m()\u001b[0m\n\u001b[1;32m      <a href='vscode-notebook-cell:/home/q123/Desktop/explo/experiments/trainer.ipynb#ch0000004?line=0'>1</a>\u001b[0m \u001b[39mfrom\u001b[39;00m \u001b[39msrc\u001b[39;00m\u001b[39m.\u001b[39;00m\u001b[39mtester\u001b[39;00m \u001b[39mimport\u001b[39;00m Tester \n\u001b[0;32m----> <a href='vscode-notebook-cell:/home/q123/Desktop/explo/experiments/trainer.ipynb#ch0000004?line=2'>3</a>\u001b[0m model,objective_env \u001b[39m=\u001b[39m setup_experiment(env_config,kernel_config,likelihood_config,n_init)\n\u001b[1;32m      <a href='vscode-notebook-cell:/home/q123/Desktop/explo/experiments/trainer.ipynb#ch0000004?line=3'>4</a>\u001b[0m tester \u001b[39m=\u001b[39m Tester(model,objective_env,\n\u001b[1;32m      <a href='vscode-notebook-cell:/home/q123/Desktop/explo/experiments/trainer.ipynb#ch0000004?line=4'>5</a>\u001b[0m                  \u001b[39m\"\u001b[39m\u001b[39m/home/q123/Desktop/explo/local_optima/CartPole-v1\u001b[39m\u001b[39m\"\u001b[39m,\u001b[39m1e-1\u001b[39m,\n\u001b[1;32m      <a href='vscode-notebook-cell:/home/q123/Desktop/explo/experiments/trainer.ipynb#ch0000004?line=5'>6</a>\u001b[0m                  n_train\u001b[39m=\u001b[39m\u001b[39m100\u001b[39m,n_test\u001b[39m=\u001b[39m\u001b[39m100\u001b[39m)\n\u001b[1;32m      <a href='vscode-notebook-cell:/home/q123/Desktop/explo/experiments/trainer.ipynb#ch0000004?line=7'>8</a>\u001b[0m train_data,train_pred,test_data,test_pred,tmp \u001b[39m=\u001b[39m tester\u001b[39m.\u001b[39mrun()\n",
      "File \u001b[0;32m~/Desktop/explo/src/helpers.py:69\u001b[0m, in \u001b[0;36msetup_experiment\u001b[0;34m(env_config, kernel_config, likelihood_config, n_init)\u001b[0m\n\u001b[1;32m     <a href='file:///home/q123/Desktop/explo/src/helpers.py?line=63'>64</a>\u001b[0m train_x,train_y,train_s \u001b[39m=\u001b[39m get_initial_data(mlp,objective_env,n_init)\n\u001b[1;32m     <a href='file:///home/q123/Desktop/explo/src/helpers.py?line=64'>65</a>\u001b[0m \u001b[39m# initialize likelihood and model\u001b[39;00m\n\u001b[1;32m     <a href='file:///home/q123/Desktop/explo/src/helpers.py?line=65'>66</a>\u001b[0m \u001b[39m# model = MyGP(*init_data,\u001b[39;00m\n\u001b[1;32m     <a href='file:///home/q123/Desktop/explo/src/helpers.py?line=66'>67</a>\u001b[0m \u001b[39m#         kernel_name=kernel_name,mlp=mlp)\u001b[39;00m\n\u001b[0;32m---> <a href='file:///home/q123/Desktop/explo/src/helpers.py?line=68'>69</a>\u001b[0m model \u001b[39m=\u001b[39m DEGP(train_x\u001b[39m=\u001b[39;49mtrain_x,train_y\u001b[39m=\u001b[39;49mtrain_y,train_s\u001b[39m=\u001b[39;49mtrain_s,\n\u001b[1;32m     <a href='file:///home/q123/Desktop/explo/src/helpers.py?line=69'>70</a>\u001b[0m              kernel_config\u001b[39m=\u001b[39;49mkernel_config,likelihood_config\u001b[39m=\u001b[39;49mlikelihood_config,\n\u001b[1;32m     <a href='file:///home/q123/Desktop/explo/src/helpers.py?line=70'>71</a>\u001b[0m              mlp \u001b[39m=\u001b[39;49mmlp)\n\u001b[1;32m     <a href='file:///home/q123/Desktop/explo/src/helpers.py?line=72'>73</a>\u001b[0m \u001b[39mreturn\u001b[39;00m model,objective_env\n",
      "File \u001b[0;32m~/Desktop/explo/src/gp.py:106\u001b[0m, in \u001b[0;36mDEGP.__init__\u001b[0;34m(self, *args, **kwargs)\u001b[0m\n\u001b[1;32m    <a href='file:///home/q123/Desktop/explo/src/gp.py?line=101'>102</a>\u001b[0m \u001b[39mdef\u001b[39;00m \u001b[39m__init__\u001b[39m(\u001b[39mself\u001b[39m,\u001b[39m*\u001b[39margs,\u001b[39m*\u001b[39m\u001b[39m*\u001b[39mkwargs):\n\u001b[1;32m    <a href='file:///home/q123/Desktop/explo/src/gp.py?line=103'>104</a>\u001b[0m     \u001b[39m\"\"\"Inits GP model with data and a Gaussian likelihood.\"\"\"\u001b[39;00m\n\u001b[0;32m--> <a href='file:///home/q123/Desktop/explo/src/gp.py?line=105'>106</a>\u001b[0m     \u001b[39msuper\u001b[39;49m()\u001b[39m.\u001b[39;49m\u001b[39m__init__\u001b[39;49m(\u001b[39m*\u001b[39;49margs,\u001b[39m*\u001b[39;49m\u001b[39m*\u001b[39;49mkwargs)\n",
      "File \u001b[0;32m~/Desktop/explo/src/gp.py:42\u001b[0m, in \u001b[0;36mMyGP.__init__\u001b[0;34m(self, train_x, train_y, train_s, kernel_config, likelihood_config, mlp)\u001b[0m\n\u001b[1;32m     <a href='file:///home/q123/Desktop/explo/src/gp.py?line=33'>34</a>\u001b[0m \u001b[39m## Use fixed (unoptimizable) noise\u001b[39;00m\n\u001b[1;32m     <a href='file:///home/q123/Desktop/explo/src/gp.py?line=34'>35</a>\u001b[0m \u001b[39m# likelihood.noise_covar.noise = 0.01\u001b[39;00m\n\u001b[1;32m     <a href='file:///home/q123/Desktop/explo/src/gp.py?line=35'>36</a>\u001b[0m \u001b[39m# likelihood.noise_covar.raw_noise.requires_grad = False\u001b[39;00m\n\u001b[1;32m     <a href='file:///home/q123/Desktop/explo/src/gp.py?line=36'>37</a>\u001b[0m \n\u001b[1;32m     <a href='file:///home/q123/Desktop/explo/src/gp.py?line=37'>38</a>\u001b[0m \u001b[39m######\u001b[39;00m\n\u001b[1;32m     <a href='file:///home/q123/Desktop/explo/src/gp.py?line=39'>40</a>\u001b[0m ExactGP\u001b[39m.\u001b[39m\u001b[39m__init__\u001b[39m(\u001b[39mself\u001b[39m,train_x, train_y, likelihood)\n\u001b[0;32m---> <a href='file:///home/q123/Desktop/explo/src/gp.py?line=41'>42</a>\u001b[0m \u001b[39mself\u001b[39m\u001b[39m.\u001b[39mN_max \u001b[39m=\u001b[39m kernel_config\u001b[39m.\u001b[39;49mpop(\u001b[39m'\u001b[39;49m\u001b[39mN_max\u001b[39;49m\u001b[39m'\u001b[39;49m)\n\u001b[1;32m     <a href='file:///home/q123/Desktop/explo/src/gp.py?line=42'>43</a>\u001b[0m \u001b[39mself\u001b[39m\u001b[39m.\u001b[39mmean_module \u001b[39m=\u001b[39m ConstantMean() \u001b[39m## prior mean = 0\u001b[39;00m\n\u001b[1;32m     <a href='file:///home/q123/Desktop/explo/src/gp.py?line=43'>44</a>\u001b[0m \u001b[39mself\u001b[39m\u001b[39m.\u001b[39mcovar_module \u001b[39m=\u001b[39m setup_kernel(kernel_config,mlp\u001b[39m=\u001b[39mmlp,train_s\u001b[39m=\u001b[39mtrain_s)\n",
      "\u001b[0;31mKeyError\u001b[0m: 'N_max'"
     ]
    }
   ],
   "source": [
    "from src.tester import Tester \n",
    "\n",
    "model,objective_env = setup_experiment(env_config,kernel_config,likelihood_config,n_init)\n",
    "tester = Tester(model,objective_env,\n",
    "                 \"/home/q123/Desktop/explo/local_optima/CartPole-v1\",1e-1,\n",
    "                 n_train=100,n_test=100)\n",
    "\n",
    "train_data,train_pred,test_data,test_pred,tmp = tester.run()"
   ]
  }
 ],
 "metadata": {
  "interpreter": {
   "hash": "3b54cb4d83655428105eabb77a9cd1898504607119e0ebf088afaf3437f4d048"
  },
  "kernelspec": {
   "display_name": "Python 3.8.5 ('explo')",
   "language": "python",
   "name": "python3"
  },
  "language_info": {
   "codemirror_mode": {
    "name": "ipython",
    "version": 3
   },
   "file_extension": ".py",
   "mimetype": "text/x-python",
   "name": "python",
   "nbconvert_exporter": "python",
   "pygments_lexer": "ipython3",
   "version": "3.8.13"
  },
  "orig_nbformat": 4
 },
 "nbformat": 4,
 "nbformat_minor": 2
}
