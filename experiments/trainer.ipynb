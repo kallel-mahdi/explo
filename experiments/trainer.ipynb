{
 "cells": [
  {
   "cell_type": "code",
   "execution_count": 1,
   "metadata": {},
   "outputs": [
    {
     "name": "stdout",
     "output_type": "stream",
     "text": [
      "/home/q123/Desktop/explo\n"
     ]
    },
    {
     "name": "stderr",
     "output_type": "stream",
     "text": [
      "/home/q123/miniconda3/envs/boptim/lib/python3.10/site-packages/tqdm/auto.py:22: TqdmWarning: IProgress not found. Please update jupyter and ipywidgets. See https://ipywidgets.readthedocs.io/en/stable/user_install.html\n",
      "  from .autonotebook import tqdm as notebook_tqdm\n",
      "/home/q123/miniconda3/envs/boptim/lib/python3.10/site-packages/gym/envs/registration.py:415: UserWarning: \u001b[33mWARN: The `registry.env_specs` property along with `EnvSpecTree` is deprecated. Please use `registry` directly as a dictionary instead.\u001b[0m\n",
      "  logger.warn(\n",
      "<frozen importlib._bootstrap>:283: DeprecationWarning: the load_module() method is deprecated and slated for removal in Python 3.12; use exec_module() instead\n",
      "pybullet build time: Jun 23 2022 12:25:14\n"
     ]
    }
   ],
   "source": [
    "%cd /home/q123/Desktop/explo\n",
    "\n",
    "import torch \n",
    "import gpytorch \n",
    "import logging\n",
    "import logging.config\n",
    "\n",
    "from src.helpers import setup_experiment\n",
    "from src.trainer import Trainer\n",
    "from src.optimizers.gibo import GIBOptimizer\n",
    "from src.optimizers.vanilla_bo import BOptimizer\n",
    "from src.config import get_configs\n",
    "\n",
    "logging.config.fileConfig('logging.conf')\n",
    "# create root logger\n",
    "logger = logging.getLogger()"
   ]
  },
  {
   "cell_type": "code",
   "execution_count": 2,
   "metadata": {},
   "outputs": [
    {
     "name": "stdout",
     "output_type": "stream",
     "text": [
      "MathLog.src.helpers : WARNING : MLP dimensions : [4, 1]\n",
      "discritizing action space\n",
      "MyRBF received 40 use_ard True\n",
      " Gibo will use 20 last points to fit GP and 8 info samples\n",
      "theta_i tensor([[0., 0., 0., 0.]])\n",
      "MyRBF received 10 use_ard True\n"
     ]
    },
    {
     "name": "stderr",
     "output_type": "stream",
     "text": [
      "/home/q123/miniconda3/envs/boptim/lib/python3.10/site-packages/gpytorch/lazy/lazy_tensor.py:1741: UserWarning: torch.triangular_solve is deprecated in favor of torch.linalg.solve_triangularand will be removed in a future PyTorch release.\n",
      "torch.linalg.solve_triangular has its arguments reversed and does not return a copy of one of the inputs.\n",
      "X = torch.triangular_solve(B, A).solution\n",
      "should be replaced with\n",
      "X = torch.linalg.solve_triangular(A, B). (Triggered internally at  ../aten/src/ATen/native/BatchLinearAlgebra.cpp:1672.)\n",
      "  Linv = torch.triangular_solve(Eye, L, upper=False).solution\n"
     ]
    },
    {
     "name": "stdout",
     "output_type": "stream",
     "text": [
      "theta_i tensor([[-0.0144, -0.2373,  0.0181,  0.3701]])\n",
      "MyRBF received 84 use_ard True\n",
      "breaking info gathering after 1 steps\n",
      "current 0.39600005745887756 / max 0.39600005745887756 /batch_mean 0.39600005745887756 /batch_max 0.39600005745887756 \n",
      "##############################\n",
      "covar_lengthscale max 9.165151596069336 / min 9.165151596069336                      covar_outputscale 1.0                     noise 0.05550000071525574\n",
      "##############################\n",
      "MLL : 0.36817580461502075\n",
      "grad_mean : max 0.16364161670207977 /  min -0.05580538883805275\n",
      "grad_covar : max 0.0008672068361192942 /  min 9.999999717180685e-10\n",
      "theta_i tensor([[-0.0053, -0.2652,  0.0240,  0.4519]])\n",
      "MyRBF received 145 use_ard True\n",
      "breaking info gathering after 1 steps\n",
      "current 0.0860000029206276 / max 0.39600005745887756 /batch_mean 0.0860000029206276 /batch_max 0.0860000029206276 \n",
      "##############################\n",
      "covar_lengthscale max 12.041594505310059 / min 12.041594505310059                      covar_outputscale 1.0                     noise 0.05550000071525574\n",
      "##############################\n",
      "MLL : 0.3597755432128906\n",
      "grad_mean : max 0.1272418200969696 /  min -0.044263847172260284\n",
      "grad_covar : max 0.007657336536794901 /  min 9.999999717180685e-10\n",
      "theta_i tensor([[ 0.0026, -0.2874,  0.0292,  0.5155]])\n",
      "MyRBF received 68 use_ard True\n",
      "breaking info gathering after 1 steps\n",
      "current 0.11800000071525574 / max 0.39600005745887756 /batch_mean 0.11800000071525574 /batch_max 0.11800000071525574 \n",
      "##############################\n",
      "covar_lengthscale max 8.246211051940918 / min 8.246211051940918                      covar_outputscale 1.0                     noise 0.05550000071525574\n",
      "##############################\n",
      "MLL : 0.36739400029182434\n",
      "grad_mean : max 0.1093740463256836 /  min -0.015653200447559357\n",
      "grad_covar : max 9.999999717180685e-10 /  min 9.999999717180685e-10\n",
      "theta_i tensor([[ 0.0127, -0.2952,  0.0353,  0.5702]])\n",
      "MyRBF received 91 use_ard True\n",
      "current 0.2279999852180481 / max 0.39600005745887756 /batch_mean 0.2279999852180481 /batch_max 0.2279999852180481 \n",
      "##############################\n",
      "covar_lengthscale max 91.6103515625 / min 0.01769489422440529                      covar_outputscale 0.009999999776482582                     noise 0.009999999776482582\n",
      "##############################\n",
      "MLL : 1.183778166770935\n",
      "grad_mean : max 0.034591615200042725 /  min -0.2698848247528076\n",
      "grad_covar : max 0.36152970790863037 /  min 9.999999717180685e-10\n",
      "theta_i tensor([[ 0.0009, -0.2779,  0.0154,  0.4353]])\n",
      "MyRBF received 69 use_ard True\n",
      "breaking info gathering after 1 steps\n",
      "current 0.09000000357627869 / max 0.39600005745887756 /batch_mean 0.09000000357627869 /batch_max 0.09000000357627869 \n",
      "##############################\n",
      "covar_lengthscale max 200.0 / min 0.10662440955638885                      covar_outputscale 0.009999999776482582                     noise 0.009999999776482582\n",
      "##############################\n",
      "MLL : 1.1504912376403809\n",
      "grad_mean : max 0.597041666507721 /  min -0.01619734987616539\n",
      "grad_covar : max 0.0042066252790391445 /  min 9.999999717180685e-10\n",
      "theta_i tensor([[0.0447, 0.0206, 0.0894, 0.4272]])\n",
      "MyRBF received 168 use_ard True\n",
      "breaking info gathering after 2 steps\n",
      "current 1.0 / max 1.0 /batch_mean 1.0 /batch_max 1.0 \n",
      "##############################\n",
      "covar_lengthscale max 22.225730895996094 / min 0.5336810946464539                      covar_outputscale 0.009999999776482582                     noise 0.009999999776482582\n",
      "##############################\n",
      "MLL : 0.7372457981109619\n",
      "grad_mean : max 1.317712664604187 /  min -0.6267688274383545\n",
      "grad_covar : max 0.05497171729803085 /  min 9.999999717180685e-10\n",
      "theta_i tensor([[-0.2687,  0.6795,  0.1910,  0.4123]])\n",
      "MyRBF received 11 use_ard True\n",
      "current 0.9580001831054688 / max 1.0 /batch_mean 0.9580001831054688 /batch_max 0.9580001831054688 \n",
      "##############################\n",
      "covar_lengthscale max 200.0 / min 0.036476537585258484                      covar_outputscale 0.12150458246469498                     noise 0.009999999776482582\n",
      "##############################\n",
      "MLL : 0.534855842590332\n",
      "grad_mean : max 4.787050724029541 /  min -3.9154460430145264\n",
      "grad_covar : max 4.235163688659668 /  min 9.999999717180685e-10\n",
      "theta_i tensor([[ 0.0797, -1.2782, -0.2330,  2.8058]])\n",
      "MyRBF received 115 use_ard True\n",
      "current 0.1420000195503235 / max 1.0 /batch_mean 0.1420000195503235 /batch_max 0.1420000195503235 \n",
      "##############################\n",
      "covar_lengthscale max 16.307207107543945 / min 0.026122458279132843                      covar_outputscale 0.11124210059642792                     noise 0.009999999776482582\n",
      "##############################\n",
      "MLL : 1.1400846242904663\n",
      "grad_mean : max 1.1316115856170654 /  min 0.05298374593257904\n",
      "grad_covar : max 9.999999717180685e-10 /  min 9.999999717180685e-10\n",
      "theta_i tensor([[ 0.2334, -0.7124, -0.1109,  2.8323]])\n",
      "MyRBF received 172 use_ard True\n"
     ]
    },
    {
     "ename": "KeyboardInterrupt",
     "evalue": "",
     "output_type": "error",
     "traceback": [
      "\u001b[0;31m---------------------------------------------------------------------------\u001b[0m",
      "\u001b[0;31mKeyboardInterrupt\u001b[0m                         Traceback (most recent call last)",
      "\u001b[1;32m/home/q123/Desktop/explo/experiments/trainer.ipynb Cell 2'\u001b[0m in \u001b[0;36m<cell line: 55>\u001b[0;34m()\u001b[0m\n\u001b[1;32m     <a href='vscode-notebook-cell:/home/q123/Desktop/explo/experiments/trainer.ipynb#ch0000001?line=52'>53</a>\u001b[0m optimizer \u001b[39m=\u001b[39m GIBOptimizer(model,\u001b[39m*\u001b[39m\u001b[39m*\u001b[39moptimizer_config)\n\u001b[1;32m     <a href='vscode-notebook-cell:/home/q123/Desktop/explo/experiments/trainer.ipynb#ch0000001?line=53'>54</a>\u001b[0m trainer \u001b[39m=\u001b[39m Trainer(model,objective_env,optimizer,\u001b[39m*\u001b[39m\u001b[39m*\u001b[39mtrainer_config)\n\u001b[0;32m---> <a href='vscode-notebook-cell:/home/q123/Desktop/explo/experiments/trainer.ipynb#ch0000001?line=54'>55</a>\u001b[0m rslt\u001b[39m=\u001b[39m trainer\u001b[39m.\u001b[39;49mrun()\n",
      "File \u001b[0;32m~/Desktop/explo/src/trainer.py:52\u001b[0m, in \u001b[0;36mTrainer.run\u001b[0;34m(self)\u001b[0m\n\u001b[1;32m     48\u001b[0m objective_env \u001b[39m=\u001b[39m \u001b[39mself\u001b[39m\u001b[39m.\u001b[39mobjective_env  \n\u001b[1;32m     50\u001b[0m \u001b[39mfor\u001b[39;00m i \u001b[39min\u001b[39;00m \u001b[39mrange\u001b[39m(\u001b[39mself\u001b[39m\u001b[39m.\u001b[39mn_steps):\n\u001b[0;32m---> 52\u001b[0m     optimizer\u001b[39m.\u001b[39;49mstep(model,objective_env)\n\u001b[1;32m     54\u001b[0m     \u001b[39mif\u001b[39;00m (i \u001b[39m%\u001b[39m report_freq) \u001b[39m==\u001b[39m \u001b[39m0\u001b[39m \u001b[39mand\u001b[39;00m i\u001b[39m>\u001b[39m\u001b[39m=\u001b[39mreport_freq:\n\u001b[1;32m     56\u001b[0m         \u001b[39mmax\u001b[39m \u001b[39m=\u001b[39m model\u001b[39m.\u001b[39my_hist\u001b[39m.\u001b[39mmax()\n",
      "File \u001b[0;32m~/Desktop/explo/src/optimizers/gibo.py:247\u001b[0m, in \u001b[0;36mGIBOptimizer.step\u001b[0;34m(self, model, objective_env)\u001b[0m\n\u001b[1;32m    245\u001b[0m \u001b[39mself\u001b[39m\u001b[39m.\u001b[39mgradInfo\u001b[39m.\u001b[39mupdate_theta_i(theta_i) \u001b[39m## this also update KxX_dx\u001b[39;00m\n\u001b[1;32m    246\u001b[0m bounds \u001b[39m=\u001b[39m torch\u001b[39m.\u001b[39mtensor([[\u001b[39m-\u001b[39m\u001b[39mself\u001b[39m\u001b[39m.\u001b[39mdelta], [\u001b[39mself\u001b[39m\u001b[39m.\u001b[39mdelta]]) \u001b[39m+\u001b[39m theta_i\n\u001b[0;32m--> 247\u001b[0m \u001b[39mself\u001b[39;49m\u001b[39m.\u001b[39;49moptimize_information(objective_env,model,bounds)\n\u001b[1;32m    249\u001b[0m \u001b[39m# # NEEEW : Adjust hyperparameters after information collection \u001b[39;00m\n\u001b[1;32m    250\u001b[0m \u001b[39m# # for better gradient estimate\u001b[39;00m\n\u001b[1;32m    251\u001b[0m \u001b[39m# if (model.N >= self.n_max): \u001b[39;00m\n\u001b[0;32m   (...)\u001b[0m\n\u001b[1;32m    263\u001b[0m \n\u001b[1;32m    264\u001b[0m \u001b[39m# Take one step in direction of the gradient\u001b[39;00m\n\u001b[1;32m    265\u001b[0m \u001b[39mself\u001b[39m\u001b[39m.\u001b[39mone_gradient_step(model, theta_i)\n",
      "File \u001b[0;32m~/Desktop/explo/src/optimizers/gibo.py:151\u001b[0m, in \u001b[0;36mGIBOptimizer.optimize_information\u001b[0;34m(self, objective_env, model, bounds)\u001b[0m\n\u001b[1;32m    148\u001b[0m model\u001b[39m.\u001b[39mposterior(\u001b[39mself\u001b[39m\u001b[39m.\u001b[39mtheta_i)  \u001b[39m## hotfix\u001b[39;00m\n\u001b[1;32m    150\u001b[0m \u001b[39m# Optimize acquistion function and get new observation.\u001b[39;00m\n\u001b[0;32m--> 151\u001b[0m new_x, acq_value \u001b[39m=\u001b[39m botorch\u001b[39m.\u001b[39;49moptim\u001b[39m.\u001b[39;49moptimize_acqf(\n\u001b[1;32m    152\u001b[0m     acq_function\u001b[39m=\u001b[39;49m\u001b[39mself\u001b[39;49m\u001b[39m.\u001b[39;49mgradInfo,\n\u001b[1;32m    153\u001b[0m     bounds\u001b[39m=\u001b[39;49mbounds,\n\u001b[1;32m    154\u001b[0m     q\u001b[39m=\u001b[39;49m\u001b[39m1\u001b[39;49m,  \u001b[39m# Analytic acquisition function.\u001b[39;49;00m\n\u001b[1;32m    155\u001b[0m     num_restarts\u001b[39m=\u001b[39;49m\u001b[39m5\u001b[39;49m,\n\u001b[1;32m    156\u001b[0m     raw_samples\u001b[39m=\u001b[39;49m\u001b[39m64\u001b[39;49m,\n\u001b[1;32m    157\u001b[0m     options\u001b[39m=\u001b[39;49m{\u001b[39m'\u001b[39;49m\u001b[39mnonnegative\u001b[39;49m\u001b[39m'\u001b[39;49m: \u001b[39mTrue\u001b[39;49;00m, \u001b[39m'\u001b[39;49m\u001b[39mbatch_limit\u001b[39;49m\u001b[39m'\u001b[39;49m: \u001b[39m5\u001b[39;49m},\n\u001b[1;32m    158\u001b[0m     return_best_only\u001b[39m=\u001b[39;49m\u001b[39mTrue\u001b[39;49;00m,\n\u001b[1;32m    159\u001b[0m     sequential\u001b[39m=\u001b[39;49m\u001b[39mFalse\u001b[39;49;00m)\n\u001b[1;32m    161\u001b[0m \u001b[39m# noise = 1e-5 *torch.rand_like(self.theta_i) \u001b[39;00m\n\u001b[1;32m    162\u001b[0m \u001b[39m# new_x = self.theta_i + noise\u001b[39;00m\n\u001b[1;32m    163\u001b[0m \u001b[39m# #Update training points.\u001b[39;00m\n\u001b[1;32m    164\u001b[0m new_y,new_s,_ \u001b[39m=\u001b[39m objective_env(new_x,\u001b[39mself\u001b[39m\u001b[39m.\u001b[39mn_eval)\n",
      "File \u001b[0;32m~/miniconda3/envs/boptim/lib/python3.10/site-packages/botorch/optim/optimize.py:205\u001b[0m, in \u001b[0;36moptimize_acqf\u001b[0;34m(acq_function, bounds, q, num_restarts, raw_samples, options, inequality_constraints, equality_constraints, nonlinear_inequality_constraints, fixed_features, post_processing_func, batch_initial_conditions, return_best_only, sequential, **kwargs)\u001b[0m\n\u001b[1;32m    196\u001b[0m         \u001b[39mraise\u001b[39;00m \u001b[39mValueError\u001b[39;00m(\n\u001b[1;32m    197\u001b[0m             \u001b[39m\"\u001b[39m\u001b[39mMust specify `raw_samples` when `batch_initial_conditions` is `None`.\u001b[39m\u001b[39m\"\u001b[39m\n\u001b[1;32m    198\u001b[0m         )\n\u001b[1;32m    200\u001b[0m     ic_gen \u001b[39m=\u001b[39m (\n\u001b[1;32m    201\u001b[0m         gen_one_shot_kg_initial_conditions\n\u001b[1;32m    202\u001b[0m         \u001b[39mif\u001b[39;00m \u001b[39misinstance\u001b[39m(acq_function, qKnowledgeGradient)\n\u001b[1;32m    203\u001b[0m         \u001b[39melse\u001b[39;00m gen_batch_initial_conditions\n\u001b[1;32m    204\u001b[0m     )\n\u001b[0;32m--> 205\u001b[0m     batch_initial_conditions \u001b[39m=\u001b[39m ic_gen(\n\u001b[1;32m    206\u001b[0m         acq_function\u001b[39m=\u001b[39;49macq_function,\n\u001b[1;32m    207\u001b[0m         bounds\u001b[39m=\u001b[39;49mbounds,\n\u001b[1;32m    208\u001b[0m         q\u001b[39m=\u001b[39;49mq,\n\u001b[1;32m    209\u001b[0m         num_restarts\u001b[39m=\u001b[39;49mnum_restarts,\n\u001b[1;32m    210\u001b[0m         raw_samples\u001b[39m=\u001b[39;49mraw_samples,\n\u001b[1;32m    211\u001b[0m         fixed_features\u001b[39m=\u001b[39;49mfixed_features,\n\u001b[1;32m    212\u001b[0m         options\u001b[39m=\u001b[39;49moptions,\n\u001b[1;32m    213\u001b[0m         inequality_constraints\u001b[39m=\u001b[39;49minequality_constraints,\n\u001b[1;32m    214\u001b[0m         equality_constraints\u001b[39m=\u001b[39;49mequality_constraints,\n\u001b[1;32m    215\u001b[0m     )\n\u001b[1;32m    217\u001b[0m batch_limit: \u001b[39mint\u001b[39m \u001b[39m=\u001b[39m options\u001b[39m.\u001b[39mget(\n\u001b[1;32m    218\u001b[0m     \u001b[39m\"\u001b[39m\u001b[39mbatch_limit\u001b[39m\u001b[39m\"\u001b[39m, num_restarts \u001b[39mif\u001b[39;00m \u001b[39mnot\u001b[39;00m nonlinear_inequality_constraints \u001b[39melse\u001b[39;00m \u001b[39m1\u001b[39m\n\u001b[1;32m    219\u001b[0m )\n\u001b[1;32m    220\u001b[0m batch_candidates_list: List[Tensor] \u001b[39m=\u001b[39m []\n",
      "File \u001b[0;32m~/miniconda3/envs/boptim/lib/python3.10/site-packages/botorch/optim/initializers.py:183\u001b[0m, in \u001b[0;36mgen_batch_initial_conditions\u001b[0;34m(acq_function, bounds, q, num_restarts, raw_samples, fixed_features, options, inequality_constraints, equality_constraints)\u001b[0m\n\u001b[1;32m    181\u001b[0m \u001b[39mwhile\u001b[39;00m start_idx \u001b[39m<\u001b[39m X_rnd\u001b[39m.\u001b[39mshape[\u001b[39m0\u001b[39m]:\n\u001b[1;32m    182\u001b[0m     end_idx \u001b[39m=\u001b[39m \u001b[39mmin\u001b[39m(start_idx \u001b[39m+\u001b[39m batch_limit, X_rnd\u001b[39m.\u001b[39mshape[\u001b[39m0\u001b[39m])\n\u001b[0;32m--> 183\u001b[0m     Y_rnd_curr \u001b[39m=\u001b[39m acq_function(\n\u001b[1;32m    184\u001b[0m         X_rnd[start_idx:end_idx]\u001b[39m.\u001b[39;49mto(device\u001b[39m=\u001b[39;49mdevice)\n\u001b[1;32m    185\u001b[0m     )\u001b[39m.\u001b[39mcpu()\n\u001b[1;32m    186\u001b[0m     Y_rnd_list\u001b[39m.\u001b[39mappend(Y_rnd_curr)\n\u001b[1;32m    187\u001b[0m     start_idx \u001b[39m+\u001b[39m\u001b[39m=\u001b[39m batch_limit\n",
      "File \u001b[0;32m~/miniconda3/envs/boptim/lib/python3.10/site-packages/torch/nn/modules/module.py:1110\u001b[0m, in \u001b[0;36mModule._call_impl\u001b[0;34m(self, *input, **kwargs)\u001b[0m\n\u001b[1;32m   1106\u001b[0m \u001b[39m# If we don't have any hooks, we want to skip the rest of the logic in\u001b[39;00m\n\u001b[1;32m   1107\u001b[0m \u001b[39m# this function, and just call forward.\u001b[39;00m\n\u001b[1;32m   1108\u001b[0m \u001b[39mif\u001b[39;00m \u001b[39mnot\u001b[39;00m (\u001b[39mself\u001b[39m\u001b[39m.\u001b[39m_backward_hooks \u001b[39mor\u001b[39;00m \u001b[39mself\u001b[39m\u001b[39m.\u001b[39m_forward_hooks \u001b[39mor\u001b[39;00m \u001b[39mself\u001b[39m\u001b[39m.\u001b[39m_forward_pre_hooks \u001b[39mor\u001b[39;00m _global_backward_hooks\n\u001b[1;32m   1109\u001b[0m         \u001b[39mor\u001b[39;00m _global_forward_hooks \u001b[39mor\u001b[39;00m _global_forward_pre_hooks):\n\u001b[0;32m-> 1110\u001b[0m     \u001b[39mreturn\u001b[39;00m forward_call(\u001b[39m*\u001b[39;49m\u001b[39minput\u001b[39;49m, \u001b[39m*\u001b[39;49m\u001b[39m*\u001b[39;49mkwargs)\n\u001b[1;32m   1111\u001b[0m \u001b[39m# Do not call functions when jit is used\u001b[39;00m\n\u001b[1;32m   1112\u001b[0m full_backward_hooks, non_full_backward_hooks \u001b[39m=\u001b[39m [], []\n",
      "File \u001b[0;32m~/miniconda3/envs/boptim/lib/python3.10/site-packages/botorch/utils/transforms.py:258\u001b[0m, in \u001b[0;36mt_batch_mode_transform.<locals>.decorator.<locals>.decorated\u001b[0;34m(acqf, X, *args, **kwargs)\u001b[0m\n\u001b[1;32m    256\u001b[0m \u001b[39m# add t-batch dim\u001b[39;00m\n\u001b[1;32m    257\u001b[0m X \u001b[39m=\u001b[39m X \u001b[39mif\u001b[39;00m X\u001b[39m.\u001b[39mdim() \u001b[39m>\u001b[39m \u001b[39m2\u001b[39m \u001b[39melse\u001b[39;00m X\u001b[39m.\u001b[39munsqueeze(\u001b[39m0\u001b[39m)\n\u001b[0;32m--> 258\u001b[0m output \u001b[39m=\u001b[39m method(acqf, X, \u001b[39m*\u001b[39;49margs, \u001b[39m*\u001b[39;49m\u001b[39m*\u001b[39;49mkwargs)\n\u001b[1;32m    259\u001b[0m \u001b[39mif\u001b[39;00m \u001b[39mhasattr\u001b[39m(acqf, \u001b[39m\"\u001b[39m\u001b[39mmodel\u001b[39m\u001b[39m\"\u001b[39m) \u001b[39mand\u001b[39;00m is_fully_bayesian(acqf\u001b[39m.\u001b[39mmodel):\n\u001b[1;32m    260\u001b[0m     output \u001b[39m=\u001b[39m output\u001b[39m.\u001b[39mmean(dim\u001b[39m=\u001b[39m\u001b[39m-\u001b[39m\u001b[39m1\u001b[39m)\n",
      "File \u001b[0;32m~/Desktop/explo/src/optimizers/gibo.py:99\u001b[0m, in \u001b[0;36mGradientInformation.forward\u001b[0;34m(self, thetas)\u001b[0m\n\u001b[1;32m     96\u001b[0m K_XX_inv \u001b[39m=\u001b[39m torch\u001b[39m.\u001b[39mlinalg\u001b[39m.\u001b[39minv(K_XX)\n\u001b[1;32m     98\u001b[0m \u001b[39m# get K_xX_dx\u001b[39;00m\n\u001b[0;32m---> 99\u001b[0m K_xθ_dx \u001b[39m=\u001b[39m \u001b[39mself\u001b[39;49m\u001b[39m.\u001b[39;49m_get_KxX_dx(x, theta)\n\u001b[1;32m    100\u001b[0m K_xX_dx \u001b[39m=\u001b[39m torch\u001b[39m.\u001b[39mcat([\u001b[39mself\u001b[39m\u001b[39m.\u001b[39mK_xX_dx_part, K_xθ_dx], dim\u001b[39m=\u001b[39m\u001b[39m-\u001b[39m\u001b[39m1\u001b[39m)\n\u001b[1;32m    102\u001b[0m \u001b[39m# Compute_variance.\u001b[39;00m\n",
      "File \u001b[0;32m~/Desktop/explo/src/optimizers/gibo.py:68\u001b[0m, in \u001b[0;36mGradientInformation._get_KxX_dx\u001b[0;34m(self, theta_t, X_hat)\u001b[0m\n\u001b[1;32m     58\u001b[0m \u001b[39mdef\u001b[39;00m \u001b[39m_get_KxX_dx\u001b[39m(\u001b[39mself\u001b[39m, theta_t, X_hat) :\n\u001b[1;32m     59\u001b[0m     \u001b[39m'''Computes the analytic derivative of the kernel K(x,X) w.r.t. x.\u001b[39;00m\n\u001b[1;32m     60\u001b[0m \n\u001b[1;32m     61\u001b[0m \u001b[39m    Args:\u001b[39;00m\n\u001b[0;32m   (...)\u001b[0m\n\u001b[1;32m     65\u001b[0m \u001b[39m        (n x D) The derivative of K(x,X) w.r.t. x.\u001b[39;00m\n\u001b[1;32m     66\u001b[0m \u001b[39m    '''\u001b[39;00m\n\u001b[0;32m---> 68\u001b[0m     jacobs \u001b[39m=\u001b[39m torch\u001b[39m.\u001b[39;49mautograd\u001b[39m.\u001b[39;49mfunctional\u001b[39m.\u001b[39;49mjacobian(func\u001b[39m=\u001b[39;49m\u001b[39mlambda\u001b[39;49;00m theta : \u001b[39mself\u001b[39;49m\u001b[39m.\u001b[39;49mK_xX(theta,X_hat),inputs\u001b[39m=\u001b[39;49m(theta_t))\n\u001b[1;32m     69\u001b[0m     K_xX_dx \u001b[39m=\u001b[39m jacobs\u001b[39m.\u001b[39msum(dim\u001b[39m=\u001b[39m\u001b[39m2\u001b[39m)\u001b[39m.\u001b[39mtranspose(\u001b[39m1\u001b[39m,\u001b[39m2\u001b[39m)\n\u001b[1;32m     71\u001b[0m     \u001b[39mreturn\u001b[39;00m K_xX_dx\n",
      "File \u001b[0;32m~/miniconda3/envs/boptim/lib/python3.10/site-packages/torch/autograd/functional.py:669\u001b[0m, in \u001b[0;36mjacobian\u001b[0;34m(func, inputs, create_graph, strict, vectorize, strategy)\u001b[0m\n\u001b[1;32m    667\u001b[0m jac_i: Tuple[List[torch\u001b[39m.\u001b[39mTensor]] \u001b[39m=\u001b[39m \u001b[39mtuple\u001b[39m([] \u001b[39mfor\u001b[39;00m _ \u001b[39min\u001b[39;00m \u001b[39mrange\u001b[39m(\u001b[39mlen\u001b[39m(inputs)))  \u001b[39m# type: ignore[assignment]\u001b[39;00m\n\u001b[1;32m    668\u001b[0m \u001b[39mfor\u001b[39;00m j \u001b[39min\u001b[39;00m \u001b[39mrange\u001b[39m(out\u001b[39m.\u001b[39mnelement()):\n\u001b[0;32m--> 669\u001b[0m     vj \u001b[39m=\u001b[39m _autograd_grad((out\u001b[39m.\u001b[39;49mreshape(\u001b[39m-\u001b[39;49m\u001b[39m1\u001b[39;49m)[j],), inputs,\n\u001b[1;32m    670\u001b[0m                         retain_graph\u001b[39m=\u001b[39;49m\u001b[39mTrue\u001b[39;49;00m, create_graph\u001b[39m=\u001b[39;49mcreate_graph)\n\u001b[1;32m    672\u001b[0m     \u001b[39mfor\u001b[39;00m el_idx, (jac_i_el, vj_el, inp_el) \u001b[39min\u001b[39;00m \u001b[39menumerate\u001b[39m(\u001b[39mzip\u001b[39m(jac_i, vj, inputs)):\n\u001b[1;32m    673\u001b[0m         \u001b[39mif\u001b[39;00m vj_el \u001b[39mis\u001b[39;00m \u001b[39mnot\u001b[39;00m \u001b[39mNone\u001b[39;00m:\n",
      "File \u001b[0;32m~/miniconda3/envs/boptim/lib/python3.10/site-packages/torch/autograd/functional.py:159\u001b[0m, in \u001b[0;36m_autograd_grad\u001b[0;34m(outputs, inputs, grad_outputs, create_graph, retain_graph, is_grads_batched)\u001b[0m\n\u001b[1;32m    157\u001b[0m     \u001b[39mreturn\u001b[39;00m (\u001b[39mNone\u001b[39;00m,) \u001b[39m*\u001b[39m \u001b[39mlen\u001b[39m(inputs)\n\u001b[1;32m    158\u001b[0m \u001b[39melse\u001b[39;00m:\n\u001b[0;32m--> 159\u001b[0m     \u001b[39mreturn\u001b[39;00m torch\u001b[39m.\u001b[39;49mautograd\u001b[39m.\u001b[39;49mgrad(new_outputs, inputs, new_grad_outputs, allow_unused\u001b[39m=\u001b[39;49m\u001b[39mTrue\u001b[39;49;00m,\n\u001b[1;32m    160\u001b[0m                                create_graph\u001b[39m=\u001b[39;49mcreate_graph, retain_graph\u001b[39m=\u001b[39;49mretain_graph,\n\u001b[1;32m    161\u001b[0m                                is_grads_batched\u001b[39m=\u001b[39;49mis_grads_batched)\n",
      "File \u001b[0;32m~/miniconda3/envs/boptim/lib/python3.10/site-packages/torch/autograd/__init__.py:275\u001b[0m, in \u001b[0;36mgrad\u001b[0;34m(outputs, inputs, grad_outputs, retain_graph, create_graph, only_inputs, allow_unused, is_grads_batched)\u001b[0m\n\u001b[1;32m    273\u001b[0m     \u001b[39mreturn\u001b[39;00m _vmap_internals\u001b[39m.\u001b[39m_vmap(vjp, \u001b[39m0\u001b[39m, \u001b[39m0\u001b[39m, allow_none_pass_through\u001b[39m=\u001b[39m\u001b[39mTrue\u001b[39;00m)(grad_outputs)\n\u001b[1;32m    274\u001b[0m \u001b[39melse\u001b[39;00m:\n\u001b[0;32m--> 275\u001b[0m     \u001b[39mreturn\u001b[39;00m Variable\u001b[39m.\u001b[39;49m_execution_engine\u001b[39m.\u001b[39;49mrun_backward(  \u001b[39m# Calls into the C++ engine to run the backward pass\u001b[39;49;00m\n\u001b[1;32m    276\u001b[0m         outputs, grad_outputs_, retain_graph, create_graph, inputs,\n\u001b[1;32m    277\u001b[0m         allow_unused, accumulate_grad\u001b[39m=\u001b[39;49m\u001b[39mFalse\u001b[39;49;00m)\n",
      "\u001b[0;31mKeyboardInterrupt\u001b[0m: "
     ]
    }
   ],
   "source": [
    "env_name = \"CartPole-v1\"\n",
    "#env_name = \"Swimmer-v4\"\n",
    "kernel_name = \"rbfstate\" ## \"linearstate\" /\"rbfstate\"\n",
    "\n",
    "env_config,likelihood_config,kernel_config,optimizer_config,trainer_config = get_configs(env_name,kernel_name)\n",
    "additional_layers=[] ### can be empty or [8,7] for adding 2 layers with width 8,7 respectively\n",
    "\n",
    "optimizer_config = {\n",
    "        \"n_eval\":1, ## 3 for cartpole (very noisy)\n",
    "        ### for GIBO\n",
    "        \"n_max\":20, \n",
    "        \"n_info_samples\":8,\n",
    "        \"delta\":0.1, ## 0.01 for cartpole\n",
    "        ### hessian normalisation applies only for rbf\n",
    "        \"normalize_gradient\":True if kernel_name == \"rbf\" else False,\n",
    "        \"standard_deviation_scaling\":False,\n",
    "}\n",
    "\n",
    "likelihood_config = {\n",
    "                \"noise_hyperprior\":gpytorch.priors.torch_priors.UniformPrior(a=0.01,b=0.101),\n",
    "                \"noise_constraint\":gpytorch.constraints.constraints.Interval(0.01,0.101)\n",
    "                }\n",
    "\n",
    "# kernel_config = {\n",
    "#         \"use_ard\":False,\n",
    "#         \"kernel_name\":kernel_name,\n",
    "#         #lengthscale_hyperprior\":gpytorch.priors.torch_priors.GammaPrior(5,0.9),\n",
    "#         #\"lengthscale_constraint\":gpytorch.constraints.constraints.GreaterThan(0.1),\n",
    "#         #\"outputscale_constraint\":gpytorch.constraints.constraints.GreaterThan(0.1),\n",
    "#          \"outputscale_hyperprior\":gpytorch.priors.torch_priors.GammaPrior(2,0.4),\n",
    "#         }\n",
    "\n",
    "kernel_config = {\n",
    "        \"use_ard\":True,\n",
    "        \"kernel_name\":kernel_name,\n",
    "        # \"lengthscale_hyperprior\":None,\n",
    "        \"lengthscale_constraint\":gpytorch.constraints.constraints.Interval(0.01,200),\n",
    "        # \"outputscale_hyperprior\":gpytorch.priors.torch_priors.NormalPrior(loc=2.0,scale=1.0),\n",
    "        \"outputscale_constraint\":gpytorch.constraints.constraints.GreaterThan(0.01),\n",
    "        }\n",
    "\n",
    "trainer_config = {\n",
    "        \"n_steps\":20, \n",
    "        \"report_freq\":1,\n",
    "        \"save_best\":False,\n",
    "}\n",
    "\n",
    "model,objective_env = setup_experiment(env_config,kernel_config,likelihood_config,additional_layers)\n",
    "\n",
    "\n",
    "### Chose optimizer \n",
    "#optimizer = BOptimizer(**optimizer_config)\n",
    "optimizer = GIBOptimizer(model,**optimizer_config)\n",
    "trainer = Trainer(model,objective_env,optimizer,**trainer_config)\n",
    "rslt= trainer.run()\n",
    "\n",
    "### ADD LR SCHEDULAR  / FIX DISCRETIZATION ===> ENJOY WEEKEND :DDD"
   ]
  },
  {
   "cell_type": "code",
   "execution_count": null,
   "metadata": {},
   "outputs": [
    {
     "data": {
      "text/plain": [
       "[<matplotlib.lines.Line2D at 0x7f7085ba32b0>]"
      ]
     },
     "execution_count": 3,
     "metadata": {},
     "output_type": "execute_result"
    },
    {
     "data": {
      "image/png": "[encoded data removed]",
      "text/plain": [
       "<Figure size 432x288 with 1 Axes>"
      ]
     },
     "metadata": {
      "needs_background": "light"
     },
     "output_type": "display_data"
    }
   ],
   "source": [
    "import scipy.stats as stats \n",
    "import numpy as np\n",
    "import matplotlib.pyplot as plt\n",
    "\n",
    "alpha = 2\n",
    "beta = 0.4\n",
    "x = np.linspace (0, 20, 200) \n",
    "y1 = stats.gamma.pdf(x, a=alpha, scale=1/beta)\n",
    "plt.plot(x,y1)"
   ]
  }
 ],
 "metadata": {
  "kernelspec": {
   "display_name": "Python 3.10.4 ('boptim')",
   "language": "python",
   "name": "python3"
  },
  "language_info": {
   "codemirror_mode": {
    "name": "ipython",
    "version": 3
   },
   "file_extension": ".py",
   "mimetype": "text/x-python",
   "name": "python",
   "nbconvert_exporter": "python",
   "pygments_lexer": "ipython3",
   "version": "3.10.4"
  },
  "orig_nbformat": 4,
  "vscode": {
   "interpreter": {
    "hash": "8389904c907846b71296796d17b1509d31543c622799a32225d90d0bb5700220"
   }
  }
 },
 "nbformat": 4,
 "nbformat_minor": 2
}
