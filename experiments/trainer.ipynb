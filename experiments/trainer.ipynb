{
 "cells": [
  {
   "cell_type": "code",
   "execution_count": 3,
   "metadata": {},
   "outputs": [
    {
     "name": "stdout",
     "output_type": "stream",
     "text": [
      "/home/q123/Desktop/explo\n"
     ]
    }
   ],
   "source": [
    "%cd /home/q123/Desktop/explo\n",
    "\n",
    "import torch \n",
    "import gpytorch \n",
    "import logging\n",
    "import logging.config\n",
    "\n",
    "from src.helpers import setup_experiment\n",
    "from src.trainer import Trainer\n",
    "from src.gibo.optim import GIBOptimizer\n",
    "from src.optim import BOptimizer\n",
    "from src.config import get_configs\n",
    "\n",
    "logging.config.fileConfig('logging.conf')\n",
    "# create root logger\n",
    "logger = logging.getLogger()"
   ]
  },
  {
   "cell_type": "code",
   "execution_count": 4,
   "metadata": {},
   "outputs": [
    {
     "name": "stdout",
     "output_type": "stream",
     "text": [
      "MathLog.src.helpers : WARNING : MLP dimensions : [8, 2]\n",
      "train_y.shape torch.Size([2]) torch.Size([2])\n",
      "Using ard_num_dims = 18\n"
     ]
    },
    {
     "ename": "RuntimeError",
     "evalue": "wrong output dimension",
     "output_type": "error",
     "traceback": [
      "\u001b[0;31m---------------------------------------------------------------------------\u001b[0m",
      "\u001b[0;31mRuntimeError\u001b[0m                              Traceback (most recent call last)",
      "\u001b[1;32m/home/q123/Desktop/explo/experiments/trainer.ipynb Cell 2'\u001b[0m in \u001b[0;36m<cell line: 7>\u001b[0;34m()\u001b[0m\n\u001b[1;32m      <a href='vscode-notebook-cell:/home/q123/Desktop/explo/experiments/trainer.ipynb#ch0000001?line=4'>5</a>\u001b[0m env_config,likelihood_config,kernel_config,optimizer_config,trainer_config \u001b[39m=\u001b[39m get_configs(env_name,kernel_name)\n\u001b[1;32m      <a href='vscode-notebook-cell:/home/q123/Desktop/explo/experiments/trainer.ipynb#ch0000001?line=5'>6</a>\u001b[0m additional_layers\u001b[39m=\u001b[39m[]\n\u001b[0;32m----> <a href='vscode-notebook-cell:/home/q123/Desktop/explo/experiments/trainer.ipynb#ch0000001?line=6'>7</a>\u001b[0m model,objective_env \u001b[39m=\u001b[39m setup_experiment(env_config,kernel_config,likelihood_config,additional_layers)\n\u001b[1;32m      <a href='vscode-notebook-cell:/home/q123/Desktop/explo/experiments/trainer.ipynb#ch0000001?line=8'>9</a>\u001b[0m trainer_config \u001b[39m=\u001b[39m {\n\u001b[1;32m     <a href='vscode-notebook-cell:/home/q123/Desktop/explo/experiments/trainer.ipynb#ch0000001?line=9'>10</a>\u001b[0m         \u001b[39m\"\u001b[39m\u001b[39mn_steps\u001b[39m\u001b[39m\"\u001b[39m :\u001b[39m200\u001b[39m,\n\u001b[1;32m     <a href='vscode-notebook-cell:/home/q123/Desktop/explo/experiments/trainer.ipynb#ch0000001?line=10'>11</a>\u001b[0m         \u001b[39m\"\u001b[39m\u001b[39mreport_freq\u001b[39m\u001b[39m\"\u001b[39m:\u001b[39m5\u001b[39m,\n\u001b[1;32m     <a href='vscode-notebook-cell:/home/q123/Desktop/explo/experiments/trainer.ipynb#ch0000001?line=11'>12</a>\u001b[0m         \u001b[39m\"\u001b[39m\u001b[39msave_best\u001b[39m\u001b[39m\"\u001b[39m:\u001b[39mTrue\u001b[39;00m,\n\u001b[1;32m     <a href='vscode-notebook-cell:/home/q123/Desktop/explo/experiments/trainer.ipynb#ch0000001?line=12'>13</a>\u001b[0m }\n\u001b[1;32m     <a href='vscode-notebook-cell:/home/q123/Desktop/explo/experiments/trainer.ipynb#ch0000001?line=14'>15</a>\u001b[0m \u001b[39m### Chose optimizer \u001b[39;00m\n\u001b[1;32m     <a href='vscode-notebook-cell:/home/q123/Desktop/explo/experiments/trainer.ipynb#ch0000001?line=15'>16</a>\u001b[0m \u001b[39m#optimizer = BOptimizer(**optimizer_config)\u001b[39;00m\n",
      "File \u001b[0;32m~/Desktop/explo/src/helpers.py:69\u001b[0m, in \u001b[0;36msetup_experiment\u001b[0;34m(env_config, kernel_config, likelihood_config, additional_layers)\u001b[0m\n\u001b[1;32m     <a href='file:///home/q123/Desktop/explo/src/helpers.py?line=65'>66</a>\u001b[0m train_x,train_y,train_s \u001b[39m=\u001b[39m get_initial_data(mlp,objective_env,n_init)\n\u001b[1;32m     <a href='file:///home/q123/Desktop/explo/src/helpers.py?line=67'>68</a>\u001b[0m \u001b[39m# initialize likelihood and model\u001b[39;00m\n\u001b[0;32m---> <a href='file:///home/q123/Desktop/explo/src/helpers.py?line=68'>69</a>\u001b[0m model \u001b[39m=\u001b[39m DEGP(train_x\u001b[39m=\u001b[39;49mtrain_x,train_y\u001b[39m=\u001b[39;49mtrain_y,train_s\u001b[39m=\u001b[39;49mtrain_s,\n\u001b[1;32m     <a href='file:///home/q123/Desktop/explo/src/helpers.py?line=69'>70</a>\u001b[0m              kernel_config\u001b[39m=\u001b[39;49mkernel_config,likelihood_config\u001b[39m=\u001b[39;49mlikelihood_config,\n\u001b[1;32m     <a href='file:///home/q123/Desktop/explo/src/helpers.py?line=70'>71</a>\u001b[0m              mlp \u001b[39m=\u001b[39;49mmlp)\n\u001b[1;32m     <a href='file:///home/q123/Desktop/explo/src/helpers.py?line=72'>73</a>\u001b[0m \u001b[39mreturn\u001b[39;00m model,objective_env\n",
      "File \u001b[0;32m~/Desktop/explo/src/gp.py:154\u001b[0m, in \u001b[0;36mDEGP.__init__\u001b[0;34m(self, *args, **kwargs)\u001b[0m\n\u001b[1;32m    <a href='file:///home/q123/Desktop/explo/src/gp.py?line=149'>150</a>\u001b[0m \u001b[39mdef\u001b[39;00m \u001b[39m__init__\u001b[39m(\u001b[39mself\u001b[39m,\u001b[39m*\u001b[39margs,\u001b[39m*\u001b[39m\u001b[39m*\u001b[39mkwargs):\n\u001b[1;32m    <a href='file:///home/q123/Desktop/explo/src/gp.py?line=151'>152</a>\u001b[0m     \u001b[39m\"\"\"Inits GP model with data and a Gaussian likelihood.\"\"\"\u001b[39;00m\n\u001b[0;32m--> <a href='file:///home/q123/Desktop/explo/src/gp.py?line=153'>154</a>\u001b[0m     \u001b[39msuper\u001b[39;49m()\u001b[39m.\u001b[39;49m\u001b[39m__init__\u001b[39;49m(\u001b[39m*\u001b[39;49margs,\u001b[39m*\u001b[39;49m\u001b[39m*\u001b[39;49mkwargs)\n",
      "File \u001b[0;32m~/Desktop/explo/src/gp.py:47\u001b[0m, in \u001b[0;36mMyGP.__init__\u001b[0;34m(self, train_x, train_y, train_s, kernel_config, likelihood_config, mlp)\u001b[0m\n\u001b[1;32m     <a href='file:///home/q123/Desktop/explo/src/gp.py?line=39'>40</a>\u001b[0m \u001b[39m## Use fixed (unoptimizable) noise\u001b[39;00m\n\u001b[1;32m     <a href='file:///home/q123/Desktop/explo/src/gp.py?line=40'>41</a>\u001b[0m \u001b[39m# likelihood.noise_covar.noise = 0.01\u001b[39;00m\n\u001b[1;32m     <a href='file:///home/q123/Desktop/explo/src/gp.py?line=41'>42</a>\u001b[0m \u001b[39m# likelihood.noise_covar.raw_noise.requires_grad = False\u001b[39;00m\n\u001b[1;32m     <a href='file:///home/q123/Desktop/explo/src/gp.py?line=42'>43</a>\u001b[0m \n\u001b[1;32m     <a href='file:///home/q123/Desktop/explo/src/gp.py?line=43'>44</a>\u001b[0m \u001b[39m######\u001b[39;00m\n\u001b[1;32m     <a href='file:///home/q123/Desktop/explo/src/gp.py?line=45'>46</a>\u001b[0m \u001b[39mprint\u001b[39m(\u001b[39m'\u001b[39m\u001b[39mtrain_y.shape\u001b[39m\u001b[39m'\u001b[39m,train_y\u001b[39m.\u001b[39mshape,train_y\u001b[39m.\u001b[39msqueeze()\u001b[39m.\u001b[39mshape)\n\u001b[0;32m---> <a href='file:///home/q123/Desktop/explo/src/gp.py?line=46'>47</a>\u001b[0m \u001b[39msuper\u001b[39;49m()\u001b[39m.\u001b[39;49m\u001b[39m__init__\u001b[39;49m(train_X \u001b[39m=\u001b[39;49m train_x, \n\u001b[1;32m     <a href='file:///home/q123/Desktop/explo/src/gp.py?line=47'>48</a>\u001b[0m                  train_Y\u001b[39m=\u001b[39;49m train_y\u001b[39m.\u001b[39;49mreshape(\u001b[39m-\u001b[39;49m\u001b[39m1\u001b[39;49m,\u001b[39m1\u001b[39;49m),\n\u001b[1;32m     <a href='file:///home/q123/Desktop/explo/src/gp.py?line=48'>49</a>\u001b[0m                 likelihood\u001b[39m=\u001b[39;49m likelihood,\n\u001b[1;32m     <a href='file:///home/q123/Desktop/explo/src/gp.py?line=49'>50</a>\u001b[0m                 mean_module \u001b[39m=\u001b[39;49mConstantMean(), \u001b[39m## prior mean = 0\u001b[39;49;00m\n\u001b[1;32m     <a href='file:///home/q123/Desktop/explo/src/gp.py?line=50'>51</a>\u001b[0m                 covar_module \u001b[39m=\u001b[39;49m setup_kernel(kernel_config,mlp\u001b[39m=\u001b[39;49mmlp,train_s\u001b[39m=\u001b[39;49mtrain_s),\n\u001b[1;32m     <a href='file:///home/q123/Desktop/explo/src/gp.py?line=51'>52</a>\u001b[0m                 \u001b[39m#### NEWW NORMALIZATION\u001b[39;49;00m\n\u001b[1;32m     <a href='file:///home/q123/Desktop/explo/src/gp.py?line=52'>53</a>\u001b[0m                 outcome_transform\u001b[39m=\u001b[39;49mStandardize(m\u001b[39m=\u001b[39;49mtrain_y\u001b[39m.\u001b[39;49mshape[\u001b[39m-\u001b[39;49m\u001b[39m1\u001b[39;49m]),\n\u001b[1;32m     <a href='file:///home/q123/Desktop/explo/src/gp.py?line=53'>54</a>\u001b[0m                 input_transform\u001b[39m=\u001b[39;49mInputStandardize(d\u001b[39m=\u001b[39;49mtrain_x\u001b[39m.\u001b[39;49mshape[\u001b[39m-\u001b[39;49m\u001b[39m1\u001b[39;49m])\n\u001b[1;32m     <a href='file:///home/q123/Desktop/explo/src/gp.py?line=54'>55</a>\u001b[0m                 )\n\u001b[1;32m     <a href='file:///home/q123/Desktop/explo/src/gp.py?line=56'>57</a>\u001b[0m \u001b[39m# self.mean_module = ConstantMean() ## prior mean = 0\u001b[39;00m\n\u001b[1;32m     <a href='file:///home/q123/Desktop/explo/src/gp.py?line=57'>58</a>\u001b[0m \u001b[39m# self.covar_module = setup_kernel(kernel_config,mlp=mlp,train_s=train_s)\u001b[39;00m\n\u001b[1;32m     <a href='file:///home/q123/Desktop/explo/src/gp.py?line=59'>60</a>\u001b[0m \u001b[39mself\u001b[39m\u001b[39m.\u001b[39mN \u001b[39m=\u001b[39m train_x\u001b[39m.\u001b[39mshape[\u001b[39m0\u001b[39m]\n",
      "File \u001b[0;32m~/miniconda3/envs/explo/lib/python3.8/site-packages/botorch/models/gp_regression.py:102\u001b[0m, in \u001b[0;36mSingleTaskGP.__init__\u001b[0;34m(self, train_X, train_Y, likelihood, covar_module, mean_module, outcome_transform, input_transform)\u001b[0m\n\u001b[1;32m     <a href='file:///home/q123/miniconda3/envs/explo/lib/python3.8/site-packages/botorch/models/gp_regression.py?line=97'>98</a>\u001b[0m     transformed_X \u001b[39m=\u001b[39m \u001b[39mself\u001b[39m\u001b[39m.\u001b[39mtransform_inputs(\n\u001b[1;32m     <a href='file:///home/q123/miniconda3/envs/explo/lib/python3.8/site-packages/botorch/models/gp_regression.py?line=98'>99</a>\u001b[0m         X\u001b[39m=\u001b[39mtrain_X, input_transform\u001b[39m=\u001b[39minput_transform\n\u001b[1;32m    <a href='file:///home/q123/miniconda3/envs/explo/lib/python3.8/site-packages/botorch/models/gp_regression.py?line=99'>100</a>\u001b[0m     )\n\u001b[1;32m    <a href='file:///home/q123/miniconda3/envs/explo/lib/python3.8/site-packages/botorch/models/gp_regression.py?line=100'>101</a>\u001b[0m \u001b[39mif\u001b[39;00m outcome_transform \u001b[39mis\u001b[39;00m \u001b[39mnot\u001b[39;00m \u001b[39mNone\u001b[39;00m:\n\u001b[0;32m--> <a href='file:///home/q123/miniconda3/envs/explo/lib/python3.8/site-packages/botorch/models/gp_regression.py?line=101'>102</a>\u001b[0m     train_Y, _ \u001b[39m=\u001b[39m outcome_transform(train_Y)\n\u001b[1;32m    <a href='file:///home/q123/miniconda3/envs/explo/lib/python3.8/site-packages/botorch/models/gp_regression.py?line=102'>103</a>\u001b[0m \u001b[39mself\u001b[39m\u001b[39m.\u001b[39m_validate_tensor_args(X\u001b[39m=\u001b[39mtransformed_X, Y\u001b[39m=\u001b[39mtrain_Y)\n\u001b[1;32m    <a href='file:///home/q123/miniconda3/envs/explo/lib/python3.8/site-packages/botorch/models/gp_regression.py?line=103'>104</a>\u001b[0m ignore_X_dims \u001b[39m=\u001b[39m \u001b[39mgetattr\u001b[39m(\u001b[39mself\u001b[39m, \u001b[39m\"\u001b[39m\u001b[39m_ignore_X_dims_scaling_check\u001b[39m\u001b[39m\"\u001b[39m, \u001b[39mNone\u001b[39;00m)\n",
      "File \u001b[0;32m~/miniconda3/envs/explo/lib/python3.8/site-packages/torch/nn/modules/module.py:1051\u001b[0m, in \u001b[0;36mModule._call_impl\u001b[0;34m(self, *input, **kwargs)\u001b[0m\n\u001b[1;32m   <a href='file:///home/q123/miniconda3/envs/explo/lib/python3.8/site-packages/torch/nn/modules/module.py?line=1046'>1047</a>\u001b[0m \u001b[39m# If we don't have any hooks, we want to skip the rest of the logic in\u001b[39;00m\n\u001b[1;32m   <a href='file:///home/q123/miniconda3/envs/explo/lib/python3.8/site-packages/torch/nn/modules/module.py?line=1047'>1048</a>\u001b[0m \u001b[39m# this function, and just call forward.\u001b[39;00m\n\u001b[1;32m   <a href='file:///home/q123/miniconda3/envs/explo/lib/python3.8/site-packages/torch/nn/modules/module.py?line=1048'>1049</a>\u001b[0m \u001b[39mif\u001b[39;00m \u001b[39mnot\u001b[39;00m (\u001b[39mself\u001b[39m\u001b[39m.\u001b[39m_backward_hooks \u001b[39mor\u001b[39;00m \u001b[39mself\u001b[39m\u001b[39m.\u001b[39m_forward_hooks \u001b[39mor\u001b[39;00m \u001b[39mself\u001b[39m\u001b[39m.\u001b[39m_forward_pre_hooks \u001b[39mor\u001b[39;00m _global_backward_hooks\n\u001b[1;32m   <a href='file:///home/q123/miniconda3/envs/explo/lib/python3.8/site-packages/torch/nn/modules/module.py?line=1049'>1050</a>\u001b[0m         \u001b[39mor\u001b[39;00m _global_forward_hooks \u001b[39mor\u001b[39;00m _global_forward_pre_hooks):\n\u001b[0;32m-> <a href='file:///home/q123/miniconda3/envs/explo/lib/python3.8/site-packages/torch/nn/modules/module.py?line=1050'>1051</a>\u001b[0m     \u001b[39mreturn\u001b[39;00m forward_call(\u001b[39m*\u001b[39;49m\u001b[39minput\u001b[39;49m, \u001b[39m*\u001b[39;49m\u001b[39m*\u001b[39;49mkwargs)\n\u001b[1;32m   <a href='file:///home/q123/miniconda3/envs/explo/lib/python3.8/site-packages/torch/nn/modules/module.py?line=1051'>1052</a>\u001b[0m \u001b[39m# Do not call functions when jit is used\u001b[39;00m\n\u001b[1;32m   <a href='file:///home/q123/miniconda3/envs/explo/lib/python3.8/site-packages/torch/nn/modules/module.py?line=1052'>1053</a>\u001b[0m full_backward_hooks, non_full_backward_hooks \u001b[39m=\u001b[39m [], []\n",
      "File \u001b[0;32m~/miniconda3/envs/explo/lib/python3.8/site-packages/botorch/models/transforms/outcome.py:246\u001b[0m, in \u001b[0;36mStandardize.forward\u001b[0;34m(self, Y, Yvar)\u001b[0m\n\u001b[1;32m    <a href='file:///home/q123/miniconda3/envs/explo/lib/python3.8/site-packages/botorch/models/transforms/outcome.py?line=243'>244</a>\u001b[0m     \u001b[39mraise\u001b[39;00m \u001b[39mRuntimeError\u001b[39;00m(\u001b[39m\"\u001b[39m\u001b[39mwrong batch shape\u001b[39m\u001b[39m\"\u001b[39m)\n\u001b[1;32m    <a href='file:///home/q123/miniconda3/envs/explo/lib/python3.8/site-packages/botorch/models/transforms/outcome.py?line=244'>245</a>\u001b[0m \u001b[39mif\u001b[39;00m Y\u001b[39m.\u001b[39msize(\u001b[39m-\u001b[39m\u001b[39m1\u001b[39m) \u001b[39m!=\u001b[39m \u001b[39mself\u001b[39m\u001b[39m.\u001b[39m_m:\n\u001b[0;32m--> <a href='file:///home/q123/miniconda3/envs/explo/lib/python3.8/site-packages/botorch/models/transforms/outcome.py?line=245'>246</a>\u001b[0m     \u001b[39mraise\u001b[39;00m \u001b[39mRuntimeError\u001b[39;00m(\u001b[39m\"\u001b[39m\u001b[39mwrong output dimension\u001b[39m\u001b[39m\"\u001b[39m)\n\u001b[1;32m    <a href='file:///home/q123/miniconda3/envs/explo/lib/python3.8/site-packages/botorch/models/transforms/outcome.py?line=246'>247</a>\u001b[0m stdvs \u001b[39m=\u001b[39m Y\u001b[39m.\u001b[39mstd(dim\u001b[39m=\u001b[39m\u001b[39m-\u001b[39m\u001b[39m2\u001b[39m, keepdim\u001b[39m=\u001b[39m\u001b[39mTrue\u001b[39;00m)\n\u001b[1;32m    <a href='file:///home/q123/miniconda3/envs/explo/lib/python3.8/site-packages/botorch/models/transforms/outcome.py?line=247'>248</a>\u001b[0m stdvs \u001b[39m=\u001b[39m stdvs\u001b[39m.\u001b[39mwhere(stdvs \u001b[39m>\u001b[39m\u001b[39m=\u001b[39m \u001b[39mself\u001b[39m\u001b[39m.\u001b[39m_min_stdv, torch\u001b[39m.\u001b[39mfull_like(stdvs, \u001b[39m1.0\u001b[39m))\n",
      "\u001b[0;31mRuntimeError\u001b[0m: wrong output dimension"
     ]
    }
   ],
   "source": [
    "env_name = \"Swimmer-v2\"\n",
    "kernel_name = \"rbf\"\n",
    "#kernel_name = \"linearstate\"\n",
    "\n",
    "env_config,likelihood_config,kernel_config,optimizer_config,trainer_config = get_configs(env_name,kernel_name)\n",
    "additional_layers=[]\n",
    "model,objective_env = setup_experiment(env_config,kernel_config,likelihood_config,additional_layers)\n",
    "\n",
    "trainer_config = {\n",
    "        \"n_steps\" :200,\n",
    "        \"report_freq\":5,\n",
    "        \"save_best\":True,\n",
    "}\n",
    "\n",
    "### Chose optimizer \n",
    "#optimizer = BOptimizer(**optimizer_config)\n",
    "optimizer = GIBOptimizer(model,**optimizer_config)\n",
    "trainer = Trainer(model,objective_env,optimizer,**trainer_config)\n",
    "rslt= trainer.run()"
   ]
  }
 ],
 "metadata": {
  "interpreter": {
   "hash": "3b54cb4d83655428105eabb77a9cd1898504607119e0ebf088afaf3437f4d048"
  },
  "kernelspec": {
   "display_name": "Python 3.8.5 ('explo')",
   "language": "python",
   "name": "python3"
  },
  "language_info": {
   "codemirror_mode": {
    "name": "ipython",
    "version": 3
   },
   "file_extension": ".py",
   "mimetype": "text/x-python",
   "name": "python",
   "nbconvert_exporter": "python",
   "pygments_lexer": "ipython3",
   "version": "3.8.13"
  },
  "orig_nbformat": 4
 },
 "nbformat": 4,
 "nbformat_minor": 2
}
