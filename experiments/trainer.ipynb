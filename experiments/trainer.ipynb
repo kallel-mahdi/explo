{
 "cells": [
  {
   "cell_type": "code",
   "execution_count": 3,
   "metadata": {},
   "outputs": [
    {
     "name": "stdout",
     "output_type": "stream",
     "text": [
      "/home/q123/Desktop/explo\n"
     ]
    }
   ],
   "source": [
    "%cd /home/q123/Desktop/explo\n",
    "\n",
    "import torch \n",
    "import gpytorch \n",
    "import logging\n",
    "import logging.config\n",
    "\n",
    "from src.helpers import setup_experiment\n",
    "from src.trainer import Trainer\n",
    "from src.optimizers.gibo import GIBOptimizer\n",
    "from src.optimizers.vanilla import BOptimizer\n",
    "from src.config import get_configs\n",
    "\n",
    "logging.config.fileConfig('logging.conf')\n",
    "# create root logger\n",
    "logger = logging.getLogger()"
   ]
  },
  {
   "cell_type": "code",
   "execution_count": 4,
   "metadata": {},
   "outputs": [
    {
     "name": "stdout",
     "output_type": "stream",
     "text": [
      "MathLog.src.helpers : WARNING : MLP dimensions : [4, 1]\n",
      "Using ard_num_dims = 5\n",
      " Gibo will use 20 last points to fit GP and 8 info samples\n",
      "current 0.06000000610947609 / max 0.9999942183494568 /batch_mean 0.12559998035430908 /batch_max 0.2300001084804535 \n",
      "##############################\n",
      "covar_lengthscale max 0.33570021390914917 / min 0.32904568314552307                      covar_outputscale 0.01000006403774023                     noise 0.20000000298023224\n",
      "##############################\n",
      "last parameters tensor([-0.0381,  0.0579,  0.2133,  0.2232,  0.0942])\n",
      "MLL : -0.2840518057346344\n",
      "current 0.05800000578165054 / max 0.9999942183494568 /batch_mean 0.03320000320672989 /batch_max 0.05800000578165054 \n",
      "##############################\n",
      "covar_lengthscale max 0.33453798294067383 / min 0.29247167706489563                      covar_outputscale 0.01000006403774023                     noise 0.20000000298023224\n",
      "##############################\n",
      "last parameters tensor([0.1031, 0.0783, 0.2754, 0.3235, 0.1504])\n",
      "MLL : -0.37357622385025024\n",
      "current 0.11799991130828857 / max 0.9999942183494568 /batch_mean 0.6555965542793274 /batch_max 0.9999942183494568 \n",
      "##############################\n",
      "covar_lengthscale max 0.34020158648490906 / min 0.1176338791847229                      covar_outputscale 0.01000006403774023                     noise 0.20000000298023224\n",
      "##############################\n",
      "last parameters tensor([ 0.1445,  0.2091,  0.4287,  0.2763, -0.1241])\n",
      "MLL : -0.6001294851303101\n",
      "current 0.9999942183494568 / max 0.9999942183494568 /batch_mean 0.999994158744812 /batch_max 0.9999942183494568 \n",
      "##############################\n",
      "covar_lengthscale max 0.33910152316093445 / min 0.27205637097358704                      covar_outputscale 0.01000006403774023                     noise 0.20000000298023224\n",
      "##############################\n",
      "last parameters tensor([ 0.0298,  0.1487,  0.6104,  0.4584, -0.0624])\n",
      "MLL : -0.5308383107185364\n",
      "current 0.02200000174343586 / max 0.9999942183494568 /batch_mean 0.5483973026275635 /batch_max 0.9999942183494568 \n",
      "##############################\n",
      "covar_lengthscale max 0.3364261984825134 / min 0.32249677181243896                      covar_outputscale 0.010000153444707394                     noise 0.20000000298023224\n",
      "##############################\n",
      "last parameters tensor([0.0272, 0.3250, 0.5281, 0.2830, 0.1689])\n",
      "MLL : -0.5434873104095459\n"
     ]
    },
    {
     "ename": "KeyboardInterrupt",
     "evalue": "",
     "output_type": "error",
     "traceback": [
      "\u001b[0;31m---------------------------------------------------------------------------\u001b[0m",
      "\u001b[0;31mKeyboardInterrupt\u001b[0m                         Traceback (most recent call last)",
      "\u001b[1;32m/home/q123/Desktop/explo/experiments/trainer.ipynb Cell 2'\u001b[0m in \u001b[0;36m<cell line: 19>\u001b[0;34m()\u001b[0m\n\u001b[1;32m     <a href='vscode-notebook-cell:/home/q123/Desktop/explo/experiments/trainer.ipynb#ch0000001?line=16'>17</a>\u001b[0m optimizer \u001b[39m=\u001b[39m GIBOptimizer(model,\u001b[39m*\u001b[39m\u001b[39m*\u001b[39moptimizer_config)\n\u001b[1;32m     <a href='vscode-notebook-cell:/home/q123/Desktop/explo/experiments/trainer.ipynb#ch0000001?line=17'>18</a>\u001b[0m trainer \u001b[39m=\u001b[39m Trainer(model,objective_env,optimizer,\u001b[39m*\u001b[39m\u001b[39m*\u001b[39mtrainer_config)\n\u001b[0;32m---> <a href='vscode-notebook-cell:/home/q123/Desktop/explo/experiments/trainer.ipynb#ch0000001?line=18'>19</a>\u001b[0m rslt\u001b[39m=\u001b[39m trainer\u001b[39m.\u001b[39;49mrun()\n",
      "File \u001b[0;32m~/Desktop/explo/src/trainer.py:33\u001b[0m, in \u001b[0;36mTrainer.run\u001b[0;34m(self)\u001b[0m\n\u001b[1;32m     <a href='file:///home/q123/Desktop/explo/src/trainer.py?line=28'>29</a>\u001b[0m objective_env \u001b[39m=\u001b[39m \u001b[39mself\u001b[39m\u001b[39m.\u001b[39mobjective_env  \n\u001b[1;32m     <a href='file:///home/q123/Desktop/explo/src/trainer.py?line=30'>31</a>\u001b[0m \u001b[39mfor\u001b[39;00m i \u001b[39min\u001b[39;00m \u001b[39mrange\u001b[39m(\u001b[39mself\u001b[39m\u001b[39m.\u001b[39mn_steps):\n\u001b[0;32m---> <a href='file:///home/q123/Desktop/explo/src/trainer.py?line=32'>33</a>\u001b[0m     optimizer\u001b[39m.\u001b[39;49mstep(model,objective_env)\n\u001b[1;32m     <a href='file:///home/q123/Desktop/explo/src/trainer.py?line=34'>35</a>\u001b[0m     \u001b[39mif\u001b[39;00m (i \u001b[39m%\u001b[39m report_freq) \u001b[39m==\u001b[39m \u001b[39m0\u001b[39m \u001b[39mand\u001b[39;00m i\u001b[39m>\u001b[39m\u001b[39m=\u001b[39mreport_freq:\n\u001b[1;32m     <a href='file:///home/q123/Desktop/explo/src/trainer.py?line=36'>37</a>\u001b[0m         \u001b[39mmax\u001b[39m \u001b[39m=\u001b[39m model\u001b[39m.\u001b[39my_hist\u001b[39m.\u001b[39mmax()\n",
      "File \u001b[0;32m~/Desktop/explo/src/optimizers/gibo.py:194\u001b[0m, in \u001b[0;36mGIBOptimizer.step\u001b[0;34m(self, model, objective_env)\u001b[0m\n\u001b[1;32m    <a href='file:///home/q123/Desktop/explo/src/optimizers/gibo.py?line=191'>192</a>\u001b[0m \u001b[39m# Sample locally to optimize gradient information\u001b[39;00m\n\u001b[1;32m    <a href='file:///home/q123/Desktop/explo/src/optimizers/gibo.py?line=192'>193</a>\u001b[0m bounds \u001b[39m=\u001b[39m torch\u001b[39m.\u001b[39mtensor([[\u001b[39m-\u001b[39m\u001b[39mself\u001b[39m\u001b[39m.\u001b[39mdelta], [\u001b[39mself\u001b[39m\u001b[39m.\u001b[39mdelta]]) \u001b[39m+\u001b[39m theta_i\n\u001b[0;32m--> <a href='file:///home/q123/Desktop/explo/src/optimizers/gibo.py?line=193'>194</a>\u001b[0m \u001b[39mself\u001b[39;49m\u001b[39m.\u001b[39;49moptimize_information(objective_env,model,bounds)\n\u001b[1;32m    <a href='file:///home/q123/Desktop/explo/src/optimizers/gibo.py?line=195'>196</a>\u001b[0m \u001b[39m# Take one step in direction of the gradient\u001b[39;00m\n\u001b[1;32m    <a href='file:///home/q123/Desktop/explo/src/optimizers/gibo.py?line=196'>197</a>\u001b[0m \u001b[39mself\u001b[39m\u001b[39m.\u001b[39mone_gradient_step(model, theta_i)\n",
      "File \u001b[0;32m~/Desktop/explo/src/optimizers/gibo.py:134\u001b[0m, in \u001b[0;36mGIBOptimizer.optimize_information\u001b[0;34m(self, objective_env, model, bounds)\u001b[0m\n\u001b[1;32m    <a href='file:///home/q123/Desktop/explo/src/optimizers/gibo.py?line=130'>131</a>\u001b[0m model\u001b[39m.\u001b[39mposterior(\u001b[39mself\u001b[39m\u001b[39m.\u001b[39mtheta_i)  \u001b[39m## hotfix\u001b[39;00m\n\u001b[1;32m    <a href='file:///home/q123/Desktop/explo/src/optimizers/gibo.py?line=132'>133</a>\u001b[0m \u001b[39m# Optimize acquistion function and get new observation.\u001b[39;00m\n\u001b[0;32m--> <a href='file:///home/q123/Desktop/explo/src/optimizers/gibo.py?line=133'>134</a>\u001b[0m new_x, _ \u001b[39m=\u001b[39m botorch\u001b[39m.\u001b[39;49moptim\u001b[39m.\u001b[39;49moptimize_acqf(\n\u001b[1;32m    <a href='file:///home/q123/Desktop/explo/src/optimizers/gibo.py?line=134'>135</a>\u001b[0m     acq_function\u001b[39m=\u001b[39;49m\u001b[39mself\u001b[39;49m\u001b[39m.\u001b[39;49mgradInfo,\n\u001b[1;32m    <a href='file:///home/q123/Desktop/explo/src/optimizers/gibo.py?line=135'>136</a>\u001b[0m     bounds\u001b[39m=\u001b[39;49mbounds,\n\u001b[1;32m    <a href='file:///home/q123/Desktop/explo/src/optimizers/gibo.py?line=136'>137</a>\u001b[0m     q\u001b[39m=\u001b[39;49m\u001b[39m1\u001b[39;49m,  \u001b[39m# Analytic acquisition function.\u001b[39;49;00m\n\u001b[1;32m    <a href='file:///home/q123/Desktop/explo/src/optimizers/gibo.py?line=137'>138</a>\u001b[0m     num_restarts\u001b[39m=\u001b[39;49m\u001b[39m5\u001b[39;49m,\n\u001b[1;32m    <a href='file:///home/q123/Desktop/explo/src/optimizers/gibo.py?line=138'>139</a>\u001b[0m     raw_samples\u001b[39m=\u001b[39;49m\u001b[39m64\u001b[39;49m,\n\u001b[1;32m    <a href='file:///home/q123/Desktop/explo/src/optimizers/gibo.py?line=139'>140</a>\u001b[0m     options\u001b[39m=\u001b[39;49m{\u001b[39m'\u001b[39;49m\u001b[39mnonnegative\u001b[39;49m\u001b[39m'\u001b[39;49m: \u001b[39mTrue\u001b[39;49;00m, \u001b[39m'\u001b[39;49m\u001b[39mbatch_limit\u001b[39;49m\u001b[39m'\u001b[39;49m: \u001b[39m5\u001b[39;49m},\n\u001b[1;32m    <a href='file:///home/q123/Desktop/explo/src/optimizers/gibo.py?line=140'>141</a>\u001b[0m     return_best_only\u001b[39m=\u001b[39;49m\u001b[39mTrue\u001b[39;49;00m,\n\u001b[1;32m    <a href='file:///home/q123/Desktop/explo/src/optimizers/gibo.py?line=141'>142</a>\u001b[0m     sequential\u001b[39m=\u001b[39;49m\u001b[39mFalse\u001b[39;49;00m)\n\u001b[1;32m    <a href='file:///home/q123/Desktop/explo/src/optimizers/gibo.py?line=143'>144</a>\u001b[0m \u001b[39m# Update training points.\u001b[39;00m\n\u001b[1;32m    <a href='file:///home/q123/Desktop/explo/src/optimizers/gibo.py?line=144'>145</a>\u001b[0m new_y,new_s \u001b[39m=\u001b[39m objective_env(new_x,\u001b[39mself\u001b[39m\u001b[39m.\u001b[39mn_eval)\n",
      "File \u001b[0;32m~/miniconda3/envs/explo/lib/python3.8/site-packages/botorch/optim/optimize.py:225\u001b[0m, in \u001b[0;36moptimize_acqf\u001b[0;34m(acq_function, bounds, q, num_restarts, raw_samples, options, inequality_constraints, equality_constraints, nonlinear_inequality_constraints, fixed_features, post_processing_func, batch_initial_conditions, return_best_only, sequential, **kwargs)\u001b[0m\n\u001b[1;32m    <a href='file:///home/q123/miniconda3/envs/explo/lib/python3.8/site-packages/botorch/optim/optimize.py?line=221'>222</a>\u001b[0m batched_ics \u001b[39m=\u001b[39m batch_initial_conditions\u001b[39m.\u001b[39msplit(batch_limit)\n\u001b[1;32m    <a href='file:///home/q123/miniconda3/envs/explo/lib/python3.8/site-packages/botorch/optim/optimize.py?line=222'>223</a>\u001b[0m \u001b[39mfor\u001b[39;00m i, batched_ics_ \u001b[39min\u001b[39;00m \u001b[39menumerate\u001b[39m(batched_ics):\n\u001b[1;32m    <a href='file:///home/q123/miniconda3/envs/explo/lib/python3.8/site-packages/botorch/optim/optimize.py?line=223'>224</a>\u001b[0m     \u001b[39m# optimize using random restart optimization\u001b[39;00m\n\u001b[0;32m--> <a href='file:///home/q123/miniconda3/envs/explo/lib/python3.8/site-packages/botorch/optim/optimize.py?line=224'>225</a>\u001b[0m     batch_candidates_curr, batch_acq_values_curr \u001b[39m=\u001b[39m gen_candidates_scipy(\n\u001b[1;32m    <a href='file:///home/q123/miniconda3/envs/explo/lib/python3.8/site-packages/botorch/optim/optimize.py?line=225'>226</a>\u001b[0m         initial_conditions\u001b[39m=\u001b[39;49mbatched_ics_,\n\u001b[1;32m    <a href='file:///home/q123/miniconda3/envs/explo/lib/python3.8/site-packages/botorch/optim/optimize.py?line=226'>227</a>\u001b[0m         acquisition_function\u001b[39m=\u001b[39;49macq_function,\n\u001b[1;32m    <a href='file:///home/q123/miniconda3/envs/explo/lib/python3.8/site-packages/botorch/optim/optimize.py?line=227'>228</a>\u001b[0m         lower_bounds\u001b[39m=\u001b[39;49mbounds[\u001b[39m0\u001b[39;49m],\n\u001b[1;32m    <a href='file:///home/q123/miniconda3/envs/explo/lib/python3.8/site-packages/botorch/optim/optimize.py?line=228'>229</a>\u001b[0m         upper_bounds\u001b[39m=\u001b[39;49mbounds[\u001b[39m1\u001b[39;49m],\n\u001b[1;32m    <a href='file:///home/q123/miniconda3/envs/explo/lib/python3.8/site-packages/botorch/optim/optimize.py?line=229'>230</a>\u001b[0m         options\u001b[39m=\u001b[39;49m{k: v \u001b[39mfor\u001b[39;49;00m k, v \u001b[39min\u001b[39;49;00m options\u001b[39m.\u001b[39;49mitems() \u001b[39mif\u001b[39;49;00m k \u001b[39mnot\u001b[39;49;00m \u001b[39min\u001b[39;49;00m INIT_OPTION_KEYS},\n\u001b[1;32m    <a href='file:///home/q123/miniconda3/envs/explo/lib/python3.8/site-packages/botorch/optim/optimize.py?line=230'>231</a>\u001b[0m         inequality_constraints\u001b[39m=\u001b[39;49minequality_constraints,\n\u001b[1;32m    <a href='file:///home/q123/miniconda3/envs/explo/lib/python3.8/site-packages/botorch/optim/optimize.py?line=231'>232</a>\u001b[0m         equality_constraints\u001b[39m=\u001b[39;49mequality_constraints,\n\u001b[1;32m    <a href='file:///home/q123/miniconda3/envs/explo/lib/python3.8/site-packages/botorch/optim/optimize.py?line=232'>233</a>\u001b[0m         nonlinear_inequality_constraints\u001b[39m=\u001b[39;49mnonlinear_inequality_constraints,\n\u001b[1;32m    <a href='file:///home/q123/miniconda3/envs/explo/lib/python3.8/site-packages/botorch/optim/optimize.py?line=233'>234</a>\u001b[0m         fixed_features\u001b[39m=\u001b[39;49mfixed_features,\n\u001b[1;32m    <a href='file:///home/q123/miniconda3/envs/explo/lib/python3.8/site-packages/botorch/optim/optimize.py?line=234'>235</a>\u001b[0m     )\n\u001b[1;32m    <a href='file:///home/q123/miniconda3/envs/explo/lib/python3.8/site-packages/botorch/optim/optimize.py?line=235'>236</a>\u001b[0m     batch_candidates_list\u001b[39m.\u001b[39mappend(batch_candidates_curr)\n\u001b[1;32m    <a href='file:///home/q123/miniconda3/envs/explo/lib/python3.8/site-packages/botorch/optim/optimize.py?line=236'>237</a>\u001b[0m     batch_acq_values_list\u001b[39m.\u001b[39mappend(batch_acq_values_curr)\n",
      "File \u001b[0;32m~/miniconda3/envs/explo/lib/python3.8/site-packages/botorch/generation/gen.py:202\u001b[0m, in \u001b[0;36mgen_candidates_scipy\u001b[0;34m(initial_conditions, acquisition_function, lower_bounds, upper_bounds, inequality_constraints, equality_constraints, nonlinear_inequality_constraints, options, fixed_features)\u001b[0m\n\u001b[1;32m    <a href='file:///home/q123/miniconda3/envs/explo/lib/python3.8/site-packages/botorch/generation/gen.py?line=198'>199</a>\u001b[0m \u001b[39mdef\u001b[39;00m \u001b[39mf\u001b[39m(x):\n\u001b[1;32m    <a href='file:///home/q123/miniconda3/envs/explo/lib/python3.8/site-packages/botorch/generation/gen.py?line=199'>200</a>\u001b[0m     \u001b[39mreturn\u001b[39;00m \u001b[39m-\u001b[39macquisition_function(x)\n\u001b[0;32m--> <a href='file:///home/q123/miniconda3/envs/explo/lib/python3.8/site-packages/botorch/generation/gen.py?line=201'>202</a>\u001b[0m res \u001b[39m=\u001b[39m minimize(\n\u001b[1;32m    <a href='file:///home/q123/miniconda3/envs/explo/lib/python3.8/site-packages/botorch/generation/gen.py?line=202'>203</a>\u001b[0m     fun\u001b[39m=\u001b[39;49mf_np_wrapper,\n\u001b[1;32m    <a href='file:///home/q123/miniconda3/envs/explo/lib/python3.8/site-packages/botorch/generation/gen.py?line=203'>204</a>\u001b[0m     args\u001b[39m=\u001b[39;49m(f,),\n\u001b[1;32m    <a href='file:///home/q123/miniconda3/envs/explo/lib/python3.8/site-packages/botorch/generation/gen.py?line=204'>205</a>\u001b[0m     x0\u001b[39m=\u001b[39;49mx0,\n\u001b[1;32m    <a href='file:///home/q123/miniconda3/envs/explo/lib/python3.8/site-packages/botorch/generation/gen.py?line=205'>206</a>\u001b[0m     method\u001b[39m=\u001b[39;49moptions\u001b[39m.\u001b[39;49mget(\u001b[39m\"\u001b[39;49m\u001b[39mmethod\u001b[39;49m\u001b[39m\"\u001b[39;49m, \u001b[39m\"\u001b[39;49m\u001b[39mSLSQP\u001b[39;49m\u001b[39m\"\u001b[39;49m \u001b[39mif\u001b[39;49;00m constraints \u001b[39melse\u001b[39;49;00m \u001b[39m\"\u001b[39;49m\u001b[39mL-BFGS-B\u001b[39;49m\u001b[39m\"\u001b[39;49m),\n\u001b[1;32m    <a href='file:///home/q123/miniconda3/envs/explo/lib/python3.8/site-packages/botorch/generation/gen.py?line=206'>207</a>\u001b[0m     jac\u001b[39m=\u001b[39;49m\u001b[39mTrue\u001b[39;49;00m,\n\u001b[1;32m    <a href='file:///home/q123/miniconda3/envs/explo/lib/python3.8/site-packages/botorch/generation/gen.py?line=207'>208</a>\u001b[0m     bounds\u001b[39m=\u001b[39;49mbounds,\n\u001b[1;32m    <a href='file:///home/q123/miniconda3/envs/explo/lib/python3.8/site-packages/botorch/generation/gen.py?line=208'>209</a>\u001b[0m     constraints\u001b[39m=\u001b[39;49mconstraints,\n\u001b[1;32m    <a href='file:///home/q123/miniconda3/envs/explo/lib/python3.8/site-packages/botorch/generation/gen.py?line=209'>210</a>\u001b[0m     callback\u001b[39m=\u001b[39;49moptions\u001b[39m.\u001b[39;49mget(\u001b[39m\"\u001b[39;49m\u001b[39mcallback\u001b[39;49m\u001b[39m\"\u001b[39;49m, \u001b[39mNone\u001b[39;49;00m),\n\u001b[1;32m    <a href='file:///home/q123/miniconda3/envs/explo/lib/python3.8/site-packages/botorch/generation/gen.py?line=210'>211</a>\u001b[0m     options\u001b[39m=\u001b[39;49m{k: v \u001b[39mfor\u001b[39;49;00m k, v \u001b[39min\u001b[39;49;00m options\u001b[39m.\u001b[39;49mitems() \u001b[39mif\u001b[39;49;00m k \u001b[39mnot\u001b[39;49;00m \u001b[39min\u001b[39;49;00m [\u001b[39m\"\u001b[39;49m\u001b[39mmethod\u001b[39;49m\u001b[39m\"\u001b[39;49m, \u001b[39m\"\u001b[39;49m\u001b[39mcallback\u001b[39;49m\u001b[39m\"\u001b[39;49m]},\n\u001b[1;32m    <a href='file:///home/q123/miniconda3/envs/explo/lib/python3.8/site-packages/botorch/generation/gen.py?line=211'>212</a>\u001b[0m )\n\u001b[1;32m    <a href='file:///home/q123/miniconda3/envs/explo/lib/python3.8/site-packages/botorch/generation/gen.py?line=212'>213</a>\u001b[0m candidates \u001b[39m=\u001b[39m fix_features(\n\u001b[1;32m    <a href='file:///home/q123/miniconda3/envs/explo/lib/python3.8/site-packages/botorch/generation/gen.py?line=213'>214</a>\u001b[0m     X\u001b[39m=\u001b[39mtorch\u001b[39m.\u001b[39mfrom_numpy(res\u001b[39m.\u001b[39mx)\u001b[39m.\u001b[39mto(initial_conditions)\u001b[39m.\u001b[39mreshape(shapeX),\n\u001b[1;32m    <a href='file:///home/q123/miniconda3/envs/explo/lib/python3.8/site-packages/botorch/generation/gen.py?line=214'>215</a>\u001b[0m     fixed_features\u001b[39m=\u001b[39mfixed_features,\n\u001b[1;32m    <a href='file:///home/q123/miniconda3/envs/explo/lib/python3.8/site-packages/botorch/generation/gen.py?line=215'>216</a>\u001b[0m )\n\u001b[1;32m    <a href='file:///home/q123/miniconda3/envs/explo/lib/python3.8/site-packages/botorch/generation/gen.py?line=217'>218</a>\u001b[0m \u001b[39m# SLSQP sometimes fails in the line search or may just fail to find a feasible\u001b[39;00m\n\u001b[1;32m    <a href='file:///home/q123/miniconda3/envs/explo/lib/python3.8/site-packages/botorch/generation/gen.py?line=218'>219</a>\u001b[0m \u001b[39m# candidate in which case we just return the starting point. This happens rarely,\u001b[39;00m\n\u001b[1;32m    <a href='file:///home/q123/miniconda3/envs/explo/lib/python3.8/site-packages/botorch/generation/gen.py?line=219'>220</a>\u001b[0m \u001b[39m# so it shouldn't be an issue given enough restarts.\u001b[39;00m\n",
      "File \u001b[0;32m~/miniconda3/envs/explo/lib/python3.8/site-packages/scipy/optimize/_minimize.py:560\u001b[0m, in \u001b[0;36mminimize\u001b[0;34m(fun, x0, args, method, jac, hess, hessp, bounds, constraints, tol, callback, options)\u001b[0m\n\u001b[1;32m    <a href='file:///home/q123/miniconda3/envs/explo/lib/python3.8/site-packages/scipy/optimize/_minimize.py?line=555'>556</a>\u001b[0m \u001b[39mif\u001b[39;00m (meth \u001b[39min\u001b[39;00m (\u001b[39m'\u001b[39m\u001b[39mcg\u001b[39m\u001b[39m'\u001b[39m, \u001b[39m'\u001b[39m\u001b[39mbfgs\u001b[39m\u001b[39m'\u001b[39m, \u001b[39m'\u001b[39m\u001b[39mnewton-cg\u001b[39m\u001b[39m'\u001b[39m, \u001b[39m'\u001b[39m\u001b[39mdogleg\u001b[39m\u001b[39m'\u001b[39m, \u001b[39m'\u001b[39m\u001b[39mtrust-ncg\u001b[39m\u001b[39m'\u001b[39m)\n\u001b[1;32m    <a href='file:///home/q123/miniconda3/envs/explo/lib/python3.8/site-packages/scipy/optimize/_minimize.py?line=556'>557</a>\u001b[0m         \u001b[39mand\u001b[39;00m (bounds \u001b[39mis\u001b[39;00m \u001b[39mnot\u001b[39;00m \u001b[39mNone\u001b[39;00m \u001b[39mor\u001b[39;00m np\u001b[39m.\u001b[39many(constraints))):\n\u001b[1;32m    <a href='file:///home/q123/miniconda3/envs/explo/lib/python3.8/site-packages/scipy/optimize/_minimize.py?line=557'>558</a>\u001b[0m     warn(\u001b[39m'\u001b[39m\u001b[39mMethod \u001b[39m\u001b[39m%s\u001b[39;00m\u001b[39m cannot handle constraints nor bounds.\u001b[39m\u001b[39m'\u001b[39m \u001b[39m%\u001b[39m method,\n\u001b[1;32m    <a href='file:///home/q123/miniconda3/envs/explo/lib/python3.8/site-packages/scipy/optimize/_minimize.py?line=558'>559</a>\u001b[0m          \u001b[39mRuntimeWarning\u001b[39;00m)\n\u001b[0;32m--> <a href='file:///home/q123/miniconda3/envs/explo/lib/python3.8/site-packages/scipy/optimize/_minimize.py?line=559'>560</a>\u001b[0m \u001b[39mif\u001b[39;00m meth \u001b[39min\u001b[39;00m (\u001b[39m'\u001b[39m\u001b[39mnelder-mead\u001b[39m\u001b[39m'\u001b[39m, \u001b[39m'\u001b[39m\u001b[39ml-bfgs-b\u001b[39m\u001b[39m'\u001b[39m, \u001b[39m'\u001b[39m\u001b[39mtnc\u001b[39m\u001b[39m'\u001b[39m, \u001b[39m'\u001b[39m\u001b[39mpowell\u001b[39m\u001b[39m'\u001b[39m) \u001b[39mand\u001b[39;00m np\u001b[39m.\u001b[39;49many(constraints):\n\u001b[1;32m    <a href='file:///home/q123/miniconda3/envs/explo/lib/python3.8/site-packages/scipy/optimize/_minimize.py?line=560'>561</a>\u001b[0m     warn(\u001b[39m'\u001b[39m\u001b[39mMethod \u001b[39m\u001b[39m%s\u001b[39;00m\u001b[39m cannot handle constraints.\u001b[39m\u001b[39m'\u001b[39m \u001b[39m%\u001b[39m method,\n\u001b[1;32m    <a href='file:///home/q123/miniconda3/envs/explo/lib/python3.8/site-packages/scipy/optimize/_minimize.py?line=561'>562</a>\u001b[0m          \u001b[39mRuntimeWarning\u001b[39;00m)\n\u001b[1;32m    <a href='file:///home/q123/miniconda3/envs/explo/lib/python3.8/site-packages/scipy/optimize/_minimize.py?line=562'>563</a>\u001b[0m \u001b[39mif\u001b[39;00m meth \u001b[39m==\u001b[39m \u001b[39m'\u001b[39m\u001b[39mcobyla\u001b[39m\u001b[39m'\u001b[39m \u001b[39mand\u001b[39;00m bounds \u001b[39mis\u001b[39;00m \u001b[39mnot\u001b[39;00m \u001b[39mNone\u001b[39;00m:\n",
      "File \u001b[0;32m<__array_function__ internals>:180\u001b[0m, in \u001b[0;36many\u001b[0;34m(*args, **kwargs)\u001b[0m\n",
      "File \u001b[0;32m~/miniconda3/envs/explo/lib/python3.8/site-packages/numpy/core/fromnumeric.py:2395\u001b[0m, in \u001b[0;36many\u001b[0;34m(a, axis, out, keepdims, where)\u001b[0m\n\u001b[1;32m   <a href='file:///home/q123/miniconda3/envs/explo/lib/python3.8/site-packages/numpy/core/fromnumeric.py?line=2304'>2305</a>\u001b[0m \u001b[39m@array_function_dispatch\u001b[39m(_any_dispatcher)\n\u001b[1;32m   <a href='file:///home/q123/miniconda3/envs/explo/lib/python3.8/site-packages/numpy/core/fromnumeric.py?line=2305'>2306</a>\u001b[0m \u001b[39mdef\u001b[39;00m \u001b[39many\u001b[39m(a, axis\u001b[39m=\u001b[39m\u001b[39mNone\u001b[39;00m, out\u001b[39m=\u001b[39m\u001b[39mNone\u001b[39;00m, keepdims\u001b[39m=\u001b[39mnp\u001b[39m.\u001b[39m_NoValue, \u001b[39m*\u001b[39m, where\u001b[39m=\u001b[39mnp\u001b[39m.\u001b[39m_NoValue):\n\u001b[1;32m   <a href='file:///home/q123/miniconda3/envs/explo/lib/python3.8/site-packages/numpy/core/fromnumeric.py?line=2306'>2307</a>\u001b[0m     \u001b[39m\"\"\"\u001b[39;00m\n\u001b[1;32m   <a href='file:///home/q123/miniconda3/envs/explo/lib/python3.8/site-packages/numpy/core/fromnumeric.py?line=2307'>2308</a>\u001b[0m \u001b[39m    Test whether any array element along a given axis evaluates to True.\u001b[39;00m\n\u001b[1;32m   <a href='file:///home/q123/miniconda3/envs/explo/lib/python3.8/site-packages/numpy/core/fromnumeric.py?line=2308'>2309</a>\u001b[0m \n\u001b[0;32m   (...)\u001b[0m\n\u001b[1;32m   <a href='file:///home/q123/miniconda3/envs/explo/lib/python3.8/site-packages/numpy/core/fromnumeric.py?line=2392'>2393</a>\u001b[0m \n\u001b[1;32m   <a href='file:///home/q123/miniconda3/envs/explo/lib/python3.8/site-packages/numpy/core/fromnumeric.py?line=2393'>2394</a>\u001b[0m \u001b[39m    \"\"\"\u001b[39;00m\n\u001b[0;32m-> <a href='file:///home/q123/miniconda3/envs/explo/lib/python3.8/site-packages/numpy/core/fromnumeric.py?line=2394'>2395</a>\u001b[0m     \u001b[39mreturn\u001b[39;00m _wrapreduction(a, np\u001b[39m.\u001b[39;49mlogical_or, \u001b[39m'\u001b[39;49m\u001b[39many\u001b[39;49m\u001b[39m'\u001b[39;49m, axis, \u001b[39mNone\u001b[39;49;00m, out,\n\u001b[1;32m   <a href='file:///home/q123/miniconda3/envs/explo/lib/python3.8/site-packages/numpy/core/fromnumeric.py?line=2395'>2396</a>\u001b[0m                           keepdims\u001b[39m=\u001b[39;49mkeepdims, where\u001b[39m=\u001b[39;49mwhere)\n",
      "File \u001b[0;32m~/miniconda3/envs/explo/lib/python3.8/site-packages/numpy/core/fromnumeric.py:86\u001b[0m, in \u001b[0;36m_wrapreduction\u001b[0;34m(obj, ufunc, method, axis, dtype, out, **kwargs)\u001b[0m\n\u001b[1;32m     <a href='file:///home/q123/miniconda3/envs/explo/lib/python3.8/site-packages/numpy/core/fromnumeric.py?line=82'>83</a>\u001b[0m         \u001b[39melse\u001b[39;00m:\n\u001b[1;32m     <a href='file:///home/q123/miniconda3/envs/explo/lib/python3.8/site-packages/numpy/core/fromnumeric.py?line=83'>84</a>\u001b[0m             \u001b[39mreturn\u001b[39;00m reduction(axis\u001b[39m=\u001b[39maxis, out\u001b[39m=\u001b[39mout, \u001b[39m*\u001b[39m\u001b[39m*\u001b[39mpasskwargs)\n\u001b[0;32m---> <a href='file:///home/q123/miniconda3/envs/explo/lib/python3.8/site-packages/numpy/core/fromnumeric.py?line=85'>86</a>\u001b[0m \u001b[39mreturn\u001b[39;00m ufunc\u001b[39m.\u001b[39;49mreduce(obj, axis, dtype, out, \u001b[39m*\u001b[39;49m\u001b[39m*\u001b[39;49mpasskwargs)\n",
      "\u001b[0;31mKeyboardInterrupt\u001b[0m: "
     ]
    }
   ],
   "source": [
    "env_name = \"CartPole-v1\"\n",
    "kernel_name = \"rbf\"\n",
    "#kernel_name = \"linearstate\"\n",
    "\n",
    "env_config,likelihood_config,kernel_config,optimizer_config,trainer_config = get_configs(env_name,kernel_name)\n",
    "additional_layers=[] ### can be empty or [8,7] for adding 2 layers with width 8,7 respectively\n",
    "model,objective_env = setup_experiment(env_config,kernel_config,likelihood_config,additional_layers)\n",
    "\n",
    "trainer_config = {\n",
    "        \"n_steps\" :200,\n",
    "        \"report_freq\":5,\n",
    "        \"save_best\":False,\n",
    "}\n",
    "\n",
    "### Chose optimizer \n",
    "#optimizer = BOptimizer(**optimizer_config)\n",
    "optimizer = GIBOptimizer(model,**optimizer_config)\n",
    "trainer = Trainer(model,objective_env,optimizer,**trainer_config)\n",
    "rslt= trainer.run()"
   ]
  },
  {
   "cell_type": "code",
   "execution_count": null,
   "metadata": {},
   "outputs": [],
   "source": []
  }
 ],
 "metadata": {
  "interpreter": {
   "hash": "3b54cb4d83655428105eabb77a9cd1898504607119e0ebf088afaf3437f4d048"
  },
  "kernelspec": {
   "display_name": "Python 3.8.5 ('explo')",
   "language": "python",
   "name": "python3"
  },
  "language_info": {
   "codemirror_mode": {
    "name": "ipython",
    "version": 3
   },
   "file_extension": ".py",
   "mimetype": "text/x-python",
   "name": "python",
   "nbconvert_exporter": "python",
   "pygments_lexer": "ipython3",
   "version": "3.8.13"
  },
  "orig_nbformat": 4
 },
 "nbformat": 4,
 "nbformat_minor": 2
}
