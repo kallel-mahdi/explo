{
 "cells": [
  {
   "cell_type": "code",
   "execution_count": 1,
   "metadata": {},
   "outputs": [
    {
     "name": "stdout",
     "output_type": "stream",
     "text": [
      "/home/q123/Desktop/explo\n"
     ]
    },
    {
     "name": "stderr",
     "output_type": "stream",
     "text": [
      "/home/q123/miniconda3/envs/explo/lib/python3.8/site-packages/tqdm/auto.py:22: TqdmWarning: IProgress not found. Please update jupyter and ipywidgets. See https://ipywidgets.readthedocs.io/en/stable/user_install.html\n",
      "  from .autonotebook import tqdm as notebook_tqdm\n"
     ]
    }
   ],
   "source": [
    "%cd /home/q123/Desktop/explo\n",
    "\n",
    "import torch \n",
    "import gpytorch \n",
    "import logging\n",
    "import logging.config\n",
    "\n",
    "from src.helpers import setup_experiment\n",
    "from src.trainer import Trainer\n",
    "from src.gibo.optim import GIBOptimizer\n",
    "from src.optim import BOptimizer\n",
    "from src.config import get_configs\n",
    "\n",
    "logging.config.fileConfig('logging.conf')\n",
    "# create root logger\n",
    "logger = logging.getLogger()"
   ]
  },
  {
   "cell_type": "code",
   "execution_count": 2,
   "metadata": {},
   "outputs": [
    {
     "name": "stderr",
     "output_type": "stream",
     "text": [
      "/home/q123/miniconda3/envs/explo/lib/python3.8/site-packages/gym/envs/registration.py:505: UserWarning: \u001b[33mWARN: The environment Swimmer-v2 is out of date. You should consider upgrading to version `v3` with the environment ID `Swimmer-v3`.\u001b[0m\n",
      "  logger.warn(\n"
     ]
    },
    {
     "name": "stdout",
     "output_type": "stream",
     "text": [
      "MathLog.src.helpers : WARNING : MLP dimensions : [8, 2]\n",
      " Gibo will use 32 last points to fit GP and 16 info samples\n",
      "current 0.04861173778772354 / max 0.14201919734477997 /batch_mean 0.07082841545343399 /batch_max 0.10378764569759369 \n",
      "##############################\n",
      "covar_lengthscale max 0.00046355690574273467 / min -8.736568815947976e-06\n",
      "##############################\n",
      "MLL : 1.3640493154525757\n",
      "current 0.06037099286913872 / max 0.14201919734477997 /batch_mean 0.0756186917424202 /batch_max 0.10089805722236633 \n",
      "##############################\n",
      "covar_lengthscale max 0.00043562939390540123 / min -9.74920294538606e-06\n",
      "##############################\n",
      "MLL : 1.3761543035507202\n",
      "current 0.06293421238660812 / max 0.14201919734477997 /batch_mean 0.06903553009033203 /batch_max 0.07697758078575134 \n",
      "##############################\n",
      "covar_lengthscale max 0.00042730089626275003 / min -6.174176814965904e-05\n",
      "##############################\n",
      "MLL : 1.377789855003357\n"
     ]
    },
    {
     "ename": "KeyboardInterrupt",
     "evalue": "",
     "output_type": "error",
     "traceback": [
      "\u001b[0;31m---------------------------------------------------------------------------\u001b[0m",
      "\u001b[0;31mKeyboardInterrupt\u001b[0m                         Traceback (most recent call last)",
      "\u001b[1;32m/home/q123/Desktop/explo/experiments/trainer.ipynb Cell 2'\u001b[0m in \u001b[0;36m<cell line: 18>\u001b[0;34m()\u001b[0m\n\u001b[1;32m     <a href='vscode-notebook-cell:/home/q123/Desktop/explo/experiments/trainer.ipynb#ch0000001?line=15'>16</a>\u001b[0m optimizer \u001b[39m=\u001b[39m GIBOptimizer(model,\u001b[39m*\u001b[39m\u001b[39m*\u001b[39moptimizer_config)\n\u001b[1;32m     <a href='vscode-notebook-cell:/home/q123/Desktop/explo/experiments/trainer.ipynb#ch0000001?line=16'>17</a>\u001b[0m trainer \u001b[39m=\u001b[39m Trainer(model,objective_env,optimizer,\u001b[39m*\u001b[39m\u001b[39m*\u001b[39mtrainer_config)\n\u001b[0;32m---> <a href='vscode-notebook-cell:/home/q123/Desktop/explo/experiments/trainer.ipynb#ch0000001?line=17'>18</a>\u001b[0m rslt\u001b[39m=\u001b[39m trainer\u001b[39m.\u001b[39;49mrun()\n",
      "File \u001b[0;32m~/Desktop/explo/src/trainer.py:35\u001b[0m, in \u001b[0;36mTrainer.run\u001b[0;34m(self)\u001b[0m\n\u001b[1;32m     <a href='file:///home/q123/Desktop/explo/src/trainer.py?line=30'>31</a>\u001b[0m objective_env \u001b[39m=\u001b[39m \u001b[39mself\u001b[39m\u001b[39m.\u001b[39mobjective_env  \n\u001b[1;32m     <a href='file:///home/q123/Desktop/explo/src/trainer.py?line=32'>33</a>\u001b[0m \u001b[39mfor\u001b[39;00m i \u001b[39min\u001b[39;00m \u001b[39mrange\u001b[39m(\u001b[39mself\u001b[39m\u001b[39m.\u001b[39mn_steps):\n\u001b[0;32m---> <a href='file:///home/q123/Desktop/explo/src/trainer.py?line=34'>35</a>\u001b[0m     optimizer\u001b[39m.\u001b[39;49mstep(model,objective_env)\n\u001b[1;32m     <a href='file:///home/q123/Desktop/explo/src/trainer.py?line=36'>37</a>\u001b[0m     \u001b[39mif\u001b[39;00m (i \u001b[39m%\u001b[39m report_freq) \u001b[39m==\u001b[39m \u001b[39m0\u001b[39m \u001b[39mand\u001b[39;00m i\u001b[39m>\u001b[39m\u001b[39m=\u001b[39mreport_freq:\n\u001b[1;32m     <a href='file:///home/q123/Desktop/explo/src/trainer.py?line=38'>39</a>\u001b[0m         \u001b[39mmax\u001b[39m \u001b[39m=\u001b[39m model\u001b[39m.\u001b[39my_hist\u001b[39m.\u001b[39mmax()\n",
      "File \u001b[0;32m~/Desktop/explo/src/gibo/optim.py:102\u001b[0m, in \u001b[0;36mGIBOptimizer.step\u001b[0;34m(self, model, objective_env)\u001b[0m\n\u001b[1;32m    <a href='file:///home/q123/Desktop/explo/src/gibo/optim.py?line=99'>100</a>\u001b[0m \u001b[39m# Sample locally to optimize gradient information\u001b[39;00m\n\u001b[1;32m    <a href='file:///home/q123/Desktop/explo/src/gibo/optim.py?line=100'>101</a>\u001b[0m bounds \u001b[39m=\u001b[39m torch\u001b[39m.\u001b[39mtensor([[\u001b[39m-\u001b[39m\u001b[39mself\u001b[39m\u001b[39m.\u001b[39mdelta], [\u001b[39mself\u001b[39m\u001b[39m.\u001b[39mdelta]]) \u001b[39m+\u001b[39m theta_i\n\u001b[0;32m--> <a href='file:///home/q123/Desktop/explo/src/gibo/optim.py?line=101'>102</a>\u001b[0m \u001b[39mself\u001b[39;49m\u001b[39m.\u001b[39;49moptimize_information(objective_env,model,bounds)\n\u001b[1;32m    <a href='file:///home/q123/Desktop/explo/src/gibo/optim.py?line=103'>104</a>\u001b[0m \u001b[39m# Take one step in direction of the gradient\u001b[39;00m\n\u001b[1;32m    <a href='file:///home/q123/Desktop/explo/src/gibo/optim.py?line=104'>105</a>\u001b[0m \u001b[39mself\u001b[39m\u001b[39m.\u001b[39mone_gradient_step(model, theta_i)\n",
      "File \u001b[0;32m~/Desktop/explo/src/gibo/optim.py:53\u001b[0m, in \u001b[0;36mGIBOptimizer.optimize_information\u001b[0;34m(self, objective_env, model, bounds)\u001b[0m\n\u001b[1;32m     <a href='file:///home/q123/Desktop/explo/src/gibo/optim.py?line=41'>42</a>\u001b[0m new_x, _ \u001b[39m=\u001b[39m botorch\u001b[39m.\u001b[39moptim\u001b[39m.\u001b[39moptimize_acqf(\n\u001b[1;32m     <a href='file:///home/q123/Desktop/explo/src/gibo/optim.py?line=42'>43</a>\u001b[0m     acq_function\u001b[39m=\u001b[39m\u001b[39mself\u001b[39m\u001b[39m.\u001b[39mgradInfo,\n\u001b[1;32m     <a href='file:///home/q123/Desktop/explo/src/gibo/optim.py?line=43'>44</a>\u001b[0m     bounds\u001b[39m=\u001b[39mbounds,\n\u001b[0;32m   (...)\u001b[0m\n\u001b[1;32m     <a href='file:///home/q123/Desktop/explo/src/gibo/optim.py?line=48'>49</a>\u001b[0m     return_best_only\u001b[39m=\u001b[39m\u001b[39mTrue\u001b[39;00m,\n\u001b[1;32m     <a href='file:///home/q123/Desktop/explo/src/gibo/optim.py?line=49'>50</a>\u001b[0m     sequential\u001b[39m=\u001b[39m\u001b[39mFalse\u001b[39;00m)\n\u001b[1;32m     <a href='file:///home/q123/Desktop/explo/src/gibo/optim.py?line=51'>52</a>\u001b[0m \u001b[39m# Update training points.\u001b[39;00m\n\u001b[0;32m---> <a href='file:///home/q123/Desktop/explo/src/gibo/optim.py?line=52'>53</a>\u001b[0m new_y,new_s \u001b[39m=\u001b[39m objective_env(new_x,\u001b[39mself\u001b[39;49m\u001b[39m.\u001b[39;49mn_eval)\n\u001b[1;32m     <a href='file:///home/q123/Desktop/explo/src/gibo/optim.py?line=53'>54</a>\u001b[0m model\u001b[39m.\u001b[39mappend_train_data(new_x,new_y, strict\u001b[39m=\u001b[39m\u001b[39mFalse\u001b[39;00m) \u001b[39m## right now we do not add new_s for info\u001b[39;00m\n\u001b[1;32m     <a href='file:///home/q123/Desktop/explo/src/gibo/optim.py?line=54'>55</a>\u001b[0m model\u001b[39m.\u001b[39mposterior(\u001b[39mself\u001b[39m\u001b[39m.\u001b[39mtheta_i)  \u001b[39m## hotfix\u001b[39;00m\n",
      "File \u001b[0;32m~/Desktop/explo/src/environment.py:81\u001b[0m, in \u001b[0;36mEnvironmentObjective.__call__\u001b[0;34m(self, params, n_episodes)\u001b[0m\n\u001b[1;32m     <a href='file:///home/q123/Desktop/explo/src/environment.py?line=79'>80</a>\u001b[0m \u001b[39mdef\u001b[39;00m \u001b[39m__call__\u001b[39m(\u001b[39mself\u001b[39m, params,n_episodes\u001b[39m=\u001b[39m\u001b[39m1\u001b[39m) :\n\u001b[0;32m---> <a href='file:///home/q123/Desktop/explo/src/environment.py?line=80'>81</a>\u001b[0m     \u001b[39mreturn\u001b[39;00m \u001b[39mself\u001b[39;49m\u001b[39m.\u001b[39;49mrun_many(params,n_episodes)\n",
      "File \u001b[0;32m~/Desktop/explo/src/environment.py:158\u001b[0m, in \u001b[0;36mEnvironmentObjective.run_many\u001b[0;34m(self, params, n_episodes)\u001b[0m\n\u001b[1;32m    <a href='file:///home/q123/Desktop/explo/src/environment.py?line=153'>154</a>\u001b[0m rewards \u001b[39m=\u001b[39m torch\u001b[39m.\u001b[39mtensor([\u001b[39m0\u001b[39m], dtype\u001b[39m=\u001b[39mtorch\u001b[39m.\u001b[39mfloat32)\n\u001b[1;32m    <a href='file:///home/q123/Desktop/explo/src/environment.py?line=155'>156</a>\u001b[0m \u001b[39mfor\u001b[39;00m _ \u001b[39min\u001b[39;00m \u001b[39mrange\u001b[39m(n_episodes):\n\u001b[0;32m--> <a href='file:///home/q123/Desktop/explo/src/environment.py?line=157'>158</a>\u001b[0m    reward,states \u001b[39m=\u001b[39m \u001b[39mself\u001b[39;49m\u001b[39m.\u001b[39;49mrun(params)\n\u001b[1;32m    <a href='file:///home/q123/Desktop/explo/src/environment.py?line=159'>160</a>\u001b[0m    rewards \u001b[39m+\u001b[39m\u001b[39m=\u001b[39m reward\n\u001b[1;32m    <a href='file:///home/q123/Desktop/explo/src/environment.py?line=162'>163</a>\u001b[0m \u001b[39mreturn\u001b[39;00m rewards\u001b[39m/\u001b[39mn_episodes, states\n",
      "File \u001b[0;32m~/Desktop/explo/src/environment.py:141\u001b[0m, in \u001b[0;36mEnvironmentObjective.run\u001b[0;34m(self, params)\u001b[0m\n\u001b[1;32m    <a href='file:///home/q123/Desktop/explo/src/environment.py?line=136'>137</a>\u001b[0m     actions[t] \u001b[39m=\u001b[39m \u001b[39mself\u001b[39m\u001b[39m.\u001b[39mmlp(params,states[t]\u001b[39m.\u001b[39munsqueeze(\u001b[39m0\u001b[39m))\u001b[39m.\u001b[39msqueeze()\n\u001b[1;32m    <a href='file:///home/q123/Desktop/explo/src/environment.py?line=137'>138</a>\u001b[0m     \u001b[39m#actions[t] = self.mlp(params,states[t])\u001b[39;00m\n\u001b[1;32m    <a href='file:///home/q123/Desktop/explo/src/environment.py?line=138'>139</a>\u001b[0m \u001b[39m###########################\u001b[39;00m\n\u001b[0;32m--> <a href='file:///home/q123/Desktop/explo/src/environment.py?line=140'>141</a>\u001b[0m state, rewards[t], done, _ \u001b[39m=\u001b[39m \u001b[39mself\u001b[39m\u001b[39m.\u001b[39menv\u001b[39m.\u001b[39mstep(actions[t]\u001b[39m.\u001b[39mdetach()\u001b[39m.\u001b[39mnumpy())\n\u001b[1;32m    <a href='file:///home/q123/Desktop/explo/src/environment.py?line=141'>142</a>\u001b[0m states[t \u001b[39m+\u001b[39m \u001b[39m1\u001b[39m] \u001b[39m=\u001b[39m \u001b[39mself\u001b[39m\u001b[39m.\u001b[39mmanipulate_state(state)\n\u001b[1;32m    <a href='file:///home/q123/Desktop/explo/src/environment.py?line=142'>143</a>\u001b[0m r \u001b[39m+\u001b[39m\u001b[39m=\u001b[39m \u001b[39mself\u001b[39m\u001b[39m.\u001b[39mmanipulate_reward(\n\u001b[1;32m    <a href='file:///home/q123/Desktop/explo/src/environment.py?line=143'>144</a>\u001b[0m     rewards[t], actions[t], states[t \u001b[39m+\u001b[39m \u001b[39m1\u001b[39m], done\n\u001b[1;32m    <a href='file:///home/q123/Desktop/explo/src/environment.py?line=144'>145</a>\u001b[0m )  \u001b[39m# Define as stochastic gradient ascent.\u001b[39;00m\n",
      "\u001b[0;31mKeyboardInterrupt\u001b[0m: "
     ]
    }
   ],
   "source": [
    "env_name = \"Swimmer-v2\"\n",
    "#kernel_name = \"rbf\"\n",
    "kernel_name = \"linearstate\"\n",
    "\n",
    "env_config,likelihood_config,kernel_config,optimizer_config,trainer_config = get_configs(env_name,kernel_name)\n",
    "model,objective_env = setup_experiment(env_config,kernel_config,likelihood_config)\n",
    "\n",
    "trainer_config = {\n",
    "        \"n_steps\" :100,\n",
    "        \"report_freq\":10,\n",
    "        \"save_best\":False,\n",
    "}\n",
    "\n",
    "### Chose optimizer \n",
    "#optimizer = BOptimizer(**optimizer_config)\n",
    "optimizer = GIBOptimizer(model,**optimizer_config)\n",
    "trainer = Trainer(model,objective_env,optimizer,**trainer_config)\n",
    "rslt= trainer.run()"
   ]
  }
 ],
 "metadata": {
  "interpreter": {
   "hash": "3b54cb4d83655428105eabb77a9cd1898504607119e0ebf088afaf3437f4d048"
  },
  "kernelspec": {
   "display_name": "Python 3.8.5 ('explo')",
   "language": "python",
   "name": "python3"
  },
  "language_info": {
   "codemirror_mode": {
    "name": "ipython",
    "version": 3
   },
   "file_extension": ".py",
   "mimetype": "text/x-python",
   "name": "python",
   "nbconvert_exporter": "python",
   "pygments_lexer": "ipython3",
   "version": "3.8.13"
  },
  "orig_nbformat": 4
 },
 "nbformat": 4,
 "nbformat_minor": 2
}
