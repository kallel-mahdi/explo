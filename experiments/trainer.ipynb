{
 "cells": [
  {
   "cell_type": "code",
   "execution_count": 1,
   "metadata": {},
   "outputs": [
    {
     "name": "stdout",
     "output_type": "stream",
     "text": [
      "/home/q123/Desktop/explo\n"
     ]
    },
    {
     "name": "stderr",
     "output_type": "stream",
     "text": [
      "/home/q123/miniconda3/envs/boptim/lib/python3.10/site-packages/tqdm/auto.py:22: TqdmWarning: IProgress not found. Please update jupyter and ipywidgets. See https://ipywidgets.readthedocs.io/en/stable/user_install.html\n",
      "  from .autonotebook import tqdm as notebook_tqdm\n"
     ]
    }
   ],
   "source": [
    "%cd /home/q123/Desktop/explo\n",
    "\n",
    "import torch \n",
    "import gpytorch \n",
    "import logging\n",
    "import logging.config\n",
    "\n",
    "from src.helpers import setup_experiment\n",
    "from src.trainer import Trainer\n",
    "from src.optimizers.gibo import GIBOptimizer\n",
    "from src.optimizers.vanilla import BOptimizer\n",
    "from src.config import get_configs\n",
    "\n",
    "logging.config.fileConfig('logging.conf')\n",
    "# create root logger\n",
    "logger = logging.getLogger()"
   ]
  },
  {
   "cell_type": "code",
   "execution_count": 2,
   "metadata": {},
   "outputs": [
    {
     "name": "stdout",
     "output_type": "stream",
     "text": [
      "MathLog.src.helpers : WARNING : MLP dimensions : [8, 2]\n"
     ]
    },
    {
     "name": "stderr",
     "output_type": "stream",
     "text": [
      "/home/q123/miniconda3/envs/boptim/lib/python3.10/site-packages/gym/utils/passive_env_checker.py:69: UserWarning: \u001b[33mWARN: Agent's minimum action space value is -infinity. This is probably too low.\u001b[0m\n",
      "  logger.warn(\n",
      "/home/q123/miniconda3/envs/boptim/lib/python3.10/site-packages/gym/utils/passive_env_checker.py:73: UserWarning: \u001b[33mWARN: Agent's maximum action space value is infinity. This is probably too high\u001b[0m\n",
      "  logger.warn(\n",
      "/home/q123/miniconda3/envs/boptim/lib/python3.10/site-packages/gym/utils/passive_env_checker.py:97: UserWarning: \u001b[33mWARN: We recommend you to use a symmetric and normalized Box action space (range=[-1, 1]) https://stable-baselines3.readthedocs.io/en/master/guide/rl_tips.html\u001b[0m\n",
      "  logger.warn(\n"
     ]
    },
    {
     "name": "stdout",
     "output_type": "stream",
     "text": [
      "Using ard_num_dims = 18\n",
      " Gibo will use 100 last points to fit GP and 16 info samples\n"
     ]
    },
    {
     "name": "stderr",
     "output_type": "stream",
     "text": [
      "/home/q123/miniconda3/envs/boptim/lib/python3.10/site-packages/gpytorch/lazy/lazy_tensor.py:1741: UserWarning: torch.triangular_solve is deprecated in favor of torch.linalg.solve_triangularand will be removed in a future PyTorch release.\n",
      "torch.linalg.solve_triangular has its arguments reversed and does not return a copy of one of the inputs.\n",
      "X = torch.triangular_solve(B, A).solution\n",
      "should be replaced with\n",
      "X = torch.linalg.solve_triangular(A, B). (Triggered internally at  ../aten/src/ATen/native/BatchLinearAlgebra.cpp:1672.)\n",
      "  Linv = torch.triangular_solve(Eye, L, upper=False).solution\n"
     ]
    },
    {
     "name": "stdout",
     "output_type": "stream",
     "text": [
      "current 0.42357781529426575 / max 0.9338468313217163 /batch_mean 0.6523505449295044 /batch_max 0.9338468313217163 \n",
      "##############################\n",
      "covar_lengthscale max 44.74371337890625 / min 44.74371337890625                      covar_outputscale 0.6931471824645996                     noise 0.014999999664723873\n",
      "##############################\n",
      "last parameters tensor([ 0.0558,  0.0131, -0.4108,  0.0292,  0.0892, -0.0668,  0.1500,  0.0954,\n",
      "        -0.1035,  0.3700, -0.3680, -0.0535,  0.1998, -0.2350,  0.3152,  0.1840,\n",
      "         0.1187, -0.0133])\n",
      "MLL : 0.9189781546592712\n",
      "current 0.9282147288322449 / max 0.976556658744812 /batch_mean 0.8658860325813293 /batch_max 0.9282147288322449 \n",
      "##############################\n",
      "covar_lengthscale max 28.297151565551758 / min 28.297151565551758                      covar_outputscale 0.06628325581550598                     noise 0.010002071969211102\n",
      "##############################\n",
      "last parameters tensor([ 0.3412, -0.0615, -0.6207, -0.0529,  0.3636, -0.3446,  0.5490, -0.2521,\n",
      "        -0.4282,  0.5293, -0.5711, -0.0908,  0.6039, -0.8329,  1.0063,  0.5521,\n",
      "        -0.0034, -0.1137])\n",
      "MLL : 1.0700678825378418\n",
      "current 0.9527289271354675 / max 1.003897786140442 /batch_mean 0.9291345477104187 /batch_max 0.9527289271354675 \n",
      "##############################\n",
      "covar_lengthscale max 35.72309875488281 / min 35.72309875488281                      covar_outputscale 0.0059896777383983135                     noise 0.01000035461038351\n",
      "##############################\n",
      "last parameters tensor([ 0.4115, -0.1251, -0.5795, -0.0782,  0.4457, -0.2015,  0.6124, -0.4889,\n",
      "        -0.4763,  0.6292, -0.6668,  0.0454,  0.6864, -0.9286,  1.1100,  0.5611,\n",
      "         0.1985, -0.1662])\n",
      "MLL : 1.2978676557540894\n",
      "current 0.9053291082382202 / max 1.003897786140442 /batch_mean 0.9284210205078125 /batch_max 0.9613581895828247 \n",
      "##############################\n",
      "covar_lengthscale max 45.339744567871094 / min 45.339744567871094                      covar_outputscale 0.0022591366432607174                     noise 0.010000107809901237\n",
      "##############################\n",
      "last parameters tensor([ 0.3182, -0.1248, -0.6312, -0.0199,  0.5007, -0.3687,  0.7910, -0.2836,\n",
      "        -0.3563,  0.5235, -0.6378, -0.0305,  0.6036, -0.7071,  0.9983,  0.2675,\n",
      "         0.1395, -0.1636])\n",
      "MLL : 1.3189352750778198\n"
     ]
    }
   ],
   "source": [
    "env_name = \"Swimmer-v4\"\n",
    "kernel_name = \"rbfstate\" ## \"linearstate\" /\"rbfstate\"\n",
    "\n",
    "env_config,likelihood_config,kernel_config,optimizer_config,trainer_config = get_configs(env_name,kernel_name)\n",
    "additional_layers=[] ### can be empty or [8,7] for adding 2 layers with width 8,7 respectively\n",
    "\n",
    "\n",
    "# likelihood_config = {\n",
    "#                         \"noise_hyperprior\":gpytorch.priors.torch_priors.UniformPrior(a=0.05,b=0.5),\n",
    "#                         \"noise_constraint\":gpytorch.constraints.constraints.Interval(0.05,0.5)\n",
    "#                         }\n",
    "\n",
    "\n",
    "# optimizer_config = {\n",
    "#         \"n_eval\":1,\n",
    "#         ### for GIBO\n",
    "#         \"n_max\":20, \n",
    "#         \"n_info_samples\":8,\n",
    "#         \"delta\":0.001, ## 0.01 better for linear\n",
    "#         ### hessian normalisation applies only for rbf\n",
    "#         \"normalize_gradient\":True if kernel_name == \"rbf\" else False,\n",
    "#         \"standard_deviation_scaling\":False,\n",
    "# }\n",
    "\n",
    "kernel_config = {\n",
    "        \"use_ard\":False,\n",
    "        \"kernel_name\":kernel_name,\n",
    "        # \"lengthscale_constraint\":gpytorch.constraints.constraints.Interval(0.01,10),\n",
    "        # \"lengthscale_hyperprior\":gpytorch.priors.torch_priors.UniformPrior(0.01,10),\n",
    "        # \"outputscale_constraint\":gpytorch.constraints.constraints.Interval(0.001,1),\n",
    "        # \"outputscale_hyperprior\":gpytorch.priors.torch_priors.UniformPrior(0.001,1),\n",
    "        }\n",
    "\n",
    "\n",
    "\n",
    "\n",
    "trainer_config = {\n",
    "        \"n_steps\" :50, \n",
    "        \"report_freq\":5,\n",
    "        \"save_best\":False,\n",
    "}\n",
    "\n",
    "\n",
    "model,objective_env = setup_experiment(env_config,kernel_config,likelihood_config,additional_layers)\n",
    "\n",
    "\n",
    "### Chose optimizer \n",
    "#optimizer = BOptimizer(**optimizer_config)\n",
    "optimizer = GIBOptimizer(model,**optimizer_config)\n",
    "trainer = Trainer(model,objective_env,optimizer,**trainer_config)\n",
    "rslt= trainer.run()"
   ]
  },
  {
   "cell_type": "code",
   "execution_count": null,
   "metadata": {},
   "outputs": [],
   "source": []
  }
 ],
 "metadata": {
  "kernelspec": {
   "display_name": "Python 3.10.4 ('boptim')",
   "language": "python",
   "name": "python3"
  },
  "language_info": {
   "codemirror_mode": {
    "name": "ipython",
    "version": 3
   },
   "file_extension": ".py",
   "mimetype": "text/x-python",
   "name": "python",
   "nbconvert_exporter": "python",
   "pygments_lexer": "ipython3",
   "version": "3.10.4"
  },
  "orig_nbformat": 4,
  "vscode": {
   "interpreter": {
    "hash": "8389904c907846b71296796d17b1509d31543c622799a32225d90d0bb5700220"
   }
  }
 },
 "nbformat": 4,
 "nbformat_minor": 2
}
