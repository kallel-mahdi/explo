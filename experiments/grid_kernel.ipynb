{
 "cells": [
  {
   "cell_type": "code",
   "execution_count": 1,
   "metadata": {},
   "outputs": [
    {
     "name": "stdout",
     "output_type": "stream",
     "text": [
      "/home/q123/Desktop/explo\n"
     ]
    },
    {
     "name": "stderr",
     "output_type": "stream",
     "text": [
      "/home/q123/miniconda3/envs/explo/lib/python3.8/site-packages/tqdm/auto.py:22: TqdmWarning: IProgress not found. Please update jupyter and ipywidgets. See https://ipywidgets.readthedocs.io/en/stable/user_install.html\n",
      "  from .autonotebook import tqdm as notebook_tqdm\n"
     ]
    }
   ],
   "source": [
    "%cd /home/q123/Desktop/explo\n",
    "\n",
    "import torch \n",
    "import logging\n",
    "import logging.config\n",
    "\n",
    "from src.helpers import setup_experiment\n",
    "from src.trainer import Trainer\n",
    "\n",
    "logging.config.fileConfig('logging.conf')\n",
    "# create root logger\n",
    "logger = logging.getLogger()"
   ]
  },
  {
   "cell_type": "code",
   "execution_count": 2,
   "metadata": {},
   "outputs": [
    {
     "name": "stdout",
     "output_type": "stream",
     "text": [
      "MathLog.src.helpers : WARNING : MLP dimensions : [3, 1]\n",
      "current -760.7427978515625 / max -627.805419921875 /batch_mean -1514.1578369140625 /batch_max -849.8031005859375 \n",
      "##############################\n",
      "covar_lengthscale tensor([[0.3383]], grad_fn=<SoftplusBackward>)             covar_outputscale 6.969654560089111             noise 101633.6484375\n",
      "##############################\n",
      "current -1178.5673828125 / max -545.5045166015625 /batch_mean -1164.3358154296875 /batch_max -627.805419921875 \n",
      "##############################\n",
      "covar_lengthscale tensor([[0.3454]], grad_fn=<SoftplusBackward>)             covar_outputscale 7.257193088531494             noise 101634.59375\n",
      "##############################\n",
      "current -1332.0052490234375 / max -533.5072021484375 /batch_mean -1241.9644775390625 /batch_max -545.5045166015625 \n",
      "##############################\n",
      "covar_lengthscale tensor([[0.3457]], grad_fn=<SoftplusBackward>)             covar_outputscale 7.392370700836182             noise 101635.109375\n",
      "##############################\n",
      "current -1167.6226806640625 / max -533.5072021484375 /batch_mean -1208.9893798828125 /batch_max -533.5072021484375 \n",
      "##############################\n",
      "covar_lengthscale tensor([[0.3469]], grad_fn=<SoftplusBackward>)             covar_outputscale 7.386003017425537             noise 101635.890625\n",
      "##############################\n",
      "current -1331.0408935546875 / max -533.5072021484375 /batch_mean -1278.9210205078125 /batch_max -630.4993286132812 \n",
      "##############################\n",
      "covar_lengthscale tensor([[0.3464]], grad_fn=<SoftplusBackward>)             covar_outputscale 7.618235111236572             noise 101636.25\n",
      "##############################\n",
      "current -1316.029052734375 / max -533.5072021484375 /batch_mean -1306.353271484375 /batch_max -628.3986206054688 \n",
      "##############################\n",
      "covar_lengthscale tensor([[0.3462]], grad_fn=<SoftplusBackward>)             covar_outputscale 7.298269271850586             noise 101636.6015625\n",
      "##############################\n",
      "current -1199.3887939453125 / max -533.5072021484375 /batch_mean -1192.1920166015625 /batch_max -628.29248046875 \n",
      "##############################\n",
      "covar_lengthscale tensor([[0.3480]], grad_fn=<SoftplusBackward>)             covar_outputscale 7.176271915435791             noise 101636.9921875\n",
      "##############################\n",
      "current -1062.9041748046875 / max -533.5072021484375 /batch_mean -1199.0008544921875 /batch_max -601.7272338867188 \n",
      "##############################\n",
      "covar_lengthscale tensor([[0.3516]], grad_fn=<SoftplusBackward>)             covar_outputscale 7.811182498931885             noise 101637.484375\n",
      "##############################\n",
      "current -969.499755859375 / max -533.5072021484375 /batch_mean -1190.704345703125 /batch_max -618.8787841796875 \n",
      "##############################\n",
      "covar_lengthscale tensor([[0.3508]], grad_fn=<SoftplusBackward>)             covar_outputscale 7.651902198791504             noise 101638.0546875\n",
      "##############################\n"
     ]
    },
    {
     "data": {
      "text/plain": [
       "(tensor([ 0.0060, -0.0062, -0.0010, -0.0078]), tensor(-503.5777))"
      ]
     },
     "execution_count": 2,
     "metadata": {},
     "output_type": "execute_result"
    }
   ],
   "source": [
    "env_name = \"Pendulum-v1\"\n",
    "kernel_name = \"grid\"\n",
    "n_init = 100\n",
    "n_steps = 1000\n",
    "\n",
    "hypers = {\n",
    "    'likelihood.noise_covar.noise': torch.tensor(10),\n",
    "    'covar_module.kernel.base_kernel.lengthscale': torch.tensor(0.5),\n",
    "    'covar_module.kernel.outputscale': torch.tensor(2.),\n",
    "}\n",
    "\n",
    "model,objective_env = setup_experiment(env_name,kernel_name,n_init)\n",
    "#model.initialize(**hypers)\n",
    "trainer = Trainer(model,objective_env,n_steps)\n",
    "trainer.run(report_freq=100)"
   ]
  }
 ],
 "metadata": {
  "interpreter": {
   "hash": "3b54cb4d83655428105eabb77a9cd1898504607119e0ebf088afaf3437f4d048"
  },
  "kernelspec": {
   "display_name": "Python 3.8.5 ('explo')",
   "language": "python",
   "name": "python3"
  },
  "language_info": {
   "codemirror_mode": {
    "name": "ipython",
    "version": 3
   },
   "file_extension": ".py",
   "mimetype": "text/x-python",
   "name": "python",
   "nbconvert_exporter": "python",
   "pygments_lexer": "ipython3",
   "version": "3.8.13"
  },
  "orig_nbformat": 4
 },
 "nbformat": 4,
 "nbformat_minor": 2
}
