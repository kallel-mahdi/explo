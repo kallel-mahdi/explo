{
 "cells": [
  {
   "cell_type": "code",
   "execution_count": 1,
   "metadata": {},
   "outputs": [
    {
     "name": "stdout",
     "output_type": "stream",
     "text": [
      "/home/q123/Desktop/explo\n"
     ]
    },
    {
     "name": "stderr",
     "output_type": "stream",
     "text": [
      "/home/q123/miniconda3/envs/explo/lib/python3.8/site-packages/tqdm/auto.py:22: TqdmWarning: IProgress not found. Please update jupyter and ipywidgets. See https://ipywidgets.readthedocs.io/en/stable/user_install.html\n",
      "  from .autonotebook import tqdm as notebook_tqdm\n"
     ]
    }
   ],
   "source": [
    "%cd /home/q123/Desktop/explo\n",
    "\n",
    "import torch \n",
    "import logging\n",
    "import logging.config\n",
    "\n",
    "import yaml\n",
    "\n",
    "from src.config import insertion_config,insert\n",
    "from src.helpers import setup_experiment\n",
    "from src.trainer import Trainer\n",
    "from src.gibo.optim import GIBOptimizer\n",
    "from src.optim import BOptimizer\n",
    "\n",
    "logging.config.fileConfig('logging.conf')\n",
    "# create root logger\n",
    "logger = logging.getLogger()"
   ]
  },
  {
   "cell_type": "code",
   "execution_count": 2,
   "metadata": {},
   "outputs": [],
   "source": [
    "## Cartpole\n",
    "env_config = {\n",
    "        \"reward_scale\":500,\n",
    "        \"reward_shift\":0,\n",
    "        \"env_name\":\"CartPole-v1\",\n",
    "}\n",
    "\n",
    "# ## Swimmer\n",
    "# env_config = {\n",
    "#         \"reward_scale\":350,\n",
    "#         \"reward_shift\":0,\n",
    "#         \"env_name\":\"Swimmer-v2\",\n",
    "# }\n",
    "\n",
    "# ## hopper\n",
    "# env_config = {\n",
    "#         \"reward_scale\":1000,\n",
    "#         \"reward_shift\":1,\n",
    "#         \"env_name\":\"Hopper-v2\",\n",
    "# }\n"
   ]
  },
  {
   "cell_type": "code",
   "execution_count": 3,
   "metadata": {},
   "outputs": [],
   "source": [
    "kernel_name = \"rbf\"\n",
    "n_init = 2\n",
    "\n",
    "\n",
    "\n",
    "import gpytorch \n",
    "\n",
    "model_config = {\n",
    "        \n",
    "        ###### Cartpole\n",
    "        \n",
    "        \"ard_num_dims\":5,\n",
    "        \"N_max\":20,\n",
    "        \n",
    "        ###### Hopper\n",
    "        # \"ard_num_dims\":36,\n",
    "        # \"N_max\":48,\n",
    "        ##### Swimmer\n",
    "        # \"ard_num_dims\":18,\n",
    "        # \"N_max\":32,\n",
    "        #########\n",
    "        \n",
    "        #\"lengthscale_hyperprior\":gpytorch.priors.torch_priors.NormalPrior(loc=2.0,scale=1.0),\n",
    "        #\"lengthscale_hyperprior\":gpytorch.priors.torch_priors.UniformPrior(a=1,b=5),\n",
    "        \"prior_mean\":0,\n",
    "        \"lengthscale_hyperprior\":gpytorch.priors.torch_priors.GammaPrior(3.0,6.0),\n",
    "        \"lengthscale_constraint\":gpytorch.constraints.constraints.GreaterThan(0.001),\n",
    "        \"outputscale_constraint\":gpytorch.constraints.constraints.GreaterThan(0.001),\n",
    "        \"outputscale_hyperprior\":gpytorch.priors.torch_priors.NormalPrior(loc=2.0,scale=1.0),\n",
    "        \"noise_hyperprior\":gpytorch.priors.torch_priors.UniformPrior(a=0.01,b=0.3),\n",
    "        \"noise_constraint\":gpytorch.constraints.constraints.Interval(0.01,0.3),\n",
    "        \n",
    "        }\n",
    "\n",
    "trainer_config = {\n",
    "        \"n_steps\" : 500,\n",
    "        \"report_freq\":10,\n",
    "        \n",
    "}"
   ]
  },
  {
   "cell_type": "code",
   "execution_count": 4,
   "metadata": {},
   "outputs": [
    {
     "name": "stdout",
     "output_type": "stream",
     "text": [
      "MathLog.src.helpers : WARNING : MLP dimensions : [4, 1]\n",
      "root : DEBUG : Fitting failed on try 1.\n",
      "current 0.04200000315904617 / max 0.3160002827644348 /batch_mean 0.0934000015258789 /batch_max 0.26000016927719116 \n",
      "##############################\n",
      "covar_lengthscale tensor([[0.3461, 0.3429, 0.3445, 0.3397, 0.3401]], grad_fn=<AddBackward0>)                 covar_outputscale 0.001000006916001439                 noise 0.009999999776482582\n",
      "##############################\n",
      "current 0.27800020575523376 / max 0.3420003354549408 /batch_mean 0.2072000950574875 /batch_max 0.3420003354549408 \n",
      "##############################\n",
      "covar_lengthscale tensor([[0.3448, 0.3451, 0.3426, 0.3460, 0.3390]], grad_fn=<AddBackward0>)                 covar_outputscale 0.001000006916001439                 noise 0.009999999776482582\n",
      "##############################\n",
      "current 0.26800018548965454 / max 0.494000643491745 /batch_mean 0.2508001923561096 /batch_max 0.40800046920776367 \n",
      "##############################\n",
      "covar_lengthscale tensor([[0.3450, 0.1566, 0.3512, 0.3382, 0.3429]], grad_fn=<AddBackward0>)                 covar_outputscale 0.001000006916001439                 noise 0.009999999776482582\n",
      "##############################\n",
      "current 0.6199991106987 / max 0.9999942183494568 /batch_mean 0.5599985122680664 /batch_max 0.9999942183494568 \n",
      "##############################\n",
      "covar_lengthscale tensor([[0.1302, 0.3338, 0.4678, 0.0730, 0.3871]], grad_fn=<AddBackward0>)                 covar_outputscale 0.001000006916001439                 noise 0.009999999776482582\n",
      "##############################\n"
     ]
    },
    {
     "ename": "KeyboardInterrupt",
     "evalue": "",
     "output_type": "error",
     "traceback": [
      "\u001b[0;31m---------------------------------------------------------------------------\u001b[0m",
      "\u001b[0;31mKeyboardInterrupt\u001b[0m                         Traceback (most recent call last)",
      "\u001b[1;32m/home/q123/Desktop/explo/experiments/grid_kernel.ipynb Cell 4'\u001b[0m in \u001b[0;36m<cell line: 6>\u001b[0;34m()\u001b[0m\n\u001b[1;32m      <a href='vscode-notebook-cell:/home/q123/Desktop/explo/experiments/grid_kernel.ipynb#ch0000002?line=3'>4</a>\u001b[0m \u001b[39m#model.initialize(**hypers)\u001b[39;00m\n\u001b[1;32m      <a href='vscode-notebook-cell:/home/q123/Desktop/explo/experiments/grid_kernel.ipynb#ch0000002?line=4'>5</a>\u001b[0m trainer \u001b[39m=\u001b[39m Trainer(model,objective_env,optimizer,\u001b[39m*\u001b[39m\u001b[39m*\u001b[39mtrainer_config)\n\u001b[0;32m----> <a href='vscode-notebook-cell:/home/q123/Desktop/explo/experiments/grid_kernel.ipynb#ch0000002?line=5'>6</a>\u001b[0m trainer\u001b[39m.\u001b[39;49mrun()\n",
      "File \u001b[0;32m~/Desktop/explo/src/trainer.py:34\u001b[0m, in \u001b[0;36mTrainer.run\u001b[0;34m(self)\u001b[0m\n\u001b[1;32m     <a href='file:///home/q123/Desktop/explo/src/trainer.py?line=29'>30</a>\u001b[0m objective_env \u001b[39m=\u001b[39m \u001b[39mself\u001b[39m\u001b[39m.\u001b[39mobjective_env  \n\u001b[1;32m     <a href='file:///home/q123/Desktop/explo/src/trainer.py?line=31'>32</a>\u001b[0m \u001b[39mfor\u001b[39;00m i \u001b[39min\u001b[39;00m \u001b[39mrange\u001b[39m(\u001b[39mself\u001b[39m\u001b[39m.\u001b[39mn_steps):\n\u001b[0;32m---> <a href='file:///home/q123/Desktop/explo/src/trainer.py?line=33'>34</a>\u001b[0m     optimizer\u001b[39m.\u001b[39;49mstep(model,objective_env)\n\u001b[1;32m     <a href='file:///home/q123/Desktop/explo/src/trainer.py?line=35'>36</a>\u001b[0m     \u001b[39mif\u001b[39;00m (i \u001b[39m%\u001b[39m report_freq) \u001b[39m==\u001b[39m \u001b[39m0\u001b[39m \u001b[39mand\u001b[39;00m i\u001b[39m>\u001b[39m\u001b[39m=\u001b[39mreport_freq:\n\u001b[1;32m     <a href='file:///home/q123/Desktop/explo/src/trainer.py?line=37'>38</a>\u001b[0m         \u001b[39mmax\u001b[39m \u001b[39m=\u001b[39m model\u001b[39m.\u001b[39my_hist\u001b[39m.\u001b[39mmax()\n",
      "File \u001b[0;32m~/Desktop/explo/src/gibo/optim.py:98\u001b[0m, in \u001b[0;36mGIBOptimizer.step\u001b[0;34m(self, model, objective_env)\u001b[0m\n\u001b[1;32m     <a href='file:///home/q123/Desktop/explo/src/gibo/optim.py?line=95'>96</a>\u001b[0m \u001b[39m# Sample locally to optimize gradient information\u001b[39;00m\n\u001b[1;32m     <a href='file:///home/q123/Desktop/explo/src/gibo/optim.py?line=96'>97</a>\u001b[0m bounds \u001b[39m=\u001b[39m torch\u001b[39m.\u001b[39mtensor([[\u001b[39m-\u001b[39m\u001b[39mself\u001b[39m\u001b[39m.\u001b[39mdelta], [\u001b[39mself\u001b[39m\u001b[39m.\u001b[39mdelta]]) \u001b[39m+\u001b[39m theta_i\n\u001b[0;32m---> <a href='file:///home/q123/Desktop/explo/src/gibo/optim.py?line=97'>98</a>\u001b[0m \u001b[39mself\u001b[39;49m\u001b[39m.\u001b[39;49moptimize_information(objective_env,model,bounds)\n\u001b[1;32m    <a href='file:///home/q123/Desktop/explo/src/gibo/optim.py?line=99'>100</a>\u001b[0m \u001b[39m# Take one step in direction of the gradient\u001b[39;00m\n\u001b[1;32m    <a href='file:///home/q123/Desktop/explo/src/gibo/optim.py?line=100'>101</a>\u001b[0m \u001b[39mself\u001b[39m\u001b[39m.\u001b[39mone_gradient_step(model, theta_i)\n",
      "File \u001b[0;32m~/Desktop/explo/src/gibo/optim.py:45\u001b[0m, in \u001b[0;36mGIBOptimizer.optimize_information\u001b[0;34m(self, objective_env, model, bounds)\u001b[0m\n\u001b[1;32m     <a href='file:///home/q123/Desktop/explo/src/gibo/optim.py?line=33'>34</a>\u001b[0m new_x, _ \u001b[39m=\u001b[39m botorch\u001b[39m.\u001b[39moptim\u001b[39m.\u001b[39moptimize_acqf(\n\u001b[1;32m     <a href='file:///home/q123/Desktop/explo/src/gibo/optim.py?line=34'>35</a>\u001b[0m     acq_function\u001b[39m=\u001b[39m\u001b[39mself\u001b[39m\u001b[39m.\u001b[39mgradInfo,\n\u001b[1;32m     <a href='file:///home/q123/Desktop/explo/src/gibo/optim.py?line=35'>36</a>\u001b[0m     bounds\u001b[39m=\u001b[39mbounds,\n\u001b[0;32m   (...)\u001b[0m\n\u001b[1;32m     <a href='file:///home/q123/Desktop/explo/src/gibo/optim.py?line=40'>41</a>\u001b[0m     return_best_only\u001b[39m=\u001b[39m\u001b[39mTrue\u001b[39;00m,\n\u001b[1;32m     <a href='file:///home/q123/Desktop/explo/src/gibo/optim.py?line=41'>42</a>\u001b[0m     sequential\u001b[39m=\u001b[39m\u001b[39mFalse\u001b[39;00m)\n\u001b[1;32m     <a href='file:///home/q123/Desktop/explo/src/gibo/optim.py?line=43'>44</a>\u001b[0m \u001b[39m# Update training points.\u001b[39;00m\n\u001b[0;32m---> <a href='file:///home/q123/Desktop/explo/src/gibo/optim.py?line=44'>45</a>\u001b[0m new_y,new_s \u001b[39m=\u001b[39m objective_env(new_x)\n\u001b[1;32m     <a href='file:///home/q123/Desktop/explo/src/gibo/optim.py?line=45'>46</a>\u001b[0m model\u001b[39m.\u001b[39mupdate_train_data(new_x,new_y,new_s, strict\u001b[39m=\u001b[39m\u001b[39mFalse\u001b[39;00m)\n\u001b[1;32m     <a href='file:///home/q123/Desktop/explo/src/gibo/optim.py?line=46'>47</a>\u001b[0m model\u001b[39m.\u001b[39mposterior(\u001b[39mself\u001b[39m\u001b[39m.\u001b[39mtheta_i)  \u001b[39m## hotfix\u001b[39;00m\n",
      "File \u001b[0;32m~/Desktop/explo/src/environment.py:81\u001b[0m, in \u001b[0;36mEnvironmentObjective.__call__\u001b[0;34m(self, params)\u001b[0m\n\u001b[1;32m     <a href='file:///home/q123/Desktop/explo/src/environment.py?line=79'>80</a>\u001b[0m \u001b[39mdef\u001b[39;00m \u001b[39m__call__\u001b[39m(\u001b[39mself\u001b[39m, params: torch\u001b[39m.\u001b[39mTensor) :\n\u001b[0;32m---> <a href='file:///home/q123/Desktop/explo/src/environment.py?line=80'>81</a>\u001b[0m     \u001b[39mreturn\u001b[39;00m \u001b[39mself\u001b[39;49m\u001b[39m.\u001b[39;49mrun(params)\n",
      "File \u001b[0;32m~/Desktop/explo/src/environment.py:141\u001b[0m, in \u001b[0;36mEnvironmentObjective.run\u001b[0;34m(self, params, render, test)\u001b[0m\n\u001b[1;32m    <a href='file:///home/q123/Desktop/explo/src/environment.py?line=136'>137</a>\u001b[0m     actions[t] \u001b[39m=\u001b[39m \u001b[39mself\u001b[39m\u001b[39m.\u001b[39mmlp(params,states[t]\u001b[39m.\u001b[39munsqueeze(\u001b[39m0\u001b[39m))\u001b[39m.\u001b[39msqueeze()\n\u001b[1;32m    <a href='file:///home/q123/Desktop/explo/src/environment.py?line=137'>138</a>\u001b[0m     \u001b[39m#actions[t] = self.mlp(params,states[t])\u001b[39;00m\n\u001b[1;32m    <a href='file:///home/q123/Desktop/explo/src/environment.py?line=138'>139</a>\u001b[0m \u001b[39m###########################\u001b[39;00m\n\u001b[0;32m--> <a href='file:///home/q123/Desktop/explo/src/environment.py?line=140'>141</a>\u001b[0m state, rewards[t], done, _ \u001b[39m=\u001b[39m \u001b[39mself\u001b[39;49m\u001b[39m.\u001b[39;49menv\u001b[39m.\u001b[39;49mstep(actions[t]\u001b[39m.\u001b[39;49mdetach()\u001b[39m.\u001b[39;49mnumpy())\n\u001b[1;32m    <a href='file:///home/q123/Desktop/explo/src/environment.py?line=141'>142</a>\u001b[0m states[t \u001b[39m+\u001b[39m \u001b[39m1\u001b[39m] \u001b[39m=\u001b[39m \u001b[39mself\u001b[39m\u001b[39m.\u001b[39mmanipulate_state(state)\n\u001b[1;32m    <a href='file:///home/q123/Desktop/explo/src/environment.py?line=142'>143</a>\u001b[0m r \u001b[39m+\u001b[39m\u001b[39m=\u001b[39m \u001b[39mself\u001b[39m\u001b[39m.\u001b[39mmanipulate_reward(\n\u001b[1;32m    <a href='file:///home/q123/Desktop/explo/src/environment.py?line=143'>144</a>\u001b[0m     rewards[t], actions[t], states[t \u001b[39m+\u001b[39m \u001b[39m1\u001b[39m], done\n\u001b[1;32m    <a href='file:///home/q123/Desktop/explo/src/environment.py?line=144'>145</a>\u001b[0m )  \u001b[39m# Define as stochastic gradient ascent.\u001b[39;00m\n",
      "File \u001b[0;32m~/miniconda3/envs/explo/lib/python3.8/site-packages/gym/wrappers/time_limit.py:17\u001b[0m, in \u001b[0;36mTimeLimit.step\u001b[0;34m(self, action)\u001b[0m\n\u001b[1;32m     <a href='file:///home/q123/miniconda3/envs/explo/lib/python3.8/site-packages/gym/wrappers/time_limit.py?line=15'>16</a>\u001b[0m \u001b[39mdef\u001b[39;00m \u001b[39mstep\u001b[39m(\u001b[39mself\u001b[39m, action):\n\u001b[0;32m---> <a href='file:///home/q123/miniconda3/envs/explo/lib/python3.8/site-packages/gym/wrappers/time_limit.py?line=16'>17</a>\u001b[0m     observation, reward, done, info \u001b[39m=\u001b[39m \u001b[39mself\u001b[39;49m\u001b[39m.\u001b[39;49menv\u001b[39m.\u001b[39;49mstep(action)\n\u001b[1;32m     <a href='file:///home/q123/miniconda3/envs/explo/lib/python3.8/site-packages/gym/wrappers/time_limit.py?line=17'>18</a>\u001b[0m     \u001b[39mself\u001b[39m\u001b[39m.\u001b[39m_elapsed_steps \u001b[39m+\u001b[39m\u001b[39m=\u001b[39m \u001b[39m1\u001b[39m\n\u001b[1;32m     <a href='file:///home/q123/miniconda3/envs/explo/lib/python3.8/site-packages/gym/wrappers/time_limit.py?line=18'>19</a>\u001b[0m     \u001b[39mif\u001b[39;00m \u001b[39mself\u001b[39m\u001b[39m.\u001b[39m_elapsed_steps \u001b[39m>\u001b[39m\u001b[39m=\u001b[39m \u001b[39mself\u001b[39m\u001b[39m.\u001b[39m_max_episode_steps:\n",
      "File \u001b[0;32m~/miniconda3/envs/explo/lib/python3.8/site-packages/gym/wrappers/order_enforcing.py:13\u001b[0m, in \u001b[0;36mOrderEnforcing.step\u001b[0;34m(self, action)\u001b[0m\n\u001b[1;32m     <a href='file:///home/q123/miniconda3/envs/explo/lib/python3.8/site-packages/gym/wrappers/order_enforcing.py?line=10'>11</a>\u001b[0m \u001b[39mdef\u001b[39;00m \u001b[39mstep\u001b[39m(\u001b[39mself\u001b[39m, action):\n\u001b[1;32m     <a href='file:///home/q123/miniconda3/envs/explo/lib/python3.8/site-packages/gym/wrappers/order_enforcing.py?line=11'>12</a>\u001b[0m     \u001b[39massert\u001b[39;00m \u001b[39mself\u001b[39m\u001b[39m.\u001b[39m_has_reset, \u001b[39m\"\u001b[39m\u001b[39mCannot call env.step() before calling reset()\u001b[39m\u001b[39m\"\u001b[39m\n\u001b[0;32m---> <a href='file:///home/q123/miniconda3/envs/explo/lib/python3.8/site-packages/gym/wrappers/order_enforcing.py?line=12'>13</a>\u001b[0m     observation, reward, done, info \u001b[39m=\u001b[39m \u001b[39mself\u001b[39;49m\u001b[39m.\u001b[39;49menv\u001b[39m.\u001b[39;49mstep(action)\n\u001b[1;32m     <a href='file:///home/q123/miniconda3/envs/explo/lib/python3.8/site-packages/gym/wrappers/order_enforcing.py?line=13'>14</a>\u001b[0m     \u001b[39mreturn\u001b[39;00m observation, reward, done, info\n",
      "File \u001b[0;32m~/miniconda3/envs/explo/lib/python3.8/site-packages/gym/envs/classic_control/cartpole.py:117\u001b[0m, in \u001b[0;36mCartPoleEnv.step\u001b[0;34m(self, action)\u001b[0m\n\u001b[1;32m    <a href='file:///home/q123/miniconda3/envs/explo/lib/python3.8/site-packages/gym/envs/classic_control/cartpole.py?line=115'>116</a>\u001b[0m \u001b[39mdef\u001b[39;00m \u001b[39mstep\u001b[39m(\u001b[39mself\u001b[39m, action):\n\u001b[0;32m--> <a href='file:///home/q123/miniconda3/envs/explo/lib/python3.8/site-packages/gym/envs/classic_control/cartpole.py?line=116'>117</a>\u001b[0m     err_msg \u001b[39m=\u001b[39m \u001b[39mf\u001b[39m\u001b[39m\"\u001b[39m\u001b[39m{\u001b[39;00maction\u001b[39m!r}\u001b[39;00m\u001b[39m (\u001b[39m\u001b[39m{\u001b[39;00m\u001b[39mtype\u001b[39m(action)\u001b[39m}\u001b[39;00m\u001b[39m) invalid\u001b[39m\u001b[39m\"\u001b[39m\n\u001b[1;32m    <a href='file:///home/q123/miniconda3/envs/explo/lib/python3.8/site-packages/gym/envs/classic_control/cartpole.py?line=117'>118</a>\u001b[0m     \u001b[39massert\u001b[39;00m \u001b[39mself\u001b[39m\u001b[39m.\u001b[39maction_space\u001b[39m.\u001b[39mcontains(action), err_msg\n\u001b[1;32m    <a href='file:///home/q123/miniconda3/envs/explo/lib/python3.8/site-packages/gym/envs/classic_control/cartpole.py?line=118'>119</a>\u001b[0m     \u001b[39massert\u001b[39;00m \u001b[39mself\u001b[39m\u001b[39m.\u001b[39mstate \u001b[39mis\u001b[39;00m \u001b[39mnot\u001b[39;00m \u001b[39mNone\u001b[39;00m, \u001b[39m\"\u001b[39m\u001b[39mCall reset before using step method.\u001b[39m\u001b[39m\"\u001b[39m\n",
      "File \u001b[0;32m~/miniconda3/envs/explo/lib/python3.8/site-packages/numpy/core/arrayprint.py:1488\u001b[0m, in \u001b[0;36m_array_repr_implementation\u001b[0;34m(arr, max_line_width, precision, suppress_small, array2string)\u001b[0m\n\u001b[1;32m   <a href='file:///home/q123/miniconda3/envs/explo/lib/python3.8/site-packages/numpy/core/arrayprint.py?line=1485'>1486</a>\u001b[0m     lst \u001b[39m=\u001b[39m \u001b[39mrepr\u001b[39m(arr\u001b[39m.\u001b[39mitem())\n\u001b[1;32m   <a href='file:///home/q123/miniconda3/envs/explo/lib/python3.8/site-packages/numpy/core/arrayprint.py?line=1486'>1487</a>\u001b[0m \u001b[39melif\u001b[39;00m arr\u001b[39m.\u001b[39msize \u001b[39m>\u001b[39m \u001b[39m0\u001b[39m \u001b[39mor\u001b[39;00m arr\u001b[39m.\u001b[39mshape \u001b[39m==\u001b[39m (\u001b[39m0\u001b[39m,):\n\u001b[0;32m-> <a href='file:///home/q123/miniconda3/envs/explo/lib/python3.8/site-packages/numpy/core/arrayprint.py?line=1487'>1488</a>\u001b[0m     lst \u001b[39m=\u001b[39m array2string(arr, max_line_width, precision, suppress_small,\n\u001b[1;32m   <a href='file:///home/q123/miniconda3/envs/explo/lib/python3.8/site-packages/numpy/core/arrayprint.py?line=1488'>1489</a>\u001b[0m                        \u001b[39m'\u001b[39;49m\u001b[39m, \u001b[39;49m\u001b[39m'\u001b[39;49m, prefix, suffix\u001b[39m=\u001b[39;49msuffix)\n\u001b[1;32m   <a href='file:///home/q123/miniconda3/envs/explo/lib/python3.8/site-packages/numpy/core/arrayprint.py?line=1489'>1490</a>\u001b[0m \u001b[39melse\u001b[39;00m:  \u001b[39m# show zero-length shape unless it is (0,)\u001b[39;00m\n\u001b[1;32m   <a href='file:///home/q123/miniconda3/envs/explo/lib/python3.8/site-packages/numpy/core/arrayprint.py?line=1490'>1491</a>\u001b[0m     lst \u001b[39m=\u001b[39m \u001b[39m\"\u001b[39m\u001b[39m[], shape=\u001b[39m\u001b[39m%s\u001b[39;00m\u001b[39m\"\u001b[39m \u001b[39m%\u001b[39m (\u001b[39mrepr\u001b[39m(arr\u001b[39m.\u001b[39mshape),)\n",
      "File \u001b[0;32m~/miniconda3/envs/explo/lib/python3.8/site-packages/numpy/core/arrayprint.py:736\u001b[0m, in \u001b[0;36marray2string\u001b[0;34m(a, max_line_width, precision, suppress_small, separator, prefix, style, formatter, threshold, edgeitems, sign, floatmode, suffix, legacy)\u001b[0m\n\u001b[1;32m    <a href='file:///home/q123/miniconda3/envs/explo/lib/python3.8/site-packages/numpy/core/arrayprint.py?line=732'>733</a>\u001b[0m \u001b[39mif\u001b[39;00m a\u001b[39m.\u001b[39msize \u001b[39m==\u001b[39m \u001b[39m0\u001b[39m:\n\u001b[1;32m    <a href='file:///home/q123/miniconda3/envs/explo/lib/python3.8/site-packages/numpy/core/arrayprint.py?line=733'>734</a>\u001b[0m     \u001b[39mreturn\u001b[39;00m \u001b[39m\"\u001b[39m\u001b[39m[]\u001b[39m\u001b[39m\"\u001b[39m\n\u001b[0;32m--> <a href='file:///home/q123/miniconda3/envs/explo/lib/python3.8/site-packages/numpy/core/arrayprint.py?line=735'>736</a>\u001b[0m \u001b[39mreturn\u001b[39;00m _array2string(a, options, separator, prefix)\n",
      "File \u001b[0;32m~/miniconda3/envs/explo/lib/python3.8/site-packages/numpy/core/arrayprint.py:513\u001b[0m, in \u001b[0;36m_recursive_guard.<locals>.decorating_function.<locals>.wrapper\u001b[0;34m(self, *args, **kwargs)\u001b[0m\n\u001b[1;32m    <a href='file:///home/q123/miniconda3/envs/explo/lib/python3.8/site-packages/numpy/core/arrayprint.py?line=510'>511</a>\u001b[0m repr_running\u001b[39m.\u001b[39madd(key)\n\u001b[1;32m    <a href='file:///home/q123/miniconda3/envs/explo/lib/python3.8/site-packages/numpy/core/arrayprint.py?line=511'>512</a>\u001b[0m \u001b[39mtry\u001b[39;00m:\n\u001b[0;32m--> <a href='file:///home/q123/miniconda3/envs/explo/lib/python3.8/site-packages/numpy/core/arrayprint.py?line=512'>513</a>\u001b[0m     \u001b[39mreturn\u001b[39;00m f(\u001b[39mself\u001b[39;49m, \u001b[39m*\u001b[39;49margs, \u001b[39m*\u001b[39;49m\u001b[39m*\u001b[39;49mkwargs)\n\u001b[1;32m    <a href='file:///home/q123/miniconda3/envs/explo/lib/python3.8/site-packages/numpy/core/arrayprint.py?line=513'>514</a>\u001b[0m \u001b[39mfinally\u001b[39;00m:\n\u001b[1;32m    <a href='file:///home/q123/miniconda3/envs/explo/lib/python3.8/site-packages/numpy/core/arrayprint.py?line=514'>515</a>\u001b[0m     repr_running\u001b[39m.\u001b[39mdiscard(key)\n",
      "File \u001b[0;32m~/miniconda3/envs/explo/lib/python3.8/site-packages/numpy/core/arrayprint.py:539\u001b[0m, in \u001b[0;36m_array2string\u001b[0;34m(a, options, separator, prefix)\u001b[0m\n\u001b[1;32m    <a href='file:///home/q123/miniconda3/envs/explo/lib/python3.8/site-packages/numpy/core/arrayprint.py?line=535'>536</a>\u001b[0m     summary_insert \u001b[39m=\u001b[39m \u001b[39m\"\u001b[39m\u001b[39m\"\u001b[39m\n\u001b[1;32m    <a href='file:///home/q123/miniconda3/envs/explo/lib/python3.8/site-packages/numpy/core/arrayprint.py?line=537'>538</a>\u001b[0m \u001b[39m# find the right formatting function for the array\u001b[39;00m\n\u001b[0;32m--> <a href='file:///home/q123/miniconda3/envs/explo/lib/python3.8/site-packages/numpy/core/arrayprint.py?line=538'>539</a>\u001b[0m format_function \u001b[39m=\u001b[39m _get_format_function(data, \u001b[39m*\u001b[39;49m\u001b[39m*\u001b[39;49moptions)\n\u001b[1;32m    <a href='file:///home/q123/miniconda3/envs/explo/lib/python3.8/site-packages/numpy/core/arrayprint.py?line=540'>541</a>\u001b[0m \u001b[39m# skip over \"[\"\u001b[39;00m\n\u001b[1;32m    <a href='file:///home/q123/miniconda3/envs/explo/lib/python3.8/site-packages/numpy/core/arrayprint.py?line=541'>542</a>\u001b[0m next_line_prefix \u001b[39m=\u001b[39m \u001b[39m\"\u001b[39m\u001b[39m \u001b[39m\u001b[39m\"\u001b[39m\n",
      "File \u001b[0;32m~/miniconda3/envs/explo/lib/python3.8/site-packages/numpy/core/arrayprint.py:467\u001b[0m, in \u001b[0;36m_get_format_function\u001b[0;34m(data, **options)\u001b[0m\n\u001b[1;32m    <a href='file:///home/q123/miniconda3/envs/explo/lib/python3.8/site-packages/numpy/core/arrayprint.py?line=464'>465</a>\u001b[0m         \u001b[39mreturn\u001b[39;00m formatdict[\u001b[39m'\u001b[39m\u001b[39mtimedelta\u001b[39m\u001b[39m'\u001b[39m]()\n\u001b[1;32m    <a href='file:///home/q123/miniconda3/envs/explo/lib/python3.8/site-packages/numpy/core/arrayprint.py?line=465'>466</a>\u001b[0m     \u001b[39melse\u001b[39;00m:\n\u001b[0;32m--> <a href='file:///home/q123/miniconda3/envs/explo/lib/python3.8/site-packages/numpy/core/arrayprint.py?line=466'>467</a>\u001b[0m         \u001b[39mreturn\u001b[39;00m formatdict[\u001b[39m'\u001b[39;49m\u001b[39mint\u001b[39;49m\u001b[39m'\u001b[39;49m]()\n\u001b[1;32m    <a href='file:///home/q123/miniconda3/envs/explo/lib/python3.8/site-packages/numpy/core/arrayprint.py?line=467'>468</a>\u001b[0m \u001b[39melif\u001b[39;00m \u001b[39missubclass\u001b[39m(dtypeobj, _nt\u001b[39m.\u001b[39mfloating):\n\u001b[1;32m    <a href='file:///home/q123/miniconda3/envs/explo/lib/python3.8/site-packages/numpy/core/arrayprint.py?line=468'>469</a>\u001b[0m     \u001b[39mif\u001b[39;00m \u001b[39missubclass\u001b[39m(dtypeobj, _nt\u001b[39m.\u001b[39mlongfloat):\n",
      "File \u001b[0;32m~/miniconda3/envs/explo/lib/python3.8/site-packages/numpy/core/arrayprint.py:410\u001b[0m, in \u001b[0;36m_get_formatdict.<locals>.<lambda>\u001b[0;34m()\u001b[0m\n\u001b[1;32m    <a href='file:///home/q123/miniconda3/envs/explo/lib/python3.8/site-packages/numpy/core/arrayprint.py?line=402'>403</a>\u001b[0m \u001b[39mdef\u001b[39;00m \u001b[39m_get_formatdict\u001b[39m(data, \u001b[39m*\u001b[39m, precision, floatmode, suppress, sign, legacy,\n\u001b[1;32m    <a href='file:///home/q123/miniconda3/envs/explo/lib/python3.8/site-packages/numpy/core/arrayprint.py?line=403'>404</a>\u001b[0m                     formatter, \u001b[39m*\u001b[39m\u001b[39m*\u001b[39mkwargs):\n\u001b[1;32m    <a href='file:///home/q123/miniconda3/envs/explo/lib/python3.8/site-packages/numpy/core/arrayprint.py?line=404'>405</a>\u001b[0m     \u001b[39m# note: extra arguments in kwargs are ignored\u001b[39;00m\n\u001b[1;32m    <a href='file:///home/q123/miniconda3/envs/explo/lib/python3.8/site-packages/numpy/core/arrayprint.py?line=405'>406</a>\u001b[0m \n\u001b[1;32m    <a href='file:///home/q123/miniconda3/envs/explo/lib/python3.8/site-packages/numpy/core/arrayprint.py?line=406'>407</a>\u001b[0m     \u001b[39m# wrapped in lambdas to avoid taking a code path with the wrong type of data\u001b[39;00m\n\u001b[1;32m    <a href='file:///home/q123/miniconda3/envs/explo/lib/python3.8/site-packages/numpy/core/arrayprint.py?line=407'>408</a>\u001b[0m     formatdict \u001b[39m=\u001b[39m {\n\u001b[1;32m    <a href='file:///home/q123/miniconda3/envs/explo/lib/python3.8/site-packages/numpy/core/arrayprint.py?line=408'>409</a>\u001b[0m         \u001b[39m'\u001b[39m\u001b[39mbool\u001b[39m\u001b[39m'\u001b[39m: \u001b[39mlambda\u001b[39;00m: BoolFormat(data),\n\u001b[0;32m--> <a href='file:///home/q123/miniconda3/envs/explo/lib/python3.8/site-packages/numpy/core/arrayprint.py?line=409'>410</a>\u001b[0m         \u001b[39m'\u001b[39m\u001b[39mint\u001b[39m\u001b[39m'\u001b[39m: \u001b[39mlambda\u001b[39;00m: IntegerFormat(data),\n\u001b[1;32m    <a href='file:///home/q123/miniconda3/envs/explo/lib/python3.8/site-packages/numpy/core/arrayprint.py?line=410'>411</a>\u001b[0m         \u001b[39m'\u001b[39m\u001b[39mfloat\u001b[39m\u001b[39m'\u001b[39m: \u001b[39mlambda\u001b[39;00m: FloatingFormat(\n\u001b[1;32m    <a href='file:///home/q123/miniconda3/envs/explo/lib/python3.8/site-packages/numpy/core/arrayprint.py?line=411'>412</a>\u001b[0m             data, precision, floatmode, suppress, sign, legacy\u001b[39m=\u001b[39mlegacy),\n\u001b[1;32m    <a href='file:///home/q123/miniconda3/envs/explo/lib/python3.8/site-packages/numpy/core/arrayprint.py?line=412'>413</a>\u001b[0m         \u001b[39m'\u001b[39m\u001b[39mlongfloat\u001b[39m\u001b[39m'\u001b[39m: \u001b[39mlambda\u001b[39;00m: FloatingFormat(\n\u001b[1;32m    <a href='file:///home/q123/miniconda3/envs/explo/lib/python3.8/site-packages/numpy/core/arrayprint.py?line=413'>414</a>\u001b[0m             data, precision, floatmode, suppress, sign, legacy\u001b[39m=\u001b[39mlegacy),\n\u001b[1;32m    <a href='file:///home/q123/miniconda3/envs/explo/lib/python3.8/site-packages/numpy/core/arrayprint.py?line=414'>415</a>\u001b[0m         \u001b[39m'\u001b[39m\u001b[39mcomplexfloat\u001b[39m\u001b[39m'\u001b[39m: \u001b[39mlambda\u001b[39;00m: ComplexFloatingFormat(\n\u001b[1;32m    <a href='file:///home/q123/miniconda3/envs/explo/lib/python3.8/site-packages/numpy/core/arrayprint.py?line=415'>416</a>\u001b[0m             data, precision, floatmode, suppress, sign, legacy\u001b[39m=\u001b[39mlegacy),\n\u001b[1;32m    <a href='file:///home/q123/miniconda3/envs/explo/lib/python3.8/site-packages/numpy/core/arrayprint.py?line=416'>417</a>\u001b[0m         \u001b[39m'\u001b[39m\u001b[39mlongcomplexfloat\u001b[39m\u001b[39m'\u001b[39m: \u001b[39mlambda\u001b[39;00m: ComplexFloatingFormat(\n\u001b[1;32m    <a href='file:///home/q123/miniconda3/envs/explo/lib/python3.8/site-packages/numpy/core/arrayprint.py?line=417'>418</a>\u001b[0m             data, precision, floatmode, suppress, sign, legacy\u001b[39m=\u001b[39mlegacy),\n\u001b[1;32m    <a href='file:///home/q123/miniconda3/envs/explo/lib/python3.8/site-packages/numpy/core/arrayprint.py?line=418'>419</a>\u001b[0m         \u001b[39m'\u001b[39m\u001b[39mdatetime\u001b[39m\u001b[39m'\u001b[39m: \u001b[39mlambda\u001b[39;00m: DatetimeFormat(data, legacy\u001b[39m=\u001b[39mlegacy),\n\u001b[1;32m    <a href='file:///home/q123/miniconda3/envs/explo/lib/python3.8/site-packages/numpy/core/arrayprint.py?line=419'>420</a>\u001b[0m         \u001b[39m'\u001b[39m\u001b[39mtimedelta\u001b[39m\u001b[39m'\u001b[39m: \u001b[39mlambda\u001b[39;00m: TimedeltaFormat(data),\n\u001b[1;32m    <a href='file:///home/q123/miniconda3/envs/explo/lib/python3.8/site-packages/numpy/core/arrayprint.py?line=420'>421</a>\u001b[0m         \u001b[39m'\u001b[39m\u001b[39mobject\u001b[39m\u001b[39m'\u001b[39m: \u001b[39mlambda\u001b[39;00m: _object_format,\n\u001b[1;32m    <a href='file:///home/q123/miniconda3/envs/explo/lib/python3.8/site-packages/numpy/core/arrayprint.py?line=421'>422</a>\u001b[0m         \u001b[39m'\u001b[39m\u001b[39mvoid\u001b[39m\u001b[39m'\u001b[39m: \u001b[39mlambda\u001b[39;00m: str_format,\n\u001b[1;32m    <a href='file:///home/q123/miniconda3/envs/explo/lib/python3.8/site-packages/numpy/core/arrayprint.py?line=422'>423</a>\u001b[0m         \u001b[39m'\u001b[39m\u001b[39mnumpystr\u001b[39m\u001b[39m'\u001b[39m: \u001b[39mlambda\u001b[39;00m: repr_format}\n\u001b[1;32m    <a href='file:///home/q123/miniconda3/envs/explo/lib/python3.8/site-packages/numpy/core/arrayprint.py?line=424'>425</a>\u001b[0m     \u001b[39m# we need to wrap values in `formatter` in a lambda, so that the interface\u001b[39;00m\n\u001b[1;32m    <a href='file:///home/q123/miniconda3/envs/explo/lib/python3.8/site-packages/numpy/core/arrayprint.py?line=425'>426</a>\u001b[0m     \u001b[39m# is the same as the above values.\u001b[39;00m\n\u001b[1;32m    <a href='file:///home/q123/miniconda3/envs/explo/lib/python3.8/site-packages/numpy/core/arrayprint.py?line=426'>427</a>\u001b[0m     \u001b[39mdef\u001b[39;00m \u001b[39mindirect\u001b[39m(x):\n",
      "File \u001b[0;32m~/miniconda3/envs/explo/lib/python3.8/site-packages/numpy/core/arrayprint.py:1225\u001b[0m, in \u001b[0;36mIntegerFormat.__init__\u001b[0;34m(self, data)\u001b[0m\n\u001b[1;32m   <a href='file:///home/q123/miniconda3/envs/explo/lib/python3.8/site-packages/numpy/core/arrayprint.py?line=1222'>1223</a>\u001b[0m \u001b[39mdef\u001b[39;00m \u001b[39m__init__\u001b[39m(\u001b[39mself\u001b[39m, data):\n\u001b[1;32m   <a href='file:///home/q123/miniconda3/envs/explo/lib/python3.8/site-packages/numpy/core/arrayprint.py?line=1223'>1224</a>\u001b[0m     \u001b[39mif\u001b[39;00m data\u001b[39m.\u001b[39msize \u001b[39m>\u001b[39m \u001b[39m0\u001b[39m:\n\u001b[0;32m-> <a href='file:///home/q123/miniconda3/envs/explo/lib/python3.8/site-packages/numpy/core/arrayprint.py?line=1224'>1225</a>\u001b[0m         max_str_len \u001b[39m=\u001b[39m \u001b[39mmax\u001b[39m(\u001b[39mlen\u001b[39m(\u001b[39mstr\u001b[39m(np\u001b[39m.\u001b[39;49mmax(data))),\n\u001b[1;32m   <a href='file:///home/q123/miniconda3/envs/explo/lib/python3.8/site-packages/numpy/core/arrayprint.py?line=1225'>1226</a>\u001b[0m                           \u001b[39mlen\u001b[39m(\u001b[39mstr\u001b[39m(np\u001b[39m.\u001b[39mmin(data))))\n\u001b[1;32m   <a href='file:///home/q123/miniconda3/envs/explo/lib/python3.8/site-packages/numpy/core/arrayprint.py?line=1226'>1227</a>\u001b[0m     \u001b[39melse\u001b[39;00m:\n\u001b[1;32m   <a href='file:///home/q123/miniconda3/envs/explo/lib/python3.8/site-packages/numpy/core/arrayprint.py?line=1227'>1228</a>\u001b[0m         max_str_len \u001b[39m=\u001b[39m \u001b[39m0\u001b[39m\n",
      "File \u001b[0;32m<__array_function__ internals>:180\u001b[0m, in \u001b[0;36mamax\u001b[0;34m(*args, **kwargs)\u001b[0m\n",
      "File \u001b[0;32m~/miniconda3/envs/explo/lib/python3.8/site-packages/numpy/core/fromnumeric.py:2791\u001b[0m, in \u001b[0;36mamax\u001b[0;34m(a, axis, out, keepdims, initial, where)\u001b[0m\n\u001b[1;32m   <a href='file:///home/q123/miniconda3/envs/explo/lib/python3.8/site-packages/numpy/core/fromnumeric.py?line=2674'>2675</a>\u001b[0m \u001b[39m@array_function_dispatch\u001b[39m(_amax_dispatcher)\n\u001b[1;32m   <a href='file:///home/q123/miniconda3/envs/explo/lib/python3.8/site-packages/numpy/core/fromnumeric.py?line=2675'>2676</a>\u001b[0m \u001b[39mdef\u001b[39;00m \u001b[39mamax\u001b[39m(a, axis\u001b[39m=\u001b[39m\u001b[39mNone\u001b[39;00m, out\u001b[39m=\u001b[39m\u001b[39mNone\u001b[39;00m, keepdims\u001b[39m=\u001b[39mnp\u001b[39m.\u001b[39m_NoValue, initial\u001b[39m=\u001b[39mnp\u001b[39m.\u001b[39m_NoValue,\n\u001b[1;32m   <a href='file:///home/q123/miniconda3/envs/explo/lib/python3.8/site-packages/numpy/core/fromnumeric.py?line=2676'>2677</a>\u001b[0m          where\u001b[39m=\u001b[39mnp\u001b[39m.\u001b[39m_NoValue):\n\u001b[1;32m   <a href='file:///home/q123/miniconda3/envs/explo/lib/python3.8/site-packages/numpy/core/fromnumeric.py?line=2677'>2678</a>\u001b[0m     \u001b[39m\"\"\"\u001b[39;00m\n\u001b[1;32m   <a href='file:///home/q123/miniconda3/envs/explo/lib/python3.8/site-packages/numpy/core/fromnumeric.py?line=2678'>2679</a>\u001b[0m \u001b[39m    Return the maximum of an array or maximum along an axis.\u001b[39;00m\n\u001b[1;32m   <a href='file:///home/q123/miniconda3/envs/explo/lib/python3.8/site-packages/numpy/core/fromnumeric.py?line=2679'>2680</a>\u001b[0m \n\u001b[0;32m   (...)\u001b[0m\n\u001b[1;32m   <a href='file:///home/q123/miniconda3/envs/explo/lib/python3.8/site-packages/numpy/core/fromnumeric.py?line=2788'>2789</a>\u001b[0m \u001b[39m    5\u001b[39;00m\n\u001b[1;32m   <a href='file:///home/q123/miniconda3/envs/explo/lib/python3.8/site-packages/numpy/core/fromnumeric.py?line=2789'>2790</a>\u001b[0m \u001b[39m    \"\"\"\u001b[39;00m\n\u001b[0;32m-> <a href='file:///home/q123/miniconda3/envs/explo/lib/python3.8/site-packages/numpy/core/fromnumeric.py?line=2790'>2791</a>\u001b[0m     \u001b[39mreturn\u001b[39;00m _wrapreduction(a, np\u001b[39m.\u001b[39;49mmaximum, \u001b[39m'\u001b[39;49m\u001b[39mmax\u001b[39;49m\u001b[39m'\u001b[39;49m, axis, \u001b[39mNone\u001b[39;49;00m, out,\n\u001b[1;32m   <a href='file:///home/q123/miniconda3/envs/explo/lib/python3.8/site-packages/numpy/core/fromnumeric.py?line=2791'>2792</a>\u001b[0m                           keepdims\u001b[39m=\u001b[39;49mkeepdims, initial\u001b[39m=\u001b[39;49minitial, where\u001b[39m=\u001b[39;49mwhere)\n",
      "File \u001b[0;32m~/miniconda3/envs/explo/lib/python3.8/site-packages/numpy/core/fromnumeric.py:70\u001b[0m, in \u001b[0;36m_wrapreduction\u001b[0;34m(obj, ufunc, method, axis, dtype, out, **kwargs)\u001b[0m\n\u001b[1;32m     <a href='file:///home/q123/miniconda3/envs/explo/lib/python3.8/site-packages/numpy/core/fromnumeric.py?line=68'>69</a>\u001b[0m \u001b[39mdef\u001b[39;00m \u001b[39m_wrapreduction\u001b[39m(obj, ufunc, method, axis, dtype, out, \u001b[39m*\u001b[39m\u001b[39m*\u001b[39mkwargs):\n\u001b[0;32m---> <a href='file:///home/q123/miniconda3/envs/explo/lib/python3.8/site-packages/numpy/core/fromnumeric.py?line=69'>70</a>\u001b[0m     passkwargs \u001b[39m=\u001b[39m {k: v \u001b[39mfor\u001b[39;00m k, v \u001b[39min\u001b[39;00m kwargs\u001b[39m.\u001b[39mitems()\n\u001b[1;32m     <a href='file:///home/q123/miniconda3/envs/explo/lib/python3.8/site-packages/numpy/core/fromnumeric.py?line=70'>71</a>\u001b[0m                   \u001b[39mif\u001b[39;00m v \u001b[39mis\u001b[39;00m \u001b[39mnot\u001b[39;00m np\u001b[39m.\u001b[39m_NoValue}\n\u001b[1;32m     <a href='file:///home/q123/miniconda3/envs/explo/lib/python3.8/site-packages/numpy/core/fromnumeric.py?line=72'>73</a>\u001b[0m     \u001b[39mif\u001b[39;00m \u001b[39mtype\u001b[39m(obj) \u001b[39mis\u001b[39;00m \u001b[39mnot\u001b[39;00m mu\u001b[39m.\u001b[39mndarray:\n\u001b[1;32m     <a href='file:///home/q123/miniconda3/envs/explo/lib/python3.8/site-packages/numpy/core/fromnumeric.py?line=73'>74</a>\u001b[0m         \u001b[39mtry\u001b[39;00m:\n",
      "\u001b[0;31mKeyboardInterrupt\u001b[0m: "
     ]
    }
   ],
   "source": [
    "model,objective_env = setup_experiment(env_config,model_config,n_init)\n",
    "#optimizer = BOptimizer()\n",
    "optimizer = GIBOptimizer(model,n_info_samples=8)\n",
    "#model.initialize(**hypers)\n",
    "trainer = Trainer(model,objective_env,optimizer,**trainer_config)\n",
    "trainer.run()"
   ]
  },
  {
   "cell_type": "code",
   "execution_count": null,
   "metadata": {},
   "outputs": [
    {
     "data": {
      "text/plain": [
       "{'prior_mean': 0.0,\n",
       " 'ard_num_dims': 'dim_search_space',\n",
       " 'N_max': 32,\n",
       " 'lengthscale_constraint': {'constraint': None, 'kwargs': None},\n",
       " 'lengthscale_hyperprior': {'prior': gpytorch.priors.torch_priors.UniformPrior,\n",
       "  'kwargs': {'a': 0.01, 'b': 0.3}},\n",
       " 'outputscale_constraint': {'constraint': gpytorch.constraints.constraints.GreaterThan,\n",
       "  'kwargs': {'lower_bound': 0.001}},\n",
       " 'outputscale_hyperprior': {'prior': gpytorch.priors.torch_priors.NormalPrior,\n",
       "  'kwargs': {'loc': 2.0, 'scale': 1.0}},\n",
       " 'noise_constraint': {'constraint': None, 'kwargs': None},\n",
       " 'noise_hyperprior': {'prior': None, 'kwargs': None}}"
      ]
     },
     "execution_count": 4,
     "metadata": {},
     "output_type": "execute_result"
    }
   ],
   "source": [
    "config_file = \"/home/q123/Desktop/explo/configs/swimmer.yaml\"\n",
    "\n",
    "with open(config_file, 'r') as f:\n",
    "        cfg = yaml.load(f, Loader=yaml.Loader)\n",
    "\n",
    "# Translate config dictionary.\n",
    "cfg = insert(cfg, insertion_config)\n",
    "model_config = cfg[\"optimizer_config\"][\"model_config\"]\n",
    "model_config"
   ]
  },
  {
   "cell_type": "code",
   "execution_count": null,
   "metadata": {},
   "outputs": [],
   "source": []
  }
 ],
 "metadata": {
  "interpreter": {
   "hash": "3b54cb4d83655428105eabb77a9cd1898504607119e0ebf088afaf3437f4d048"
  },
  "kernelspec": {
   "display_name": "Python 3.8.5 ('explo')",
   "language": "python",
   "name": "python3"
  },
  "language_info": {
   "codemirror_mode": {
    "name": "ipython",
    "version": 3
   },
   "file_extension": ".py",
   "mimetype": "text/x-python",
   "name": "python",
   "nbconvert_exporter": "python",
   "pygments_lexer": "ipython3",
   "version": "3.8.13"
  },
  "orig_nbformat": 4
 },
 "nbformat": 4,
 "nbformat_minor": 2
}
