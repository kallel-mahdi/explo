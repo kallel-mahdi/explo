{
 "cells": [
  {
   "cell_type": "code",
   "execution_count": 1,
   "metadata": {},
   "outputs": [
    {
     "name": "stdout",
     "output_type": "stream",
     "text": [
      "/home/q123/Desktop/explo\n"
     ]
    },
    {
     "name": "stderr",
     "output_type": "stream",
     "text": [
      "/home/q123/miniconda3/envs/explo/lib/python3.8/site-packages/tqdm/auto.py:22: TqdmWarning: IProgress not found. Please update jupyter and ipywidgets. See https://ipywidgets.readthedocs.io/en/stable/user_install.html\n",
      "  from .autonotebook import tqdm as notebook_tqdm\n"
     ]
    }
   ],
   "source": [
    "%cd /home/q123/Desktop/explo\n",
    "\n",
    "import torch \n",
    "import logging\n",
    "import logging.config\n",
    "\n",
    "from src.helpers import setup_experiment\n",
    "from src.trainer import Trainer\n",
    "\n",
    "logging.config.fileConfig('logging.conf')\n",
    "# create root logger\n",
    "logger = logging.getLogger()"
   ]
  },
  {
   "cell_type": "code",
   "execution_count": 2,
   "metadata": {},
   "outputs": [
    {
     "name": "stdout",
     "output_type": "stream",
     "text": [
      "MathLog.src.helpers : WARNING : MLP dimensions : [4, 1]\n",
      "current 22.0 / max 500.0 /batch_mean 23.079999923706055 /batch_max 500.0 \n",
      "##############################\n",
      "covar_lengthscale tensor([[0.3416]], grad_fn=<SoftplusBackward>)             covar_outputscale 6.766400337219238             noise 2736.8984375\n",
      "##############################\n",
      "current 9.0 / max 500.0 /batch_mean 25.829999923706055 /batch_max 500.0 \n",
      "##############################\n",
      "covar_lengthscale tensor([[0.3895]], grad_fn=<SoftplusBackward>)             covar_outputscale 7.633951663970947             noise 3532.574951171875\n",
      "##############################\n",
      "current 10.0 / max 500.0 /batch_mean 17.5 /batch_max 191.0 \n",
      "##############################\n",
      "covar_lengthscale tensor([[0.6733]], grad_fn=<SoftplusBackward>)             covar_outputscale 21.91843605041504             noise 2433.059326171875\n",
      "##############################\n",
      "current 9.0 / max 500.0 /batch_mean 22.59000015258789 /batch_max 500.0 \n",
      "##############################\n",
      "covar_lengthscale tensor([[0.7676]], grad_fn=<SoftplusBackward>)             covar_outputscale 86.95155334472656             noise 2229.287353515625\n",
      "##############################\n",
      "current 31.0 / max 500.0 /batch_mean 15.40999984741211 /batch_max 127.0 \n",
      "##############################\n",
      "covar_lengthscale tensor([[0.6954]], grad_fn=<SoftplusBackward>)             covar_outputscale 140.54917907714844             noise 1632.983642578125\n",
      "##############################\n",
      "current 10.0 / max 500.0 /batch_mean 18.549999237060547 /batch_max 388.0 \n",
      "##############################\n",
      "covar_lengthscale tensor([[0.6508]], grad_fn=<SoftplusBackward>)             covar_outputscale 204.5053253173828             noise 1465.0560302734375\n",
      "##############################\n",
      "current 22.0 / max 500.0 /batch_mean 19.389999389648438 /batch_max 144.0 \n",
      "##############################\n",
      "covar_lengthscale tensor([[0.6171]], grad_fn=<SoftplusBackward>)             covar_outputscale 246.6049346923828             noise 1219.4033203125\n",
      "##############################\n",
      "current 13.0 / max 500.0 /batch_mean 16.389999389648438 /batch_max 124.0 \n",
      "##############################\n",
      "covar_lengthscale tensor([[0.5636]], grad_fn=<SoftplusBackward>)             covar_outputscale 309.2513427734375             noise 930.849365234375\n",
      "##############################\n",
      "current 9.0 / max 500.0 /batch_mean 23.579999923706055 /batch_max 500.0 \n",
      "##############################\n",
      "covar_lengthscale tensor([[0.5039]], grad_fn=<SoftplusBackward>)             covar_outputscale 450.7611389160156             noise 761.4832153320312\n",
      "##############################\n"
     ]
    },
    {
     "data": {
      "text/plain": [
       "(tensor([0.0373, 0.1467, 0.3951, 0.9452, 0.0256]), tensor(500.))"
      ]
     },
     "execution_count": 2,
     "metadata": {},
     "output_type": "execute_result"
    }
   ],
   "source": [
    "env_name = \"CartPole-v1\"\n",
    "kernel_name = \"matern\"\n",
    "n_init = 3\n",
    "n_steps = 1000\n",
    "\n",
    "hypers = {\n",
    "    'likelihood.noise_covar.noise': torch.tensor(10),\n",
    "    'covar_module.kernel.base_kernel.lengthscale': torch.tensor(0.5),\n",
    "    'covar_module.kernel.outputscale': torch.tensor(2.),\n",
    "}\n",
    "\n",
    "model,objective_env = setup_experiment(env_name,kernel_name,n_init)\n",
    "#model.initialize(**hypers)\n",
    "trainer = Trainer(model,objective_env,n_steps)\n",
    "trainer.run(report_freq=100)"
   ]
  }
 ],
 "metadata": {
  "interpreter": {
   "hash": "3b54cb4d83655428105eabb77a9cd1898504607119e0ebf088afaf3437f4d048"
  },
  "kernelspec": {
   "display_name": "Python 3.8.5 ('explo')",
   "language": "python",
   "name": "python3"
  },
  "language_info": {
   "codemirror_mode": {
    "name": "ipython",
    "version": 3
   },
   "file_extension": ".py",
   "mimetype": "text/x-python",
   "name": "python",
   "nbconvert_exporter": "python",
   "pygments_lexer": "ipython3",
   "version": "3.8.13"
  },
  "orig_nbformat": 4
 },
 "nbformat": 4,
 "nbformat_minor": 2
}
