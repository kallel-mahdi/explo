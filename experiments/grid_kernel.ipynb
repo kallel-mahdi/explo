{
 "cells": [
  {
   "cell_type": "code",
   "execution_count": 1,
   "metadata": {},
   "outputs": [
    {
     "name": "stdout",
     "output_type": "stream",
     "text": [
      "/home/q123/Desktop/explo\n"
     ]
    },
    {
     "name": "stderr",
     "output_type": "stream",
     "text": [
      "/home/q123/miniconda3/envs/explo/lib/python3.8/site-packages/tqdm/auto.py:22: TqdmWarning: IProgress not found. Please update jupyter and ipywidgets. See https://ipywidgets.readthedocs.io/en/stable/user_install.html\n",
      "  from .autonotebook import tqdm as notebook_tqdm\n"
     ]
    }
   ],
   "source": [
    "%cd /home/q123/Desktop/explo\n",
    "\n",
    "### local imports \n",
    "from src.environment import EnvironmentObjective\n",
    "from src.optim import Optimizer\n",
    "from src.policy import MLP\n",
    "from src.gp import MyGP\n",
    "from src.kernels import *\n",
    "### botorch\n",
    "from botorch.fit import fit_gpytorch_model\n",
    "from botorch.models import SingleTaskGP\n",
    "from botorch.acquisition import ExpectedImprovement\n",
    "from botorch.optim import optimize_acqf\n",
    "\n",
    "\n",
    "### gpytorch \n",
    "from gpytorch.mlls import ExactMarginalLogLikelihood\n",
    "from gpytorch.kernels import MaternKernel,RBFKernel,ScaleKernel,Kernel\n",
    "from gpytorch.priors.torch_priors import GammaPrior\n",
    "\n",
    "\n",
    "### general imports\n",
    "import numpy as np\n",
    "import gpytorch\n",
    "import torch\n",
    "import gym\n",
    "\n",
    "# ### Logging \n",
    "# import logging\n",
    "# logger = logging.getLogger('__main__')\n",
    "# logger.setLevel(logging.CRITICAL)\n",
    "\n",
    "import logging\n",
    "import logging.config\n",
    "\n",
    "logging.config.fileConfig('logging.conf')\n",
    "\n",
    "# create logger\n",
    "logger = logging.getLogger()"
   ]
  },
  {
   "cell_type": "markdown",
   "metadata": {},
   "source": [
    "# Imports and kernels\n"
   ]
  },
  {
   "cell_type": "code",
   "execution_count": 2,
   "metadata": {},
   "outputs": [],
   "source": [
    "class GridKernel(StateKernel):\n",
    "    \n",
    "    \n",
    "    def get_grid(self,low,high,samples_per_dim):\n",
    "        \n",
    "        \n",
    "        state_dims = low.shape[0]\n",
    "        points = [torch.linspace(low[i],high[i],samples_per_dim) \n",
    "                    for i in range(state_dims)]\n",
    "        grid = torch.meshgrid(*points)\n",
    "        grid = torch.stack(grid)\n",
    "        grid = torch.flatten(grid,start_dim=1).T ## [n_states,state_dim]\n",
    "        \n",
    "        logger.info(f' grid shape {grid.shape}')\n",
    "        \n",
    "        return grid\n",
    "    \n",
    "    def update_states(self,new_s):\n",
    "        \n",
    "        self.high,_= torch.max(new_s,dim=0)\n",
    "        self.low,_= torch.min(new_s,dim=0)\n",
    "        states = self.get_grid(self.low,self.high,\n",
    "                                    samples_per_dim=5)\n",
    "        \n",
    "        n_states = states.shape[0]\n",
    "        self.states = states\n",
    "        return n_states\n",
    "        \n",
    "        #print(f'observation box : \\n low {self.low} \\n high :{self.high} \\n grid shape {self.states.shape}')\n",
    "    \n",
    "    def update(self,new_s):\n",
    "        \n",
    "        \n",
    "        tmp_buff = torch.cat([self.states, new_s])\n",
    "        high,_= torch.max(tmp_buff,dim=0)\n",
    "        low,_= torch.min(tmp_buff,dim=0)\n",
    "        \n",
    "        logger.info(f'Buffer shape {tmp_buff.shape}')\n",
    "        \n",
    "        ### update only if be\n",
    "        if any(high>self.high) or any(low<self.low):\n",
    "            self.update_states(tmp_buff)"
   ]
  },
  {
   "cell_type": "markdown",
   "metadata": {},
   "source": [
    "# Experiment "
   ]
  },
  {
   "cell_type": "code",
   "execution_count": 3,
   "metadata": {},
   "outputs": [],
   "source": [
    "### pendulum\n",
    "# mlp = MLP([3,1],add_bias=True) \n",
    "# env = gym.make(\"Pendulum-v1\")\n",
    "\n",
    "### Swimmer \n",
    "# mlp = MLP([8,2],add_bias=True) \n",
    "# env = gym.make(\"Swimmer-v3\")\n",
    "\n",
    "### Inverted pendulum\n",
    "\n",
    "mlp = MLP([4,1],add_bias=True) \n",
    "env = gym.make(\"InvertedPendulum-v2\")\n",
    "\n",
    "### CartPole\n",
    "\n",
    "# mlp = MLP([4,1],add_bias=True)\n",
    "# env = gym.make(\"CartPole-v1\")\n",
    "\n",
    "# Initialize environment\n",
    "\n",
    "objective_env = EnvironmentObjective(\n",
    "  env=env,\n",
    "  mlp=mlp,\n",
    "  manipulate_state=None,\n",
    "  manipulate_reward=None,\n",
    ")\n",
    "\n",
    "### initialize train_x, train_y\n",
    "train_x = torch.rand(10,mlp.len_params) ## [n_trials,n_params]\n",
    "train_data = [objective_env.run(p) for p in train_x]\n",
    "train_y = torch.Tensor([d[0] for d in train_data]).reshape(-1)  ## [n_trials,1]\n",
    "train_s = torch.stack( [d[1] for d in train_data])  ## [n_trials,max_len,state_dim]\n",
    "train_s = torch.flatten(train_s,start_dim=0,end_dim=1) ## [n_trials*max_len,state_dim]\n",
    "\n",
    "# initialize likelihood and model\n",
    "likelihood = gpytorch.likelihoods.GaussianLikelihood()\n",
    "model = MyGP(train_x, train_y,train_s,likelihood,\n",
    "                    kernel=None,mlp=mlp)\n",
    "opt = Optimizer()\n"
   ]
  },
  {
   "cell_type": "code",
   "execution_count": 4,
   "metadata": {},
   "outputs": [],
   "source": [
    "### now we loop :\n",
    "max_iter = 1\n",
    "\n",
    "\n",
    "for i in range(max_iter):\n",
    "\n",
    "  opt.step(model,objective_env)\n",
    "\n",
    "  if i % 1 == 0 and i>=1:\n",
    "  \n",
    "\n",
    "    max = model.train_targets.max()\n",
    "    batch_mean = model.train_targets[i-1:i].mean()\n",
    "    batch_max = model.train_targets[i-1:i].max()\n",
    "    curr = model.train_targets[-1]\n",
    "    print(f'current {curr} / max {max} /batch_mean {batch_mean} /batch_max {batch_max} ')\n",
    "    opt.print_hypers(model)\n",
    "\n",
    "    #print(f'model.train_inputs.shape{model.train_inputs[0].shape}')"
   ]
  },
  {
   "cell_type": "markdown",
   "metadata": {},
   "source": [
    "# Manually fitting GP (maximizing likelihood)"
   ]
  },
  {
   "cell_type": "code",
   "execution_count": 5,
   "metadata": {},
   "outputs": [],
   "source": [
    "# training_iter = 100 \n",
    "\n",
    "# # Find optimal model hyperparameters\n",
    "# model.train()\n",
    "# likelihood.train()\n",
    "\n",
    "# # Use the adam optimizer\n",
    "# optimizer = torch.optim.SGD(model.parameters(), lr=0.25)  # Includes GaussianLikelihood parameters\n",
    "\n",
    "# # \"Loss\" for GPs - the marginal log likelihood\n",
    "# mll = gpytorch.mlls.ExactMarginalLogLikelihood(likelihood, model)\n",
    "\n",
    "# for i in range(3):\n",
    "#     # Zero gradients from previous iteration\n",
    "#     optimizer.zero_grad()\n",
    "#     # Output from model\n",
    "#     output = model(train_x)\n",
    "#     # Calc loss and backprop gradients\n",
    "#     loss = -mll(output, train_y)\n",
    "#     logger.warning(f'Loss {loss.shape}')\n",
    "#     loss.backward()\n",
    "#     print('Iter %d/%d - Loss: %.3f noise: %.3f' % \n",
    "#         (\n",
    "#         i + 1, training_iter, loss.item(),\n",
    "#         model.likelihood.noise.item())\n",
    "#         )\n",
    "#     optimizer.step()"
   ]
  }
 ],
 "metadata": {
  "interpreter": {
   "hash": "3b54cb4d83655428105eabb77a9cd1898504607119e0ebf088afaf3437f4d048"
  },
  "kernelspec": {
   "display_name": "Python 3.8.5 ('explo')",
   "language": "python",
   "name": "python3"
  },
  "language_info": {
   "codemirror_mode": {
    "name": "ipython",
    "version": 3
   },
   "file_extension": ".py",
   "mimetype": "text/x-python",
   "name": "python",
   "nbconvert_exporter": "python",
   "pygments_lexer": "ipython3",
   "version": "3.8.13"
  },
  "orig_nbformat": 4
 },
 "nbformat": 4,
 "nbformat_minor": 2
}
