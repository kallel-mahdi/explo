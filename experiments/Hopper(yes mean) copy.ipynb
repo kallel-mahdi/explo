{
 "cells": [
  {
   "cell_type": "code",
   "execution_count": 1,
   "metadata": {},
   "outputs": [
    {
     "name": "stdout",
     "output_type": "stream",
     "text": [
      "/home/mkallel/explo\n"
     ]
    },
    {
     "name": "stderr",
     "output_type": "stream",
     "text": [
      "/home/mkallel/miniconda3/envs/bopt/lib/python3.9/site-packages/tqdm/auto.py:22: TqdmWarning: IProgress not found. Please update jupyter and ipywidgets. See https://ipywidgets.readthedocs.io/en/stable/user_install.html\n",
      "  from .autonotebook import tqdm as notebook_tqdm\n"
     ]
    },
    {
     "name": "stdout",
     "output_type": "stream",
     "text": [
      "MathLog.src.helpers : WARNING : MLP dimensions : [11, 3]\n",
      "MLPPPPPPPPP SETUP 36\n",
      "MLP LEEEEEN 36\n",
      " Gibo will use 48 last points to fit GP and 8 info samples\n",
      "fixing seed to  0\n"
     ]
    },
    {
     "name": "stderr",
     "output_type": "stream",
     "text": [
      "/home/mkallel/miniconda3/envs/bopt/lib/python3.9/site-packages/torch/autograd/__init__.py:275: UserWarning: CUDA initialization: Unexpected error from cudaGetDeviceCount(). Did you run some cuda functions before calling NumCudaDevices() that might have already set an error? Error 804: forward compatibility was attempted on non supported HW (Triggered internally at  ../c10/cuda/CUDAFunctions.cpp:112.)\n",
      "  return Variable._execution_engine.run_backward(  # Calls into the C++ engine to run the backward pass\n",
      "/home/mkallel/miniconda3/envs/bopt/lib/python3.9/site-packages/gpytorch/lazy/lazy_tensor.py:1741: UserWarning: torch.triangular_solve is deprecated in favor of torch.linalg.solve_triangularand will be removed in a future PyTorch release.\n",
      "torch.linalg.solve_triangular has its arguments reversed and does not return a copy of one of the inputs.\n",
      "X = torch.triangular_solve(B, A).solution\n",
      "should be replaced with\n",
      "X = torch.linalg.solve_triangular(A, B). (Triggered internally at  ../aten/src/ATen/native/BatchLinearAlgebra.cpp:1672.)\n",
      "  Linv = torch.triangular_solve(Eye, L, upper=False).solution\n",
      "/home/mkallel/explo/src/optimizers/gibo_parallel.py:365: UserWarning: The use of `x.T` on tensors of dimension other than 2 to reverse their shape is deprecated and it will throw an error in a future release. Consider `x.mT` to transpose batches of matricesor `x.permute(*torch.arange(x.ndim - 1, -1, -1))` to reverse the dimensions of a tensor. (Triggered internally at  ../aten/src/ATen/native/TensorShape.cpp:2318.)\n",
      "  a1 = mlp(kernel_states,theta_1).flatten(start_dim=-2).squeeze().T\n"
     ]
    },
    {
     "name": "stdout",
     "output_type": "stream",
     "text": [
      "0.2777777777777778\n",
      "MLL : -20.103290557861328\n",
      "batch_mean 0.039930202066898346 batch_max 0.14682024717330933\n",
      "0.3055555555555556\n",
      "MLL : -3.292067766189575\n",
      "batch_mean 0.03002583049237728 batch_max 0.14682024717330933\n"
     ]
    },
    {
     "name": "stderr",
     "output_type": "stream",
     "text": [
      "/home/mkallel/explo/src/optimizers/helpers.py:75: RuntimeWarning: invalid value encountered in sqrt\n",
      "  D_sqrt = np.diag(np.sqrt(1/eigvals))\n",
      "/home/mkallel/miniconda3/envs/bopt/lib/python3.9/site-packages/cvxpy/problems/problem.py:1337: UserWarning: Solution may be inaccurate. Try another solver, adjusting the solver settings, or solve with verbose=True for more information.\n",
      "  warnings.warn(\n"
     ]
    },
    {
     "name": "stdout",
     "output_type": "stream",
     "text": [
      "0.0\n",
      "MLL : -1.2843297719955444\n",
      "batch_mean 0.033804502338171005 batch_max 0.14682024717330933\n"
     ]
    },
    {
     "name": "stderr",
     "output_type": "stream",
     "text": [
      "/home/mkallel/explo/src/optimizers/helpers.py:75: RuntimeWarning: invalid value encountered in sqrt\n",
      "  D_sqrt = np.diag(np.sqrt(1/eigvals))\n",
      "/home/mkallel/miniconda3/envs/bopt/lib/python3.9/site-packages/cvxpy/problems/problem.py:1337: UserWarning: Solution may be inaccurate. Try another solver, adjusting the solver settings, or solve with verbose=True for more information.\n",
      "  warnings.warn(\n"
     ]
    },
    {
     "name": "stdout",
     "output_type": "stream",
     "text": [
      "0.0\n",
      "MLL : -0.6065031290054321\n",
      "batch_mean 0.031635455787181854 batch_max 0.14682024717330933\n"
     ]
    },
    {
     "name": "stderr",
     "output_type": "stream",
     "text": [
      "/home/mkallel/explo/src/optimizers/helpers.py:75: RuntimeWarning: invalid value encountered in sqrt\n",
      "  D_sqrt = np.diag(np.sqrt(1/eigvals))\n",
      "/home/mkallel/miniconda3/envs/bopt/lib/python3.9/site-packages/cvxpy/problems/problem.py:1337: UserWarning: Solution may be inaccurate. Try another solver, adjusting the solver settings, or solve with verbose=True for more information.\n",
      "  warnings.warn(\n"
     ]
    },
    {
     "name": "stdout",
     "output_type": "stream",
     "text": [
      "0.0\n",
      "MLL : -0.24442805349826813\n",
      "batch_mean 0.033409785479307175 batch_max 0.14682024717330933\n"
     ]
    },
    {
     "name": "stderr",
     "output_type": "stream",
     "text": [
      "/home/mkallel/explo/src/optimizers/helpers.py:75: RuntimeWarning: invalid value encountered in sqrt\n",
      "  D_sqrt = np.diag(np.sqrt(1/eigvals))\n",
      "/home/mkallel/miniconda3/envs/bopt/lib/python3.9/site-packages/cvxpy/problems/problem.py:1337: UserWarning: Solution may be inaccurate. Try another solver, adjusting the solver settings, or solve with verbose=True for more information.\n",
      "  warnings.warn(\n"
     ]
    },
    {
     "name": "stdout",
     "output_type": "stream",
     "text": [
      "0.0\n",
      "MLL : -0.1463300585746765\n",
      "batch_mean 0.0420619361102581 batch_max 0.408189594745636\n"
     ]
    },
    {
     "name": "stderr",
     "output_type": "stream",
     "text": [
      "/home/mkallel/explo/src/optimizers/helpers.py:75: RuntimeWarning: invalid value encountered in sqrt\n",
      "  D_sqrt = np.diag(np.sqrt(1/eigvals))\n",
      "/home/mkallel/miniconda3/envs/bopt/lib/python3.9/site-packages/cvxpy/problems/problem.py:1337: UserWarning: Solution may be inaccurate. Try another solver, adjusting the solver settings, or solve with verbose=True for more information.\n",
      "  warnings.warn(\n"
     ]
    },
    {
     "name": "stdout",
     "output_type": "stream",
     "text": [
      "0.0\n",
      "MLL : -0.25480201840400696\n",
      "batch_mean 0.04037928581237793 batch_max 0.408189594745636\n",
      "1.0\n",
      "MLL : 0.014375686645507812\n",
      "batch_mean 0.043486710637807846 batch_max 0.408189594745636\n",
      "1.0\n",
      "MLL : 0.16045896708965302\n",
      "batch_mean 0.04529344290494919 batch_max 0.408189594745636\n"
     ]
    },
    {
     "name": "stderr",
     "output_type": "stream",
     "text": [
      "/home/mkallel/explo/src/optimizers/helpers.py:75: RuntimeWarning: invalid value encountered in sqrt\n",
      "  D_sqrt = np.diag(np.sqrt(1/eigvals))\n",
      "/home/mkallel/miniconda3/envs/bopt/lib/python3.9/site-packages/cvxpy/problems/problem.py:1337: UserWarning: Solution may be inaccurate. Try another solver, adjusting the solver settings, or solve with verbose=True for more information.\n",
      "  warnings.warn(\n"
     ]
    },
    {
     "name": "stdout",
     "output_type": "stream",
     "text": [
      "0.0\n",
      "MLL : 0.08253737539052963\n",
      "batch_mean 0.047244373708963394 batch_max 0.408189594745636\n",
      "1.0\n",
      "MLL : 0.06877953559160233\n",
      "batch_mean 0.048065781593322754 batch_max 0.408189594745636\n"
     ]
    },
    {
     "name": "stderr",
     "output_type": "stream",
     "text": [
      "/home/mkallel/explo/src/optimizers/helpers.py:75: RuntimeWarning: invalid value encountered in sqrt\n",
      "  D_sqrt = np.diag(np.sqrt(1/eigvals))\n",
      "/home/mkallel/miniconda3/envs/bopt/lib/python3.9/site-packages/cvxpy/problems/problem.py:1337: UserWarning: Solution may be inaccurate. Try another solver, adjusting the solver settings, or solve with verbose=True for more information.\n",
      "  warnings.warn(\n"
     ]
    },
    {
     "name": "stdout",
     "output_type": "stream",
     "text": [
      "0.0\n",
      "MLL : 0.19052383303642273\n",
      "batch_mean 0.04099279269576073 batch_max 0.12432477623224258\n",
      "0.6944444444444444\n",
      "MLL : 0.3457251191139221\n",
      "batch_mean 0.040005337446928024 batch_max 0.12432477623224258\n"
     ]
    },
    {
     "name": "stderr",
     "output_type": "stream",
     "text": [
      "/home/mkallel/explo/src/optimizers/helpers.py:75: RuntimeWarning: invalid value encountered in sqrt\n",
      "  D_sqrt = np.diag(np.sqrt(1/eigvals))\n",
      "/home/mkallel/miniconda3/envs/bopt/lib/python3.9/site-packages/cvxpy/problems/problem.py:1337: UserWarning: Solution may be inaccurate. Try another solver, adjusting the solver settings, or solve with verbose=True for more information.\n",
      "  warnings.warn(\n"
     ]
    },
    {
     "name": "stdout",
     "output_type": "stream",
     "text": [
      "0.0\n",
      "MLL : 0.4415016174316406\n",
      "batch_mean 0.03685365244746208 batch_max 0.12432477623224258\n",
      "0.9722222222222222\n",
      "MLL : 0.3929441273212433\n",
      "batch_mean 0.03526994213461876 batch_max 0.12432477623224258\n"
     ]
    },
    {
     "name": "stderr",
     "output_type": "stream",
     "text": [
      "/home/mkallel/explo/src/optimizers/helpers.py:75: RuntimeWarning: invalid value encountered in sqrt\n",
      "  D_sqrt = np.diag(np.sqrt(1/eigvals))\n",
      "/home/mkallel/miniconda3/envs/bopt/lib/python3.9/site-packages/cvxpy/problems/problem.py:1337: UserWarning: Solution may be inaccurate. Try another solver, adjusting the solver settings, or solve with verbose=True for more information.\n",
      "  warnings.warn(\n"
     ]
    },
    {
     "name": "stdout",
     "output_type": "stream",
     "text": [
      "0.0\n",
      "MLL : 0.47492995858192444\n",
      "batch_mean 0.03202572837471962 batch_max 0.12432477623224258\n",
      "0.9444444444444444\n",
      "MLL : 0.5238561630249023\n",
      "batch_mean 0.027890274301171303 batch_max 0.12432477623224258\n",
      "0.8888888888888888\n",
      "MLL : 0.5464755296707153\n",
      "batch_mean 0.024392442777752876 batch_max 0.12432477623224258\n"
     ]
    },
    {
     "name": "stderr",
     "output_type": "stream",
     "text": [
      "/home/mkallel/explo/src/optimizers/helpers.py:75: RuntimeWarning: invalid value encountered in sqrt\n",
      "  D_sqrt = np.diag(np.sqrt(1/eigvals))\n",
      "/home/mkallel/miniconda3/envs/bopt/lib/python3.9/site-packages/cvxpy/problems/problem.py:1337: UserWarning: Solution may be inaccurate. Try another solver, adjusting the solver settings, or solve with verbose=True for more information.\n",
      "  warnings.warn(\n"
     ]
    },
    {
     "name": "stdout",
     "output_type": "stream",
     "text": [
      "0.0\n",
      "MLL : 0.5932796597480774\n",
      "batch_mean 0.023058105260133743 batch_max 0.06466340273618698\n"
     ]
    },
    {
     "name": "stderr",
     "output_type": "stream",
     "text": [
      "/home/mkallel/explo/src/optimizers/helpers.py:75: RuntimeWarning: invalid value encountered in sqrt\n",
      "  D_sqrt = np.diag(np.sqrt(1/eigvals))\n",
      "/home/mkallel/miniconda3/envs/bopt/lib/python3.9/site-packages/cvxpy/problems/problem.py:1337: UserWarning: Solution may be inaccurate. Try another solver, adjusting the solver settings, or solve with verbose=True for more information.\n",
      "  warnings.warn(\n"
     ]
    },
    {
     "name": "stdout",
     "output_type": "stream",
     "text": [
      "0.0\n",
      "MLL : 0.7360953688621521\n",
      "batch_mean 0.023017751052975655 batch_max 0.061229512095451355\n"
     ]
    },
    {
     "name": "stderr",
     "output_type": "stream",
     "text": [
      "/home/mkallel/explo/src/optimizers/helpers.py:75: RuntimeWarning: invalid value encountered in sqrt\n",
      "  D_sqrt = np.diag(np.sqrt(1/eigvals))\n",
      "/home/mkallel/miniconda3/envs/bopt/lib/python3.9/site-packages/cvxpy/problems/problem.py:1337: UserWarning: Solution may be inaccurate. Try another solver, adjusting the solver settings, or solve with verbose=True for more information.\n",
      "  warnings.warn(\n"
     ]
    },
    {
     "name": "stdout",
     "output_type": "stream",
     "text": [
      "0.0\n",
      "MLL : 0.8649663925170898\n",
      "batch_mean 0.02299673855304718 batch_max 0.061229512095451355\n"
     ]
    },
    {
     "name": "stderr",
     "output_type": "stream",
     "text": [
      "/home/mkallel/explo/src/optimizers/helpers.py:75: RuntimeWarning: invalid value encountered in sqrt\n",
      "  D_sqrt = np.diag(np.sqrt(1/eigvals))\n",
      "/home/mkallel/miniconda3/envs/bopt/lib/python3.9/site-packages/cvxpy/problems/problem.py:1337: UserWarning: Solution may be inaccurate. Try another solver, adjusting the solver settings, or solve with verbose=True for more information.\n",
      "  warnings.warn(\n"
     ]
    },
    {
     "name": "stdout",
     "output_type": "stream",
     "text": [
      "0.0\n",
      "MLL : 0.9077665209770203\n",
      "batch_mean 0.022702259942889214 batch_max 0.061229512095451355\n"
     ]
    },
    {
     "name": "stderr",
     "output_type": "stream",
     "text": [
      "/home/mkallel/explo/src/optimizers/helpers.py:75: RuntimeWarning: invalid value encountered in sqrt\n",
      "  D_sqrt = np.diag(np.sqrt(1/eigvals))\n",
      "/home/mkallel/miniconda3/envs/bopt/lib/python3.9/site-packages/cvxpy/problems/problem.py:1337: UserWarning: Solution may be inaccurate. Try another solver, adjusting the solver settings, or solve with verbose=True for more information.\n",
      "  warnings.warn(\n"
     ]
    },
    {
     "name": "stdout",
     "output_type": "stream",
     "text": [
      "0.0\n",
      "MLL : 0.9452227354049683\n",
      "batch_mean 0.021648403257131577 batch_max 0.061229512095451355\n"
     ]
    },
    {
     "name": "stderr",
     "output_type": "stream",
     "text": [
      "/home/mkallel/explo/src/optimizers/helpers.py:75: RuntimeWarning: invalid value encountered in sqrt\n",
      "  D_sqrt = np.diag(np.sqrt(1/eigvals))\n",
      "/home/mkallel/miniconda3/envs/bopt/lib/python3.9/site-packages/cvxpy/problems/problem.py:1337: UserWarning: Solution may be inaccurate. Try another solver, adjusting the solver settings, or solve with verbose=True for more information.\n",
      "  warnings.warn(\n"
     ]
    },
    {
     "name": "stdout",
     "output_type": "stream",
     "text": [
      "0.0\n",
      "MLL : 0.9739073514938354\n",
      "batch_mean 0.020882610231637955 batch_max 0.061229512095451355\n",
      "0.9722222222222222\n",
      "MLL : 0.957809567451477\n",
      "batch_mean 0.01929895579814911 batch_max 0.03834684193134308\n"
     ]
    },
    {
     "name": "stderr",
     "output_type": "stream",
     "text": [
      "/home/mkallel/explo/src/optimizers/helpers.py:75: RuntimeWarning: invalid value encountered in sqrt\n",
      "  D_sqrt = np.diag(np.sqrt(1/eigvals))\n",
      "/home/mkallel/miniconda3/envs/bopt/lib/python3.9/site-packages/cvxpy/problems/problem.py:1337: UserWarning: Solution may be inaccurate. Try another solver, adjusting the solver settings, or solve with verbose=True for more information.\n",
      "  warnings.warn(\n"
     ]
    },
    {
     "name": "stdout",
     "output_type": "stream",
     "text": [
      "0.0\n",
      "MLL : 0.9578628540039062\n",
      "batch_mean 0.018595274537801743 batch_max 0.03834684193134308\n",
      "0.9722222222222222\n",
      "MLL : 0.9669196009635925\n",
      "batch_mean 0.018492748960852623 batch_max 0.04996092990040779\n",
      "0.9166666666666666\n",
      "MLL : 0.9776085615158081\n",
      "batch_mean 0.01820194721221924 batch_max 0.04996092990040779\n",
      "0.9444444444444444\n",
      "MLL : 0.9818560481071472\n",
      "batch_mean 0.018962159752845764 batch_max 0.04996092990040779\n"
     ]
    },
    {
     "name": "stderr",
     "output_type": "stream",
     "text": [
      "/home/mkallel/explo/src/optimizers/helpers.py:75: RuntimeWarning: invalid value encountered in sqrt\n",
      "  D_sqrt = np.diag(np.sqrt(1/eigvals))\n",
      "/home/mkallel/miniconda3/envs/bopt/lib/python3.9/site-packages/cvxpy/problems/problem.py:1337: UserWarning: Solution may be inaccurate. Try another solver, adjusting the solver settings, or solve with verbose=True for more information.\n",
      "  warnings.warn(\n"
     ]
    },
    {
     "name": "stdout",
     "output_type": "stream",
     "text": [
      "0.0\n",
      "MLL : 0.9681423902511597\n",
      "batch_mean 0.019796157255768776 batch_max 0.04996092990040779\n"
     ]
    },
    {
     "name": "stderr",
     "output_type": "stream",
     "text": [
      "/home/mkallel/explo/src/optimizers/helpers.py:75: RuntimeWarning: invalid value encountered in sqrt\n",
      "  D_sqrt = np.diag(np.sqrt(1/eigvals))\n",
      "/home/mkallel/miniconda3/envs/bopt/lib/python3.9/site-packages/cvxpy/problems/problem.py:1337: UserWarning: Solution may be inaccurate. Try another solver, adjusting the solver settings, or solve with verbose=True for more information.\n",
      "  warnings.warn(\n"
     ]
    },
    {
     "name": "stdout",
     "output_type": "stream",
     "text": [
      "0.0\n",
      "MLL : 0.9881802797317505\n",
      "batch_mean 0.01988876238465309 batch_max 0.04996092990040779\n",
      "0.8611111111111112\n",
      "MLL : 0.9916548132896423\n",
      "batch_mean 0.019962945953011513 batch_max 0.04996092990040779\n"
     ]
    },
    {
     "name": "stderr",
     "output_type": "stream",
     "text": [
      "/home/mkallel/explo/src/optimizers/helpers.py:75: RuntimeWarning: invalid value encountered in sqrt\n",
      "  D_sqrt = np.diag(np.sqrt(1/eigvals))\n",
      "/home/mkallel/miniconda3/envs/bopt/lib/python3.9/site-packages/cvxpy/problems/problem.py:1337: UserWarning: Solution may be inaccurate. Try another solver, adjusting the solver settings, or solve with verbose=True for more information.\n",
      "  warnings.warn(\n"
     ]
    },
    {
     "name": "stdout",
     "output_type": "stream",
     "text": [
      "0.0\n",
      "MLL : 0.9934868216514587\n",
      "batch_mean 0.01957283541560173 batch_max 0.03577344864606857\n"
     ]
    },
    {
     "name": "stderr",
     "output_type": "stream",
     "text": [
      "/home/mkallel/explo/src/optimizers/helpers.py:75: RuntimeWarning: invalid value encountered in sqrt\n",
      "  D_sqrt = np.diag(np.sqrt(1/eigvals))\n",
      "/home/mkallel/miniconda3/envs/bopt/lib/python3.9/site-packages/cvxpy/problems/problem.py:1337: UserWarning: Solution may be inaccurate. Try another solver, adjusting the solver settings, or solve with verbose=True for more information.\n",
      "  warnings.warn(\n"
     ]
    },
    {
     "name": "stdout",
     "output_type": "stream",
     "text": [
      "0.0\n",
      "MLL : 0.9931196570396423\n",
      "batch_mean 0.019353551790118217 batch_max 0.03328283131122589\n"
     ]
    },
    {
     "name": "stderr",
     "output_type": "stream",
     "text": [
      "/home/mkallel/explo/src/optimizers/helpers.py:75: RuntimeWarning: invalid value encountered in sqrt\n",
      "  D_sqrt = np.diag(np.sqrt(1/eigvals))\n",
      "/home/mkallel/miniconda3/envs/bopt/lib/python3.9/site-packages/cvxpy/problems/problem.py:1337: UserWarning: Solution may be inaccurate. Try another solver, adjusting the solver settings, or solve with verbose=True for more information.\n",
      "  warnings.warn(\n"
     ]
    },
    {
     "name": "stdout",
     "output_type": "stream",
     "text": [
      "0.0\n",
      "MLL : 1.019368290901184\n",
      "batch_mean 0.019038546830415726 batch_max 0.03150196745991707\n"
     ]
    },
    {
     "name": "stderr",
     "output_type": "stream",
     "text": [
      "/home/mkallel/explo/src/optimizers/helpers.py:75: RuntimeWarning: invalid value encountered in sqrt\n",
      "  D_sqrt = np.diag(np.sqrt(1/eigvals))\n",
      "/home/mkallel/miniconda3/envs/bopt/lib/python3.9/site-packages/cvxpy/problems/problem.py:1337: UserWarning: Solution may be inaccurate. Try another solver, adjusting the solver settings, or solve with verbose=True for more information.\n",
      "  warnings.warn(\n"
     ]
    },
    {
     "name": "stdout",
     "output_type": "stream",
     "text": [
      "0.0\n",
      "MLL : 1.0178719758987427\n",
      "batch_mean 0.018727252259850502 batch_max 0.030627192929387093\n"
     ]
    },
    {
     "name": "stderr",
     "output_type": "stream",
     "text": [
      "/home/mkallel/explo/src/optimizers/helpers.py:75: RuntimeWarning: invalid value encountered in sqrt\n",
      "  D_sqrt = np.diag(np.sqrt(1/eigvals))\n",
      "/home/mkallel/miniconda3/envs/bopt/lib/python3.9/site-packages/cvxpy/problems/problem.py:1337: UserWarning: Solution may be inaccurate. Try another solver, adjusting the solver settings, or solve with verbose=True for more information.\n",
      "  warnings.warn(\n"
     ]
    },
    {
     "name": "stdout",
     "output_type": "stream",
     "text": [
      "0.0\n",
      "MLL : 1.0204118490219116\n",
      "batch_mean 0.018431663513183594 batch_max 0.0290619395673275\n",
      "0.8333333333333334\n",
      "MLL : 1.0150549411773682\n",
      "batch_mean 0.017226463183760643 batch_max 0.025694821029901505\n",
      "0.8611111111111112\n",
      "MLL : 0.9856705069541931\n",
      "batch_mean 0.016122817993164062 batch_max 0.025694821029901505\n"
     ]
    },
    {
     "name": "stderr",
     "output_type": "stream",
     "text": [
      "/home/mkallel/explo/src/optimizers/helpers.py:75: RuntimeWarning: invalid value encountered in sqrt\n",
      "  D_sqrt = np.diag(np.sqrt(1/eigvals))\n",
      "/home/mkallel/miniconda3/envs/bopt/lib/python3.9/site-packages/cvxpy/problems/problem.py:1337: UserWarning: Solution may be inaccurate. Try another solver, adjusting the solver settings, or solve with verbose=True for more information.\n",
      "  warnings.warn(\n"
     ]
    },
    {
     "name": "stdout",
     "output_type": "stream",
     "text": [
      "0.0\n",
      "MLL : 1.0285385847091675\n",
      "batch_mean 0.01598702371120453 batch_max 0.025694821029901505\n"
     ]
    },
    {
     "name": "stderr",
     "output_type": "stream",
     "text": [
      "/home/mkallel/explo/src/optimizers/helpers.py:75: RuntimeWarning: invalid value encountered in sqrt\n",
      "  D_sqrt = np.diag(np.sqrt(1/eigvals))\n",
      "/home/mkallel/miniconda3/envs/bopt/lib/python3.9/site-packages/cvxpy/problems/problem.py:1337: UserWarning: Solution may be inaccurate. Try another solver, adjusting the solver settings, or solve with verbose=True for more information.\n",
      "  warnings.warn(\n"
     ]
    },
    {
     "name": "stdout",
     "output_type": "stream",
     "text": [
      "0.0\n",
      "MLL : 0.9746924638748169\n",
      "batch_mean 0.015952175483107567 batch_max 0.025694821029901505\n"
     ]
    },
    {
     "name": "stderr",
     "output_type": "stream",
     "text": [
      "/home/mkallel/explo/src/optimizers/helpers.py:75: RuntimeWarning: invalid value encountered in sqrt\n",
      "  D_sqrt = np.diag(np.sqrt(1/eigvals))\n",
      "/home/mkallel/miniconda3/envs/bopt/lib/python3.9/site-packages/cvxpy/problems/problem.py:1337: UserWarning: Solution may be inaccurate. Try another solver, adjusting the solver settings, or solve with verbose=True for more information.\n",
      "  warnings.warn(\n"
     ]
    },
    {
     "name": "stdout",
     "output_type": "stream",
     "text": [
      "0.027777777777777776\n",
      "MLL : 0.9866871237754822\n",
      "batch_mean 0.015867818146944046 batch_max 0.025694821029901505\n",
      "0.7777777777777778\n",
      "MLL : 0.9790881276130676\n",
      "batch_mean 0.01583249494433403 batch_max 0.025694821029901505\n"
     ]
    },
    {
     "name": "stderr",
     "output_type": "stream",
     "text": [
      "/home/mkallel/explo/src/optimizers/helpers.py:75: RuntimeWarning: invalid value encountered in sqrt\n",
      "  D_sqrt = np.diag(np.sqrt(1/eigvals))\n",
      "/home/mkallel/miniconda3/envs/bopt/lib/python3.9/site-packages/cvxpy/problems/problem.py:1337: UserWarning: Solution may be inaccurate. Try another solver, adjusting the solver settings, or solve with verbose=True for more information.\n",
      "  warnings.warn(\n"
     ]
    },
    {
     "name": "stdout",
     "output_type": "stream",
     "text": [
      "0.0\n",
      "MLL : 0.991020679473877\n",
      "batch_mean 0.016220809891819954 batch_max 0.03192597255110741\n"
     ]
    },
    {
     "name": "stderr",
     "output_type": "stream",
     "text": [
      "/home/mkallel/explo/src/optimizers/helpers.py:75: RuntimeWarning: invalid value encountered in sqrt\n",
      "  D_sqrt = np.diag(np.sqrt(1/eigvals))\n",
      "/home/mkallel/miniconda3/envs/bopt/lib/python3.9/site-packages/cvxpy/problems/problem.py:1337: UserWarning: Solution may be inaccurate. Try another solver, adjusting the solver settings, or solve with verbose=True for more information.\n",
      "  warnings.warn(\n"
     ]
    },
    {
     "name": "stdout",
     "output_type": "stream",
     "text": [
      "0.0\n",
      "MLL : 0.9713351130485535\n",
      "batch_mean 0.016216887161135674 batch_max 0.03192597255110741\n"
     ]
    },
    {
     "name": "stderr",
     "output_type": "stream",
     "text": [
      "/home/mkallel/explo/src/optimizers/helpers.py:75: RuntimeWarning: invalid value encountered in sqrt\n",
      "  D_sqrt = np.diag(np.sqrt(1/eigvals))\n",
      "/home/mkallel/miniconda3/envs/bopt/lib/python3.9/site-packages/cvxpy/problems/problem.py:1337: UserWarning: Solution may be inaccurate. Try another solver, adjusting the solver settings, or solve with verbose=True for more information.\n",
      "  warnings.warn(\n"
     ]
    },
    {
     "name": "stdout",
     "output_type": "stream",
     "text": [
      "0.0\n",
      "MLL : 0.9949347376823425\n",
      "batch_mean 0.015810731798410416 batch_max 0.03192597255110741\n"
     ]
    },
    {
     "name": "stderr",
     "output_type": "stream",
     "text": [
      "/home/mkallel/explo/src/optimizers/helpers.py:75: RuntimeWarning: invalid value encountered in sqrt\n",
      "  D_sqrt = np.diag(np.sqrt(1/eigvals))\n",
      "/home/mkallel/miniconda3/envs/bopt/lib/python3.9/site-packages/cvxpy/problems/problem.py:1337: UserWarning: Solution may be inaccurate. Try another solver, adjusting the solver settings, or solve with verbose=True for more information.\n",
      "  warnings.warn(\n"
     ]
    },
    {
     "name": "stdout",
     "output_type": "stream",
     "text": [
      "0.0\n",
      "MLL : 0.8916455507278442\n",
      "batch_mean 0.015611286275088787 batch_max 0.03192597255110741\n"
     ]
    },
    {
     "name": "stderr",
     "output_type": "stream",
     "text": [
      "/home/mkallel/explo/src/optimizers/helpers.py:75: RuntimeWarning: invalid value encountered in sqrt\n",
      "  D_sqrt = np.diag(np.sqrt(1/eigvals))\n",
      "/home/mkallel/miniconda3/envs/bopt/lib/python3.9/site-packages/cvxpy/problems/problem.py:1337: UserWarning: Solution may be inaccurate. Try another solver, adjusting the solver settings, or solve with verbose=True for more information.\n",
      "  warnings.warn(\n"
     ]
    },
    {
     "name": "stdout",
     "output_type": "stream",
     "text": [
      "0.0\n",
      "MLL : 0.7624477744102478\n",
      "batch_mean 0.015481189824640751 batch_max 0.03192597255110741\n",
      "0.7777777777777778\n",
      "MLL : 0.8897827863693237\n",
      "batch_mean 0.014867468737065792 batch_max 0.03192597255110741\n"
     ]
    },
    {
     "name": "stderr",
     "output_type": "stream",
     "text": [
      "/home/mkallel/explo/src/optimizers/helpers.py:75: RuntimeWarning: invalid value encountered in sqrt\n",
      "  D_sqrt = np.diag(np.sqrt(1/eigvals))\n",
      "/home/mkallel/miniconda3/envs/bopt/lib/python3.9/site-packages/cvxpy/problems/problem.py:1337: UserWarning: Solution may be inaccurate. Try another solver, adjusting the solver settings, or solve with verbose=True for more information.\n",
      "  warnings.warn(\n"
     ]
    },
    {
     "name": "stdout",
     "output_type": "stream",
     "text": [
      "0.0\n",
      "MLL : 0.9658628106117249\n",
      "batch_mean 0.014602716080844402 batch_max 0.03192597255110741\n"
     ]
    }
   ],
   "source": [
    "%cd /home/mkallel/explo/\n",
    "\n",
    "import logging\n",
    "import logging.config\n",
    "import os\n",
    "from multiprocessing import Pool\n",
    "from warnings import simplefilter\n",
    "\n",
    "import gpytorch\n",
    "import numpy as np\n",
    "import torch\n",
    "import threading\n",
    "import wandb\n",
    "from src.config import get_configs\n",
    "from src.helpers import setup_experiment\n",
    "from src.trainer import Trainer\n",
    "import itertools\n",
    "\n",
    "\n",
    "logging.config.fileConfig('logging.conf')\n",
    "# create root logger\n",
    "logger = logging.getLogger()\n",
    "\n",
    "simplefilter(action='ignore', category=DeprecationWarning)\n",
    "#os.environ[\"WANDB_API_KEY\"]=\"28996bd59f1ba2c5a8c3f2cc23d8673c327ae230\"\n",
    "os.environ[\"WANDB_API_KEY\"]=\"baf5048ab2de89a0b2cea751b1b28ff2bfa4c782\"\n",
    "\n",
    "def run(seed,\n",
    "        env_name,\n",
    "        kernel_name,\n",
    "        manipulate_state,\n",
    "        norm_grad,\n",
    "        conf_grad,\n",
    "        advantage_mean,\n",
    "        adaptive_lr,\n",
    "        lr ):\n",
    "\n",
    "        #env_name = \"CartPole-v1\" ## Action kernel + State_norm looks very well for cartpole\n",
    "        #env_name = \"Swimmer-v4\" ##  State_norm stabilizes training \n",
    "        #env_name = \"Hopper-v2\"\n",
    "        #env_name = \"HalfCheetah-v2\"        \n",
    "        #env_name = \"Walker2d-v3\"\n",
    "\n",
    "        project_name = env_name+(\"RBFSTATE + CONF\")\n",
    "        run_name =  kernel_name+\"_lr=\"+str(lr) +\"_\"+str(1 *manipulate_state)+ str(1 *norm_grad) + str(1 *conf_grad) + str(1 *advantage_mean)+str(1 *adaptive_lr) +\"_\"+ str(seed)\n",
    "        env_config,policy_config,likelihood_config,kernel_config,mean_config,optimizer_config,trainer_config = get_configs(env_name,kernel_name,\n",
    "        use_ard=True,manipulate_state=manipulate_state,\n",
    "        conf_grad=conf_grad,norm_grad=norm_grad,advantage_mean=advantage_mean,adaptive_lr=adaptive_lr,lr=lr,\n",
    "        wandb_logger=False,project_name=project_name,run_name=run_name)\n",
    "\n",
    "        trainer_config[\"n_steps\"]=500\n",
    "\n",
    "        model,objective_env,optimizer = setup_experiment(env_config,mean_config,kernel_config,likelihood_config,policy_config,optimizer_config,\n",
    "                                        seed=seed)\n",
    "\n",
    "        trainer = Trainer(model,objective_env,optimizer,**trainer_config)\n",
    "        trainer.run()\n",
    "\n",
    "        return model,objective_env,optimizer\n",
    "\n",
    "\n",
    "\n",
    "if __name__ == '__main__':\n",
    "\n",
    "        \n",
    "        wandb.require(\"service\")\n",
    "        wandb.setup()  \n",
    "\n",
    "        env_name = [\"Hopper-v2\"]\n",
    "        #env_name = [\"CartPole-v1\"]\n",
    "        kernel_name = [\"rbfstate\"]\n",
    "        manipulate_state = [False]\n",
    "        norm_grad = [True]\n",
    "        conf_grad = [True] ##run this for rbf\n",
    "        advantage_mean = [True]\n",
    "        adaptive_lr = [False]\n",
    "        learning_rate = 0.1 if kernel_name == [\"rbfstate\"] else 0.5\n",
    "        lr = [learning_rate]\n",
    "\n",
    "        for config in itertools.product(*[env_name,kernel_name,manipulate_state,norm_grad,conf_grad,advantage_mean,adaptive_lr,lr]):\n",
    "\n",
    "        \n",
    "                model,objective_env,optimizer = run(*(0,*config))\n",
    "\n"
   ]
  },
  {
   "cell_type": "code",
   "execution_count": 2,
   "metadata": {},
   "outputs": [],
   "source": [
    "# PATH = \"/home/mkallel/explo/models/Swimmer\"\n",
    "# dict = model.state_dict()\n",
    "# dict.update({\n",
    "#     \"optimizer\":optimizer,\n",
    "#     #\"objective_env\":objective_env,\n",
    "#     })\n",
    "# torch.save(dict,PATH)"
   ]
  },
  {
   "cell_type": "code",
   "execution_count": 3,
   "metadata": {},
   "outputs": [
    {
     "name": "stdout",
     "output_type": "stream",
     "text": [
      "Generating data\n",
      "Done generating data\n",
      "matplotlib.legend : WARNING : No artists with labels found to put in legend.  Note that artists whose label start with an underscore are ignored when legend() is called with no argument.\n",
      "matplotlib.legend : WARNING : No artists with labels found to put in legend.  Note that artists whose label start with an underscore are ignored when legend() is called with no argument.\n",
      "matplotlib.legend : WARNING : No artists with labels found to put in legend.  Note that artists whose label start with an underscore are ignored when legend() is called with no argument.\n",
      "matplotlib.legend : WARNING : No artists with labels found to put in legend.  Note that artists whose label start with an underscore are ignored when legend() is called with no argument.\n"
     ]
    },
    {
     "data": {
      "image/png": "[encoded data removed]",
      "text/plain": [
       "<Figure size 1080x864 with 12 Axes>"
      ]
     },
     "metadata": {
      "needs_background": "light"
     },
     "output_type": "display_data"
    }
   ],
   "source": [
    "import pickle\n",
    "import random\n",
    "\n",
    "import botorch\n",
    "import gpytorch\n",
    "import matplotlib.pyplot as plt\n",
    "import torch\n",
    "from botorch.fit import fit_gpytorch_model\n",
    "from gpytorch.mlls import ExactMarginalLogLikelihood\n",
    "from sklearn.metrics import mean_absolute_error as mae\n",
    "from sklearn.metrics import mean_squared_error as mse\n",
    "from sklearn.model_selection import train_test_split\n",
    "\n",
    "\n",
    "##fix random seed\n",
    "random.seed(0)\n",
    "torch.manual_seed(0)\n",
    "\n",
    "class Tester:\n",
    "    \n",
    "    def __init__(self,model,objective_env,local_opt,\n",
    "                 delta=0.1,n_test=100,n_episodes_test=2,\n",
    "                 ):\n",
    "        \n",
    "        \n",
    "        self.__dict__.update(locals())\n",
    "        \n",
    "        \n",
    "        \n",
    "\n",
    "       \n",
    "    def generate_data(self,n_test,n_episodes_test):\n",
    "        \n",
    "        objective_env,delta= self.objective_env,self.delta\n",
    "        \n",
    "        \n",
    "        print(f'Generating data')\n",
    "        \n",
    "        \n",
    "        bounds = torch.tensor([[-delta], [delta]]) + self.local_opt\n",
    "        U = torch.distributions.Uniform(bounds[0],bounds[1])\n",
    "        test_x = U.sample(sample_shape=[n_test])\n",
    "        test_y = [objective_env(x.reshape(1,-1),n_episodes_test)[0] for x in test_x] ## run test points multiple times to get real value\n",
    "\n",
    "        print(f'Done generating data')\n",
    "\n",
    "        return test_x,torch.tensor(test_y)\n",
    "        \n",
    "    \n",
    "  \n",
    "  \n",
    "    def plot(self,x,y,y_hat,local_x,title,\n",
    "             subfigure=None):\n",
    "    \n",
    "        \n",
    "        ### arrange points by l2 distance to optimum\n",
    "        dist = torch.linalg.norm(x-local_x,dim=1)\n",
    "        idx = torch.argsort(dist)\n",
    " \n",
    "        y = y[idx]\n",
    "        y_hat = y_hat[idx]\n",
    "        x_plot = range(len(y))\n",
    "        \n",
    "        if subfigure is None:\n",
    "            fig,axs = plt.subplots(3,figsize=(5,12))\n",
    "\n",
    "        else :\n",
    "            axs = subfigure.subplots(3)\n",
    "            \n",
    "        axs[0].scatter(x_plot,y,label=\"y\",color=\"red\")\n",
    "        axs[0].errorbar(x_plot,y_hat,label=\"y_hat\",fmt=\"x\")\n",
    "        axs[0].title.set_text(f' Predictions vs targets \\n MAE: {mae(y,y_hat)} \\n RMSE :{mse(y,y_hat,squared=False)}')\n",
    "        axs[0].set_xlabel(\"rank (in terms of distance to optimum)\")\n",
    "        axs[0].set_ylabel(\"prediction\")\n",
    "        \n",
    "        axs[0].legend()\n",
    "        \n",
    "        idx2 = torch.argsort(y)\n",
    "        axs[1].scatter(y[idx2],y_hat[idx2],label=\"error\")\n",
    "        axs[1].plot(y[idx2],y[idx2],color=\"red\")\n",
    "        axs[1].title.set_text(\"Error as a function of the target\")\n",
    "        axs[1].set_xlabel(\"y\")\n",
    "        axs[1].set_xlabel(\"y_hat\")\n",
    "        \n",
    "        error = torch.abs(y[idx]-y_hat[idx])\n",
    "        axs[2].scatter(dist[idx],torch.cumsum(error,dim=0))\n",
    "        axs[2].set_title(\"Cummulative error as a function of L2 distance to optimum\")\n",
    "        axs[2].set_xlabel(\"||x - x_opt||\")\n",
    "        axs[2].set_xlabel(\"Cummulative error\")\n",
    "        \n",
    "        plt.legend()\n",
    "        \n",
    "        \n",
    "    \n",
    "    def get_mll(self,model,x,y):\n",
    "        \n",
    "        mll = gpytorch.mlls.ExactMarginalLogLikelihood(model.likelihood, model)\n",
    "        output = model(x)\n",
    "        marginal_likelihood = mll(output,y)\n",
    "        \n",
    "        return marginal_likelihood.item()\n",
    "        \n",
    "    def predict(self,model,x):\n",
    "        \n",
    "        model.eval()\n",
    "        model.likelihood.eval()\n",
    "        \n",
    "        with torch.no_grad():\n",
    "\n",
    "            pred = model.likelihood(model(x))\n",
    "        \n",
    "        lower, upper = pred.confidence_region()   \n",
    "        y_hat = pred.mean  \n",
    "        \n",
    "        return y_hat,lower,upper\n",
    "    \n",
    " \n",
    "    def run(self):\n",
    "        \n",
    "        self.__dict__.update(locals()) ##save args to self\n",
    "\n",
    "        train_x,train_y =  model.train_inputs[0],model.train_targets\n",
    "        test_x,test_y = self.generate_data(self.n_test,self.n_episodes_test)\n",
    "        \n",
    "        train_mean = model.mean_module(train_x).detach().cpu().numpy()\n",
    "        test_mean = model.mean_module(test_x).detach().cpu().numpy()\n",
    "\n",
    "        train_pred = self.predict(model,train_x)\n",
    "        test_pred  = self.predict(model,test_x)\n",
    "        \n",
    "        train_mll = self.get_mll(model,train_x,train_y)\n",
    "        test_mll = self.get_mll(model,test_x,test_y)\n",
    "        \n",
    "        \n",
    "        #fig = plt.figure(constrained_layout=True,figsize=(8,12))\n",
    "        fig = plt.figure(constrained_layout=True,figsize=(15,12))\n",
    "        subfigures = fig.subfigures(1,4)\n",
    "        ### train plots\n",
    "        \n",
    "        y_hat,lower,upper = train_pred\n",
    "        self.plot(train_x,train_y,train_mean,self.local_opt,\"train_mean\",\n",
    "                  subfigures[0])\n",
    "        \n",
    "        self.plot(train_x,train_y,y_hat,self.local_opt,\"train_gp\",\n",
    "                  subfigures[1])\n",
    "        \n",
    "        ### test plots\n",
    "        \n",
    "        y_hat,lower,upper = test_pred\n",
    "        self.plot(test_x,test_y,test_mean,self.local_opt,\"test_mean\",\n",
    "                  subfigures[2])\n",
    "        \n",
    "        self.plot(test_x,test_y,y_hat,self.local_opt,\"test_gp\",\n",
    "                  subfigures[3])\n",
    "\n",
    "tester = Tester(model,objective_env,optimizer.theta_i)\n",
    "tester.run()"
   ]
  },
  {
   "cell_type": "code",
   "execution_count": 4,
   "metadata": {},
   "outputs": [
    {
     "data": {
      "text/plain": [
       "[<matplotlib.lines.Line2D at 0x7f2d802a4e50>]"
      ]
     },
     "execution_count": 4,
     "metadata": {},
     "output_type": "execute_result"
    },
    {
     "data": {
      "image/png": "[encoded data removed]",
      "text/plain": [
       "<Figure size 432x288 with 1 Axes>"
      ]
     },
     "metadata": {
      "needs_background": "light"
     },
     "output_type": "display_data"
    }
   ],
   "source": [
    "import scipy.stats as stats \n",
    "import numpy as np\n",
    "import matplotlib.pyplot as plt\n",
    "\n",
    "alpha = 1.25\n",
    "beta = 0.25\n",
    "x = np.linspace (0, 10, 2000) \n",
    "y1 = stats.gamma.pdf(x, a=alpha, scale=1/beta)\n",
    "plt.plot(x,y1)"
   ]
  }
 ],
 "metadata": {
  "kernelspec": {
   "display_name": "Python 3.9.0 ('bopt')",
   "language": "python",
   "name": "python3"
  },
  "language_info": {
   "codemirror_mode": {
    "name": "ipython",
    "version": 3
   },
   "file_extension": ".py",
   "mimetype": "text/x-python",
   "name": "python",
   "nbconvert_exporter": "python",
   "pygments_lexer": "ipython3",
   "version": "3.9.12"
  },
  "orig_nbformat": 4,
  "vscode": {
   "interpreter": {
    "hash": "d6c7e76b21fbf8268359659a13a1687ca07cc6ddf0d10c2b26cf47d2a8edd420"
   }
  }
 },
 "nbformat": 4,
 "nbformat_minor": 2
}
