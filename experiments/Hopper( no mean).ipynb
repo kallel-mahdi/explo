{
 "cells": [
  {
   "cell_type": "code",
   "execution_count": 3,
   "metadata": {},
   "outputs": [
    {
     "name": "stdout",
     "output_type": "stream",
     "text": [
      "/home/mkallel/explo\n",
      "MathLog.src.helpers : WARNING : MLP dimensions : [11, 3]\n",
      "MLPPPPPPPPP SETUP 36\n",
      "MLP LEEEEEN 36\n",
      " Gibo will use 48 last points to fit GP and 8 info samples\n",
      "fixing seed to  0\n"
     ]
    },
    {
     "name": "stderr",
     "output_type": "stream",
     "text": [
      "/home/mkallel/miniconda3/envs/bopt/lib/python3.9/site-packages/torch/autograd/__init__.py:275: UserWarning: CUDA initialization: Unexpected error from cudaGetDeviceCount(). Did you run some cuda functions before calling NumCudaDevices() that might have already set an error? Error 804: forward compatibility was attempted on non supported HW (Triggered internally at  ../c10/cuda/CUDAFunctions.cpp:112.)\n",
      "  return Variable._execution_engine.run_backward(  # Calls into the C++ engine to run the backward pass\n",
      "/home/mkallel/miniconda3/envs/bopt/lib/python3.9/site-packages/gpytorch/lazy/lazy_tensor.py:1741: UserWarning: torch.triangular_solve is deprecated in favor of torch.linalg.solve_triangularand will be removed in a future PyTorch release.\n",
      "torch.linalg.solve_triangular has its arguments reversed and does not return a copy of one of the inputs.\n",
      "X = torch.triangular_solve(B, A).solution\n",
      "should be replaced with\n",
      "X = torch.linalg.solve_triangular(A, B). (Triggered internally at  ../aten/src/ATen/native/BatchLinearAlgebra.cpp:1672.)\n",
      "  Linv = torch.triangular_solve(Eye, L, upper=False).solution\n",
      "/home/mkallel/explo/src/optimizers/gibo_parallel.py:365: UserWarning: The use of `x.T` on tensors of dimension other than 2 to reverse their shape is deprecated and it will throw an error in a future release. Consider `x.mT` to transpose batches of matricesor `x.permute(*torch.arange(x.ndim - 1, -1, -1))` to reverse the dimensions of a tensor. (Triggered internally at  ../aten/src/ATen/native/TensorShape.cpp:2318.)\n",
      "  a1 = mlp(kernel_states,theta_1).flatten(start_dim=-2).squeeze().T\n"
     ]
    },
    {
     "name": "stdout",
     "output_type": "stream",
     "text": [
      "0.3055555555555556\n",
      "MLL : -20.033702850341797\n",
      "batch_mean 0.038804955780506134 batch_max 0.14682024717330933\n",
      "0.1111111111111111\n",
      "MLL : -6.35628604888916\n",
      "batch_mean 0.03616328537464142 batch_max 0.14682024717330933\n",
      "0.16666666666666666\n",
      "MLL : -5.749007701873779\n",
      "batch_mean 0.03392549231648445 batch_max 0.14682024717330933\n"
     ]
    },
    {
     "name": "stderr",
     "output_type": "stream",
     "text": [
      "/home/mkallel/explo/src/optimizers/helpers.py:75: RuntimeWarning: invalid value encountered in sqrt\n",
      "  D_sqrt = np.diag(np.sqrt(1/eigvals))\n",
      "/home/mkallel/miniconda3/envs/bopt/lib/python3.9/site-packages/cvxpy/problems/problem.py:1337: UserWarning: Solution may be inaccurate. Try another solver, adjusting the solver settings, or solve with verbose=True for more information.\n",
      "  warnings.warn(\n"
     ]
    },
    {
     "name": "stdout",
     "output_type": "stream",
     "text": [
      "0.0\n",
      "MLL : -4.4584527015686035\n",
      "batch_mean 0.03490421548485756 batch_max 0.1618243157863617\n"
     ]
    },
    {
     "name": "stderr",
     "output_type": "stream",
     "text": [
      "/home/mkallel/explo/src/optimizers/helpers.py:75: RuntimeWarning: invalid value encountered in sqrt\n",
      "  D_sqrt = np.diag(np.sqrt(1/eigvals))\n",
      "/home/mkallel/miniconda3/envs/bopt/lib/python3.9/site-packages/cvxpy/problems/problem.py:1337: UserWarning: Solution may be inaccurate. Try another solver, adjusting the solver settings, or solve with verbose=True for more information.\n",
      "  warnings.warn(\n"
     ]
    },
    {
     "name": "stdout",
     "output_type": "stream",
     "text": [
      "0.0\n",
      "MLL : -2.9370458126068115\n",
      "batch_mean 0.04083424434065819 batch_max 0.1618243157863617\n",
      "0.3333333333333333\n",
      "MLL : -2.6127607822418213\n",
      "batch_mean 0.048744164407253265 batch_max 0.16443189978599548\n",
      "0.027777777777777776\n",
      "MLL : -2.4540035724639893\n",
      "batch_mean 0.054757680743932724 batch_max 0.19351553916931152\n",
      "0.027777777777777776\n",
      "MLL : -0.6689580082893372\n",
      "batch_mean 0.06781443953514099 batch_max 0.24928858876228333\n",
      "0.2222222222222222\n",
      "MLL : -0.8067061305046082\n",
      "batch_mean 0.09156002104282379 batch_max 0.3675534427165985\n",
      "0.6388888888888888\n",
      "MLL : -1.2694636583328247\n",
      "batch_mean 0.11734996736049652 batch_max 0.47647932171821594\n"
     ]
    },
    {
     "name": "stderr",
     "output_type": "stream",
     "text": [
      "/home/mkallel/explo/src/optimizers/helpers.py:75: RuntimeWarning: invalid value encountered in sqrt\n",
      "  D_sqrt = np.diag(np.sqrt(1/eigvals))\n",
      "/home/mkallel/miniconda3/envs/bopt/lib/python3.9/site-packages/cvxpy/problems/problem.py:1337: UserWarning: Solution may be inaccurate. Try another solver, adjusting the solver settings, or solve with verbose=True for more information.\n",
      "  warnings.warn(\n"
     ]
    },
    {
     "name": "stdout",
     "output_type": "stream",
     "text": [
      "0.0\n",
      "MLL : -1.3610143661499023\n",
      "batch_mean 0.13057371973991394 batch_max 0.47647932171821594\n",
      "0.6666666666666666\n",
      "MLL : -1.9578735828399658\n",
      "batch_mean 0.14688894152641296 batch_max 0.47647932171821594\n"
     ]
    },
    {
     "name": "stderr",
     "output_type": "stream",
     "text": [
      "/home/mkallel/explo/src/optimizers/helpers.py:75: RuntimeWarning: invalid value encountered in sqrt\n",
      "  D_sqrt = np.diag(np.sqrt(1/eigvals))\n",
      "/home/mkallel/miniconda3/envs/bopt/lib/python3.9/site-packages/cvxpy/problems/problem.py:1337: UserWarning: Solution may be inaccurate. Try another solver, adjusting the solver settings, or solve with verbose=True for more information.\n",
      "  warnings.warn(\n"
     ]
    },
    {
     "name": "stdout",
     "output_type": "stream",
     "text": [
      "0.0\n",
      "MLL : -2.2205448150634766\n",
      "batch_mean 0.16243505477905273 batch_max 0.47647932171821594\n",
      "0.16666666666666666\n",
      "MLL : -5.7387590408325195\n",
      "batch_mean 0.19744454324245453 batch_max 0.9963744282722473\n"
     ]
    },
    {
     "name": "stderr",
     "output_type": "stream",
     "text": [
      "/home/mkallel/explo/src/optimizers/helpers.py:75: RuntimeWarning: invalid value encountered in sqrt\n",
      "  D_sqrt = np.diag(np.sqrt(1/eigvals))\n",
      "/home/mkallel/miniconda3/envs/bopt/lib/python3.9/site-packages/cvxpy/problems/problem.py:1337: UserWarning: Solution may be inaccurate. Try another solver, adjusting the solver settings, or solve with verbose=True for more information.\n",
      "  warnings.warn(\n"
     ]
    },
    {
     "name": "stdout",
     "output_type": "stream",
     "text": [
      "0.0\n",
      "MLL : -24.54928970336914\n",
      "batch_mean 0.25461632013320923 batch_max 1.0123589038848877\n"
     ]
    },
    {
     "name": "stderr",
     "output_type": "stream",
     "text": [
      "/home/mkallel/explo/src/optimizers/helpers.py:75: RuntimeWarning: invalid value encountered in sqrt\n",
      "  D_sqrt = np.diag(np.sqrt(1/eigvals))\n",
      "/home/mkallel/miniconda3/envs/bopt/lib/python3.9/site-packages/cvxpy/problems/problem.py:1337: UserWarning: Solution may be inaccurate. Try another solver, adjusting the solver settings, or solve with verbose=True for more information.\n",
      "  warnings.warn(\n"
     ]
    },
    {
     "name": "stdout",
     "output_type": "stream",
     "text": [
      "0.027777777777777776\n",
      "MLL : -24.724990844726562\n",
      "batch_mean 0.27339598536491394 batch_max 1.0123589038848877\n"
     ]
    },
    {
     "name": "stderr",
     "output_type": "stream",
     "text": [
      "/home/mkallel/explo/src/optimizers/helpers.py:75: RuntimeWarning: invalid value encountered in sqrt\n",
      "  D_sqrt = np.diag(np.sqrt(1/eigvals))\n",
      "/home/mkallel/miniconda3/envs/bopt/lib/python3.9/site-packages/cvxpy/problems/problem.py:1337: UserWarning: Solution may be inaccurate. Try another solver, adjusting the solver settings, or solve with verbose=True for more information.\n",
      "  warnings.warn(\n"
     ]
    },
    {
     "name": "stdout",
     "output_type": "stream",
     "text": [
      "0.027777777777777776\n",
      "MLL : -22.04145622253418\n",
      "batch_mean 0.31893688440322876 batch_max 1.0123589038848877\n"
     ]
    },
    {
     "name": "stderr",
     "output_type": "stream",
     "text": [
      "/home/mkallel/explo/src/optimizers/helpers.py:75: RuntimeWarning: invalid value encountered in sqrt\n",
      "  D_sqrt = np.diag(np.sqrt(1/eigvals))\n",
      "/home/mkallel/miniconda3/envs/bopt/lib/python3.9/site-packages/cvxpy/problems/problem.py:1337: UserWarning: Solution may be inaccurate. Try another solver, adjusting the solver settings, or solve with verbose=True for more information.\n",
      "  warnings.warn(\n"
     ]
    },
    {
     "name": "stdout",
     "output_type": "stream",
     "text": [
      "0.0\n",
      "MLL : -23.572031021118164\n",
      "batch_mean 0.34060731530189514 batch_max 1.0123589038848877\n"
     ]
    },
    {
     "name": "stderr",
     "output_type": "stream",
     "text": [
      "/home/mkallel/explo/src/optimizers/helpers.py:75: RuntimeWarning: invalid value encountered in sqrt\n",
      "  D_sqrt = np.diag(np.sqrt(1/eigvals))\n",
      "/home/mkallel/miniconda3/envs/bopt/lib/python3.9/site-packages/cvxpy/problems/problem.py:1337: UserWarning: Solution may be inaccurate. Try another solver, adjusting the solver settings, or solve with verbose=True for more information.\n",
      "  warnings.warn(\n"
     ]
    },
    {
     "name": "stdout",
     "output_type": "stream",
     "text": [
      "0.0\n",
      "MLL : -20.211854934692383\n",
      "batch_mean 0.37809401750564575 batch_max 1.0123589038848877\n"
     ]
    },
    {
     "name": "stderr",
     "output_type": "stream",
     "text": [
      "/home/mkallel/explo/src/optimizers/helpers.py:75: RuntimeWarning: invalid value encountered in sqrt\n",
      "  D_sqrt = np.diag(np.sqrt(1/eigvals))\n",
      "/home/mkallel/miniconda3/envs/bopt/lib/python3.9/site-packages/cvxpy/problems/problem.py:1337: UserWarning: Solution may be inaccurate. Try another solver, adjusting the solver settings, or solve with verbose=True for more information.\n",
      "  warnings.warn(\n"
     ]
    },
    {
     "name": "stdout",
     "output_type": "stream",
     "text": [
      "0.0\n",
      "MLL : -17.294034957885742\n",
      "batch_mean 0.3796079754829407 batch_max 1.0123589038848877\n"
     ]
    },
    {
     "name": "stderr",
     "output_type": "stream",
     "text": [
      "/home/mkallel/explo/src/optimizers/helpers.py:75: RuntimeWarning: invalid value encountered in sqrt\n",
      "  D_sqrt = np.diag(np.sqrt(1/eigvals))\n",
      "/home/mkallel/miniconda3/envs/bopt/lib/python3.9/site-packages/cvxpy/problems/problem.py:1337: UserWarning: Solution may be inaccurate. Try another solver, adjusting the solver settings, or solve with verbose=True for more information.\n",
      "  warnings.warn(\n"
     ]
    },
    {
     "name": "stdout",
     "output_type": "stream",
     "text": [
      "0.0\n",
      "MLL : -14.912936210632324\n",
      "batch_mean 0.3607420325279236 batch_max 1.0123589038848877\n"
     ]
    },
    {
     "name": "stderr",
     "output_type": "stream",
     "text": [
      "/home/mkallel/explo/src/optimizers/helpers.py:75: RuntimeWarning: invalid value encountered in sqrt\n",
      "  D_sqrt = np.diag(np.sqrt(1/eigvals))\n",
      "/home/mkallel/miniconda3/envs/bopt/lib/python3.9/site-packages/cvxpy/problems/problem.py:1337: UserWarning: Solution may be inaccurate. Try another solver, adjusting the solver settings, or solve with verbose=True for more information.\n",
      "  warnings.warn(\n"
     ]
    },
    {
     "name": "stdout",
     "output_type": "stream",
     "text": [
      "0.0\n",
      "MLL : -13.901254653930664\n",
      "batch_mean 0.33859172463417053 batch_max 1.0136784315109253\n"
     ]
    },
    {
     "name": "stderr",
     "output_type": "stream",
     "text": [
      "/home/mkallel/explo/src/optimizers/helpers.py:75: RuntimeWarning: invalid value encountered in sqrt\n",
      "  D_sqrt = np.diag(np.sqrt(1/eigvals))\n",
      "/home/mkallel/miniconda3/envs/bopt/lib/python3.9/site-packages/cvxpy/problems/problem.py:1337: UserWarning: Solution may be inaccurate. Try another solver, adjusting the solver settings, or solve with verbose=True for more information.\n",
      "  warnings.warn(\n"
     ]
    },
    {
     "name": "stdout",
     "output_type": "stream",
     "text": [
      "0.0\n",
      "MLL : -12.03443431854248\n",
      "batch_mean 0.33264678716659546 batch_max 1.0136784315109253\n"
     ]
    },
    {
     "name": "stderr",
     "output_type": "stream",
     "text": [
      "/home/mkallel/explo/src/optimizers/helpers.py:75: RuntimeWarning: invalid value encountered in sqrt\n",
      "  D_sqrt = np.diag(np.sqrt(1/eigvals))\n",
      "/home/mkallel/miniconda3/envs/bopt/lib/python3.9/site-packages/cvxpy/problems/problem.py:1337: UserWarning: Solution may be inaccurate. Try another solver, adjusting the solver settings, or solve with verbose=True for more information.\n",
      "  warnings.warn(\n"
     ]
    },
    {
     "name": "stdout",
     "output_type": "stream",
     "text": [
      "0.0\n",
      "MLL : -11.110578536987305\n",
      "batch_mean 0.3574621081352234 batch_max 1.0136784315109253\n"
     ]
    },
    {
     "name": "stderr",
     "output_type": "stream",
     "text": [
      "/home/mkallel/explo/src/optimizers/helpers.py:75: RuntimeWarning: invalid value encountered in sqrt\n",
      "  D_sqrt = np.diag(np.sqrt(1/eigvals))\n",
      "/home/mkallel/miniconda3/envs/bopt/lib/python3.9/site-packages/cvxpy/problems/problem.py:1337: UserWarning: Solution may be inaccurate. Try another solver, adjusting the solver settings, or solve with verbose=True for more information.\n",
      "  warnings.warn(\n"
     ]
    },
    {
     "name": "stdout",
     "output_type": "stream",
     "text": [
      "0.0\n",
      "MLL : -13.034607887268066\n",
      "batch_mean 0.3628791272640228 batch_max 1.0213245153427124\n"
     ]
    },
    {
     "name": "stderr",
     "output_type": "stream",
     "text": [
      "/home/mkallel/explo/src/optimizers/helpers.py:75: RuntimeWarning: invalid value encountered in sqrt\n",
      "  D_sqrt = np.diag(np.sqrt(1/eigvals))\n",
      "/home/mkallel/miniconda3/envs/bopt/lib/python3.9/site-packages/cvxpy/problems/problem.py:1337: UserWarning: Solution may be inaccurate. Try another solver, adjusting the solver settings, or solve with verbose=True for more information.\n",
      "  warnings.warn(\n"
     ]
    },
    {
     "name": "stdout",
     "output_type": "stream",
     "text": [
      "0.0\n",
      "MLL : -14.203587532043457\n",
      "batch_mean 0.3708271384239197 batch_max 1.0213245153427124\n"
     ]
    },
    {
     "name": "stderr",
     "output_type": "stream",
     "text": [
      "/home/mkallel/explo/src/optimizers/helpers.py:75: RuntimeWarning: invalid value encountered in sqrt\n",
      "  D_sqrt = np.diag(np.sqrt(1/eigvals))\n",
      "/home/mkallel/miniconda3/envs/bopt/lib/python3.9/site-packages/cvxpy/problems/problem.py:1337: UserWarning: Solution may be inaccurate. Try another solver, adjusting the solver settings, or solve with verbose=True for more information.\n",
      "  warnings.warn(\n"
     ]
    },
    {
     "name": "stdout",
     "output_type": "stream",
     "text": [
      "0.0\n",
      "MLL : -20.793779373168945\n",
      "batch_mean 0.412113755941391 batch_max 1.0213245153427124\n"
     ]
    },
    {
     "name": "stderr",
     "output_type": "stream",
     "text": [
      "/home/mkallel/explo/src/optimizers/helpers.py:75: RuntimeWarning: invalid value encountered in sqrt\n",
      "  D_sqrt = np.diag(np.sqrt(1/eigvals))\n",
      "/home/mkallel/miniconda3/envs/bopt/lib/python3.9/site-packages/cvxpy/problems/problem.py:1337: UserWarning: Solution may be inaccurate. Try another solver, adjusting the solver settings, or solve with verbose=True for more information.\n",
      "  warnings.warn(\n"
     ]
    },
    {
     "name": "stdout",
     "output_type": "stream",
     "text": [
      "0.0\n",
      "MLL : -18.434926986694336\n",
      "batch_mean 0.4353765845298767 batch_max 1.0213245153427124\n"
     ]
    },
    {
     "name": "stderr",
     "output_type": "stream",
     "text": [
      "/home/mkallel/explo/src/optimizers/helpers.py:75: RuntimeWarning: invalid value encountered in sqrt\n",
      "  D_sqrt = np.diag(np.sqrt(1/eigvals))\n",
      "/home/mkallel/miniconda3/envs/bopt/lib/python3.9/site-packages/cvxpy/problems/problem.py:1337: UserWarning: Solution may be inaccurate. Try another solver, adjusting the solver settings, or solve with verbose=True for more information.\n",
      "  warnings.warn(\n"
     ]
    },
    {
     "name": "stdout",
     "output_type": "stream",
     "text": [
      "0.027777777777777776\n",
      "MLL : -20.865259170532227\n",
      "batch_mean 0.43950751423835754 batch_max 1.0213245153427124\n"
     ]
    },
    {
     "name": "stderr",
     "output_type": "stream",
     "text": [
      "/home/mkallel/explo/src/optimizers/helpers.py:75: RuntimeWarning: invalid value encountered in sqrt\n",
      "  D_sqrt = np.diag(np.sqrt(1/eigvals))\n",
      "/home/mkallel/miniconda3/envs/bopt/lib/python3.9/site-packages/cvxpy/problems/problem.py:1337: UserWarning: Solution may be inaccurate. Try another solver, adjusting the solver settings, or solve with verbose=True for more information.\n",
      "  warnings.warn(\n"
     ]
    },
    {
     "name": "stdout",
     "output_type": "stream",
     "text": [
      "0.05555555555555555\n",
      "MLL : -24.42955207824707\n",
      "batch_mean 0.4237610697746277 batch_max 1.0213245153427124\n"
     ]
    },
    {
     "name": "stderr",
     "output_type": "stream",
     "text": [
      "/home/mkallel/explo/src/optimizers/helpers.py:75: RuntimeWarning: invalid value encountered in sqrt\n",
      "  D_sqrt = np.diag(np.sqrt(1/eigvals))\n",
      "/home/mkallel/miniconda3/envs/bopt/lib/python3.9/site-packages/cvxpy/problems/problem.py:1337: UserWarning: Solution may be inaccurate. Try another solver, adjusting the solver settings, or solve with verbose=True for more information.\n",
      "  warnings.warn(\n"
     ]
    },
    {
     "name": "stdout",
     "output_type": "stream",
     "text": [
      "0.0\n",
      "MLL : -24.92202377319336\n",
      "batch_mean 0.42426079511642456 batch_max 1.0130175352096558\n"
     ]
    },
    {
     "name": "stderr",
     "output_type": "stream",
     "text": [
      "/home/mkallel/explo/src/optimizers/helpers.py:75: RuntimeWarning: invalid value encountered in sqrt\n",
      "  D_sqrt = np.diag(np.sqrt(1/eigvals))\n",
      "/home/mkallel/miniconda3/envs/bopt/lib/python3.9/site-packages/cvxpy/problems/problem.py:1337: UserWarning: Solution may be inaccurate. Try another solver, adjusting the solver settings, or solve with verbose=True for more information.\n",
      "  warnings.warn(\n"
     ]
    },
    {
     "name": "stdout",
     "output_type": "stream",
     "text": [
      "0.05555555555555555\n",
      "MLL : -24.781423568725586\n",
      "batch_mean 0.4788448214530945 batch_max 1.0130175352096558\n"
     ]
    },
    {
     "name": "stderr",
     "output_type": "stream",
     "text": [
      "/home/mkallel/explo/src/optimizers/helpers.py:75: RuntimeWarning: invalid value encountered in sqrt\n",
      "  D_sqrt = np.diag(np.sqrt(1/eigvals))\n",
      "/home/mkallel/miniconda3/envs/bopt/lib/python3.9/site-packages/cvxpy/problems/problem.py:1337: UserWarning: Solution may be inaccurate. Try another solver, adjusting the solver settings, or solve with verbose=True for more information.\n",
      "  warnings.warn(\n"
     ]
    },
    {
     "name": "stdout",
     "output_type": "stream",
     "text": [
      "0.0\n",
      "MLL : -24.142663955688477\n",
      "batch_mean 0.4782279431819916 batch_max 1.0141477584838867\n"
     ]
    },
    {
     "name": "stderr",
     "output_type": "stream",
     "text": [
      "/home/mkallel/explo/src/optimizers/helpers.py:75: RuntimeWarning: invalid value encountered in sqrt\n",
      "  D_sqrt = np.diag(np.sqrt(1/eigvals))\n",
      "/home/mkallel/miniconda3/envs/bopt/lib/python3.9/site-packages/cvxpy/problems/problem.py:1337: UserWarning: Solution may be inaccurate. Try another solver, adjusting the solver settings, or solve with verbose=True for more information.\n",
      "  warnings.warn(\n"
     ]
    },
    {
     "name": "stdout",
     "output_type": "stream",
     "text": [
      "0.027777777777777776\n",
      "MLL : -25.771930694580078\n",
      "batch_mean 0.5106059312820435 batch_max 1.0141477584838867\n"
     ]
    },
    {
     "name": "stderr",
     "output_type": "stream",
     "text": [
      "/home/mkallel/explo/src/optimizers/helpers.py:75: RuntimeWarning: invalid value encountered in sqrt\n",
      "  D_sqrt = np.diag(np.sqrt(1/eigvals))\n",
      "/home/mkallel/miniconda3/envs/bopt/lib/python3.9/site-packages/cvxpy/problems/problem.py:1337: UserWarning: Solution may be inaccurate. Try another solver, adjusting the solver settings, or solve with verbose=True for more information.\n",
      "  warnings.warn(\n"
     ]
    },
    {
     "name": "stdout",
     "output_type": "stream",
     "text": [
      "0.0\n",
      "MLL : -24.80399513244629\n",
      "batch_mean 0.5317208170890808 batch_max 1.0141477584838867\n"
     ]
    },
    {
     "name": "stderr",
     "output_type": "stream",
     "text": [
      "/home/mkallel/explo/src/optimizers/helpers.py:75: RuntimeWarning: invalid value encountered in sqrt\n",
      "  D_sqrt = np.diag(np.sqrt(1/eigvals))\n",
      "/home/mkallel/miniconda3/envs/bopt/lib/python3.9/site-packages/cvxpy/problems/problem.py:1337: UserWarning: Solution may be inaccurate. Try another solver, adjusting the solver settings, or solve with verbose=True for more information.\n",
      "  warnings.warn(\n"
     ]
    },
    {
     "name": "stdout",
     "output_type": "stream",
     "text": [
      "0.027777777777777776\n",
      "MLL : -24.048099517822266\n",
      "batch_mean 0.5632786750793457 batch_max 1.0141477584838867\n"
     ]
    },
    {
     "name": "stderr",
     "output_type": "stream",
     "text": [
      "/home/mkallel/explo/src/optimizers/helpers.py:75: RuntimeWarning: invalid value encountered in sqrt\n",
      "  D_sqrt = np.diag(np.sqrt(1/eigvals))\n",
      "/home/mkallel/miniconda3/envs/bopt/lib/python3.9/site-packages/cvxpy/problems/problem.py:1337: UserWarning: Solution may be inaccurate. Try another solver, adjusting the solver settings, or solve with verbose=True for more information.\n",
      "  warnings.warn(\n"
     ]
    },
    {
     "name": "stdout",
     "output_type": "stream",
     "text": [
      "0.0\n",
      "MLL : -24.17584800720215\n",
      "batch_mean 0.5650767683982849 batch_max 1.0141477584838867\n"
     ]
    },
    {
     "name": "stderr",
     "output_type": "stream",
     "text": [
      "/home/mkallel/explo/src/optimizers/helpers.py:75: RuntimeWarning: invalid value encountered in sqrt\n",
      "  D_sqrt = np.diag(np.sqrt(1/eigvals))\n",
      "/home/mkallel/miniconda3/envs/bopt/lib/python3.9/site-packages/cvxpy/problems/problem.py:1337: UserWarning: Solution may be inaccurate. Try another solver, adjusting the solver settings, or solve with verbose=True for more information.\n",
      "  warnings.warn(\n"
     ]
    },
    {
     "name": "stdout",
     "output_type": "stream",
     "text": [
      "0.0\n",
      "MLL : -25.8468074798584\n",
      "batch_mean 0.5408907532691956 batch_max 1.0141477584838867\n"
     ]
    },
    {
     "name": "stderr",
     "output_type": "stream",
     "text": [
      "/home/mkallel/explo/src/optimizers/helpers.py:75: RuntimeWarning: invalid value encountered in sqrt\n",
      "  D_sqrt = np.diag(np.sqrt(1/eigvals))\n",
      "/home/mkallel/miniconda3/envs/bopt/lib/python3.9/site-packages/cvxpy/problems/problem.py:1337: UserWarning: Solution may be inaccurate. Try another solver, adjusting the solver settings, or solve with verbose=True for more information.\n",
      "  warnings.warn(\n"
     ]
    },
    {
     "name": "stdout",
     "output_type": "stream",
     "text": [
      "0.0\n",
      "MLL : -23.624675750732422\n",
      "batch_mean 0.5953489542007446 batch_max 1.0093796253204346\n"
     ]
    },
    {
     "name": "stderr",
     "output_type": "stream",
     "text": [
      "/home/mkallel/explo/src/optimizers/helpers.py:75: RuntimeWarning: invalid value encountered in sqrt\n",
      "  D_sqrt = np.diag(np.sqrt(1/eigvals))\n",
      "/home/mkallel/miniconda3/envs/bopt/lib/python3.9/site-packages/cvxpy/problems/problem.py:1337: UserWarning: Solution may be inaccurate. Try another solver, adjusting the solver settings, or solve with verbose=True for more information.\n",
      "  warnings.warn(\n"
     ]
    },
    {
     "name": "stdout",
     "output_type": "stream",
     "text": [
      "0.0\n",
      "MLL : -23.590181350708008\n",
      "batch_mean 0.6398415565490723 batch_max 1.0093796253204346\n"
     ]
    },
    {
     "name": "stderr",
     "output_type": "stream",
     "text": [
      "/home/mkallel/explo/src/optimizers/helpers.py:75: RuntimeWarning: invalid value encountered in sqrt\n",
      "  D_sqrt = np.diag(np.sqrt(1/eigvals))\n",
      "/home/mkallel/miniconda3/envs/bopt/lib/python3.9/site-packages/cvxpy/problems/problem.py:1337: UserWarning: Solution may be inaccurate. Try another solver, adjusting the solver settings, or solve with verbose=True for more information.\n",
      "  warnings.warn(\n"
     ]
    },
    {
     "name": "stdout",
     "output_type": "stream",
     "text": [
      "0.0\n",
      "MLL : -23.815153121948242\n",
      "batch_mean 0.6401776671409607 batch_max 1.010019302368164\n"
     ]
    },
    {
     "name": "stderr",
     "output_type": "stream",
     "text": [
      "/home/mkallel/explo/src/optimizers/helpers.py:75: RuntimeWarning: invalid value encountered in sqrt\n",
      "  D_sqrt = np.diag(np.sqrt(1/eigvals))\n",
      "/home/mkallel/miniconda3/envs/bopt/lib/python3.9/site-packages/cvxpy/problems/problem.py:1337: UserWarning: Solution may be inaccurate. Try another solver, adjusting the solver settings, or solve with verbose=True for more information.\n",
      "  warnings.warn(\n"
     ]
    },
    {
     "name": "stdout",
     "output_type": "stream",
     "text": [
      "0.0\n",
      "MLL : -23.641525268554688\n",
      "batch_mean 0.7022154927253723 batch_max 1.010019302368164\n"
     ]
    },
    {
     "name": "stderr",
     "output_type": "stream",
     "text": [
      "/home/mkallel/explo/src/optimizers/helpers.py:75: RuntimeWarning: invalid value encountered in sqrt\n",
      "  D_sqrt = np.diag(np.sqrt(1/eigvals))\n",
      "/home/mkallel/miniconda3/envs/bopt/lib/python3.9/site-packages/cvxpy/problems/problem.py:1337: UserWarning: Solution may be inaccurate. Try another solver, adjusting the solver settings, or solve with verbose=True for more information.\n",
      "  warnings.warn(\n"
     ]
    },
    {
     "name": "stdout",
     "output_type": "stream",
     "text": [
      "0.0\n",
      "MLL : -24.282861709594727\n",
      "batch_mean 0.7340815663337708 batch_max 1.0153437852859497\n"
     ]
    },
    {
     "name": "stderr",
     "output_type": "stream",
     "text": [
      "/home/mkallel/explo/src/optimizers/helpers.py:75: RuntimeWarning: invalid value encountered in sqrt\n",
      "  D_sqrt = np.diag(np.sqrt(1/eigvals))\n",
      "/home/mkallel/miniconda3/envs/bopt/lib/python3.9/site-packages/cvxpy/problems/problem.py:1337: UserWarning: Solution may be inaccurate. Try another solver, adjusting the solver settings, or solve with verbose=True for more information.\n",
      "  warnings.warn(\n"
     ]
    },
    {
     "name": "stdout",
     "output_type": "stream",
     "text": [
      "0.0\n",
      "MLL : -25.358057022094727\n",
      "batch_mean 0.7664654850959778 batch_max 1.0153437852859497\n"
     ]
    },
    {
     "name": "stderr",
     "output_type": "stream",
     "text": [
      "/home/mkallel/explo/src/optimizers/helpers.py:75: RuntimeWarning: invalid value encountered in sqrt\n",
      "  D_sqrt = np.diag(np.sqrt(1/eigvals))\n",
      "/home/mkallel/miniconda3/envs/bopt/lib/python3.9/site-packages/cvxpy/problems/problem.py:1337: UserWarning: Solution may be inaccurate. Try another solver, adjusting the solver settings, or solve with verbose=True for more information.\n",
      "  warnings.warn(\n"
     ]
    },
    {
     "name": "stdout",
     "output_type": "stream",
     "text": [
      "0.05555555555555555\n",
      "MLL : -24.445322036743164\n",
      "batch_mean 0.8110374808311462 batch_max 1.0153437852859497\n"
     ]
    },
    {
     "name": "stderr",
     "output_type": "stream",
     "text": [
      "/home/mkallel/explo/src/optimizers/helpers.py:75: RuntimeWarning: invalid value encountered in sqrt\n",
      "  D_sqrt = np.diag(np.sqrt(1/eigvals))\n",
      "/home/mkallel/miniconda3/envs/bopt/lib/python3.9/site-packages/cvxpy/problems/problem.py:1337: UserWarning: Solution may be inaccurate. Try another solver, adjusting the solver settings, or solve with verbose=True for more information.\n",
      "  warnings.warn(\n"
     ]
    },
    {
     "name": "stdout",
     "output_type": "stream",
     "text": [
      "0.0\n",
      "MLL : -25.144718170166016\n",
      "batch_mean 0.8108288645744324 batch_max 1.0153437852859497\n"
     ]
    },
    {
     "name": "stderr",
     "output_type": "stream",
     "text": [
      "/home/mkallel/explo/src/optimizers/helpers.py:75: RuntimeWarning: invalid value encountered in sqrt\n",
      "  D_sqrt = np.diag(np.sqrt(1/eigvals))\n",
      "/home/mkallel/miniconda3/envs/bopt/lib/python3.9/site-packages/cvxpy/problems/problem.py:1337: UserWarning: Solution may be inaccurate. Try another solver, adjusting the solver settings, or solve with verbose=True for more information.\n",
      "  warnings.warn(\n"
     ]
    },
    {
     "name": "stdout",
     "output_type": "stream",
     "text": [
      "0.0\n",
      "MLL : -23.793258666992188\n",
      "batch_mean 0.8401827812194824 batch_max 1.0153437852859497\n"
     ]
    },
    {
     "name": "stderr",
     "output_type": "stream",
     "text": [
      "/home/mkallel/explo/src/optimizers/helpers.py:75: RuntimeWarning: invalid value encountered in sqrt\n",
      "  D_sqrt = np.diag(np.sqrt(1/eigvals))\n",
      "/home/mkallel/miniconda3/envs/bopt/lib/python3.9/site-packages/cvxpy/problems/problem.py:1337: UserWarning: Solution may be inaccurate. Try another solver, adjusting the solver settings, or solve with verbose=True for more information.\n",
      "  warnings.warn(\n"
     ]
    },
    {
     "name": "stdout",
     "output_type": "stream",
     "text": [
      "0.0\n",
      "MLL : -25.060277938842773\n",
      "batch_mean 0.8203954100608826 batch_max 1.0153437852859497\n"
     ]
    },
    {
     "name": "stderr",
     "output_type": "stream",
     "text": [
      "/home/mkallel/explo/src/optimizers/helpers.py:75: RuntimeWarning: invalid value encountered in sqrt\n",
      "  D_sqrt = np.diag(np.sqrt(1/eigvals))\n",
      "/home/mkallel/miniconda3/envs/bopt/lib/python3.9/site-packages/cvxpy/problems/problem.py:1337: UserWarning: Solution may be inaccurate. Try another solver, adjusting the solver settings, or solve with verbose=True for more information.\n",
      "  warnings.warn(\n"
     ]
    },
    {
     "name": "stdout",
     "output_type": "stream",
     "text": [
      "0.0\n",
      "MLL : -25.37638282775879\n",
      "batch_mean 0.7836249470710754 batch_max 1.015027403831482\n"
     ]
    },
    {
     "name": "stderr",
     "output_type": "stream",
     "text": [
      "/home/mkallel/explo/src/optimizers/helpers.py:75: RuntimeWarning: invalid value encountered in sqrt\n",
      "  D_sqrt = np.diag(np.sqrt(1/eigvals))\n",
      "/home/mkallel/miniconda3/envs/bopt/lib/python3.9/site-packages/cvxpy/problems/problem.py:1337: UserWarning: Solution may be inaccurate. Try another solver, adjusting the solver settings, or solve with verbose=True for more information.\n",
      "  warnings.warn(\n"
     ]
    },
    {
     "name": "stdout",
     "output_type": "stream",
     "text": [
      "0.0\n",
      "MLL : -25.36324119567871\n",
      "batch_mean 0.7810555100440979 batch_max 1.0092666149139404\n"
     ]
    }
   ],
   "source": [
    "%cd /home/mkallel/explo/\n",
    "\n",
    "import logging\n",
    "import logging.config\n",
    "import os\n",
    "from multiprocessing import Pool\n",
    "from warnings import simplefilter\n",
    "\n",
    "import gpytorch\n",
    "import numpy as np\n",
    "import torch\n",
    "import threading\n",
    "import wandb\n",
    "from src.config import get_configs\n",
    "from src.helpers import setup_experiment\n",
    "from src.trainer import Trainer\n",
    "import itertools\n",
    "\n",
    "\n",
    "logging.config.fileConfig('logging.conf')\n",
    "# create root logger\n",
    "logger = logging.getLogger()\n",
    "\n",
    "simplefilter(action='ignore', category=DeprecationWarning)\n",
    "#os.environ[\"WANDB_API_KEY\"]=\"28996bd59f1ba2c5a8c3f2cc23d8673c327ae230\"\n",
    "os.environ[\"WANDB_API_KEY\"]=\"baf5048ab2de89a0b2cea751b1b28ff2bfa4c782\"\n",
    "\n",
    "def run(seed,\n",
    "        env_name,\n",
    "        kernel_name,\n",
    "        manipulate_state,\n",
    "        norm_grad,\n",
    "        conf_grad,\n",
    "        advantage_mean,\n",
    "        adaptive_lr,\n",
    "        lr ):\n",
    "\n",
    "        #env_name = \"CartPole-v1\" ## Action kernel + State_norm looks very well for cartpole\n",
    "        #env_name = \"Swimmer-v4\" ##  State_norm stabilizes training \n",
    "        #env_name = \"Hopper-v2\"\n",
    "        #env_name = \"HalfCheetah-v2\"        \n",
    "        #env_name = \"Walker2d-v3\"\n",
    "\n",
    "        project_name = env_name+(\"RBFSTATE + CONF\")\n",
    "        run_name =  kernel_name+\"_lr=\"+str(lr) +\"_\"+str(1 *manipulate_state)+ str(1 *norm_grad) + str(1 *conf_grad) + str(1 *advantage_mean)+str(1 *adaptive_lr) +\"_\"+ str(seed)\n",
    "        env_config,policy_config,likelihood_config,kernel_config,mean_config,optimizer_config,trainer_config = get_configs(env_name,kernel_name,\n",
    "        use_ard=True,manipulate_state=manipulate_state,\n",
    "        conf_grad=conf_grad,norm_grad=norm_grad,advantage_mean=advantage_mean,adaptive_lr=adaptive_lr,lr=lr,\n",
    "        wandb_logger=False,project_name=project_name,run_name=run_name)\n",
    "\n",
    "        trainer_config[\"n_steps\"]=500\n",
    "\n",
    "        model,objective_env,optimizer = setup_experiment(env_config,mean_config,kernel_config,likelihood_config,policy_config,optimizer_config,\n",
    "                                        seed=seed)\n",
    "\n",
    "        trainer = Trainer(model,objective_env,optimizer,**trainer_config)\n",
    "        trainer.run()\n",
    "\n",
    "        return model,objective_env,optimizer\n",
    "\n",
    "\n",
    "\n",
    "if __name__ == '__main__':\n",
    "\n",
    "        \n",
    "        wandb.require(\"service\")\n",
    "        wandb.setup()  \n",
    "\n",
    "        env_name = [\"Hopper-v2\"]\n",
    "        #env_name = [\"CartPole-v1\"]\n",
    "        kernel_name = [\"rbfstate\"]\n",
    "        manipulate_state = [False]\n",
    "        norm_grad = [True]\n",
    "        conf_grad = [True] ##run this for rbf\n",
    "        advantage_mean = [False]\n",
    "        adaptive_lr = [False]\n",
    "        learning_rate = 0.1 if kernel_name == [\"rbfstate\"] else 0.5\n",
    "        lr = [learning_rate]\n",
    "\n",
    "        for config in itertools.product(*[env_name,kernel_name,manipulate_state,norm_grad,conf_grad,advantage_mean,adaptive_lr,lr]):\n",
    "\n",
    "        \n",
    "                model,objective_env,optimizer = run(*(0,*config))\n",
    "\n"
   ]
  },
  {
   "cell_type": "code",
   "execution_count": 4,
   "metadata": {},
   "outputs": [],
   "source": [
    "# PATH = \"/home/mkallel/explo/models/Swimmer\"\n",
    "# dict = model.state_dict()\n",
    "# dict.update({\n",
    "#     \"optimizer\":optimizer,\n",
    "#     #\"objective_env\":objective_env,\n",
    "#     })\n",
    "# torch.save(dict,PATH)"
   ]
  },
  {
   "cell_type": "code",
   "execution_count": 5,
   "metadata": {},
   "outputs": [
    {
     "name": "stdout",
     "output_type": "stream",
     "text": [
      "Generating data\n",
      "Done generating data\n",
      "matplotlib.legend : WARNING : No artists with labels found to put in legend.  Note that artists whose label start with an underscore are ignored when legend() is called with no argument.\n",
      "matplotlib.legend : WARNING : No artists with labels found to put in legend.  Note that artists whose label start with an underscore are ignored when legend() is called with no argument.\n",
      "matplotlib.legend : WARNING : No artists with labels found to put in legend.  Note that artists whose label start with an underscore are ignored when legend() is called with no argument.\n",
      "matplotlib.legend : WARNING : No artists with labels found to put in legend.  Note that artists whose label start with an underscore are ignored when legend() is called with no argument.\n"
     ]
    },
    {
     "data": {
      "image/png": "[encoded data removed]",
      "text/plain": [
       "<Figure size 1080x864 with 12 Axes>"
      ]
     },
     "metadata": {
      "needs_background": "light"
     },
     "output_type": "display_data"
    }
   ],
   "source": [
    "import pickle\n",
    "import random\n",
    "\n",
    "import botorch\n",
    "import gpytorch\n",
    "import matplotlib.pyplot as plt\n",
    "import torch\n",
    "from botorch.fit import fit_gpytorch_model\n",
    "from gpytorch.mlls import ExactMarginalLogLikelihood\n",
    "from sklearn.metrics import mean_absolute_error as mae\n",
    "from sklearn.metrics import mean_squared_error as mse\n",
    "from sklearn.model_selection import train_test_split\n",
    "\n",
    "\n",
    "##fix random seed\n",
    "random.seed(0)\n",
    "torch.manual_seed(0)\n",
    "\n",
    "class Tester:\n",
    "    \n",
    "    def __init__(self,model,objective_env,local_opt,\n",
    "                 delta=0.1,n_test=100,n_episodes_test=2,\n",
    "                 ):\n",
    "        \n",
    "        \n",
    "        self.__dict__.update(locals())\n",
    "        \n",
    "        \n",
    "        \n",
    "\n",
    "       \n",
    "    def generate_data(self,n_test,n_episodes_test):\n",
    "        \n",
    "        objective_env,delta= self.objective_env,self.delta\n",
    "        \n",
    "        \n",
    "        print(f'Generating data')\n",
    "        \n",
    "        \n",
    "        bounds = torch.tensor([[-delta], [delta]]) + self.local_opt\n",
    "        U = torch.distributions.Uniform(bounds[0],bounds[1])\n",
    "        test_x = U.sample(sample_shape=[n_test])\n",
    "        test_y = [objective_env(x.reshape(1,-1),n_episodes_test)[0] for x in test_x] ## run test points multiple times to get real value\n",
    "\n",
    "        print(f'Done generating data')\n",
    "\n",
    "        return test_x,torch.tensor(test_y)\n",
    "        \n",
    "    \n",
    "  \n",
    "  \n",
    "    def plot(self,x,y,y_hat,local_x,title,\n",
    "             subfigure=None):\n",
    "    \n",
    "        \n",
    "        ### arrange points by l2 distance to optimum\n",
    "        dist = torch.linalg.norm(x-local_x,dim=1)\n",
    "        idx = torch.argsort(dist)\n",
    " \n",
    "        y = y[idx]\n",
    "        y_hat = y_hat[idx]\n",
    "        x_plot = range(len(y))\n",
    "        \n",
    "        if subfigure is None:\n",
    "            fig,axs = plt.subplots(3,figsize=(5,12))\n",
    "\n",
    "        else :\n",
    "            axs = subfigure.subplots(3)\n",
    "            \n",
    "        axs[0].scatter(x_plot,y,label=\"y\",color=\"red\")\n",
    "        axs[0].errorbar(x_plot,y_hat,label=\"y_hat\",fmt=\"x\")\n",
    "        axs[0].title.set_text(f' Predictions vs targets \\n MAE: {mae(y,y_hat)} \\n RMSE :{mse(y,y_hat,squared=False)}')\n",
    "        axs[0].set_xlabel(\"rank (in terms of distance to optimum)\")\n",
    "        axs[0].set_ylabel(\"prediction\")\n",
    "        \n",
    "        axs[0].legend()\n",
    "        \n",
    "        idx2 = torch.argsort(y)\n",
    "        axs[1].scatter(y[idx2],y_hat[idx2],label=\"error\")\n",
    "        axs[1].plot(y[idx2],y[idx2],color=\"red\")\n",
    "        axs[1].title.set_text(\"Error as a function of the target\")\n",
    "        axs[1].set_xlabel(\"y\")\n",
    "        axs[1].set_xlabel(\"y_hat\")\n",
    "        \n",
    "        error = torch.abs(y[idx]-y_hat[idx])\n",
    "        axs[2].scatter(dist[idx],torch.cumsum(error,dim=0))\n",
    "        axs[2].set_title(\"Cummulative error as a function of L2 distance to optimum\")\n",
    "        axs[2].set_xlabel(\"||x - x_opt||\")\n",
    "        axs[2].set_xlabel(\"Cummulative error\")\n",
    "        \n",
    "        plt.legend()\n",
    "        \n",
    "        \n",
    "    \n",
    "    def get_mll(self,model,x,y):\n",
    "        \n",
    "        mll = gpytorch.mlls.ExactMarginalLogLikelihood(model.likelihood, model)\n",
    "        output = model(x)\n",
    "        marginal_likelihood = mll(output,y)\n",
    "        \n",
    "        return marginal_likelihood.item()\n",
    "        \n",
    "    def predict(self,model,x):\n",
    "        \n",
    "        model.eval()\n",
    "        model.likelihood.eval()\n",
    "        \n",
    "        with torch.no_grad():\n",
    "\n",
    "            pred = model.likelihood(model(x))\n",
    "        \n",
    "        lower, upper = pred.confidence_region()   \n",
    "        y_hat = pred.mean  \n",
    "        \n",
    "        return y_hat,lower,upper\n",
    "    \n",
    " \n",
    "    def run(self):\n",
    "        \n",
    "        self.__dict__.update(locals()) ##save args to self\n",
    "\n",
    "        train_x,train_y =  model.train_inputs[0],model.train_targets\n",
    "        test_x,test_y = self.generate_data(self.n_test,self.n_episodes_test)\n",
    "        \n",
    "        train_mean = model.mean_module(train_x).detach().cpu().numpy()\n",
    "        test_mean = model.mean_module(test_x).detach().cpu().numpy()\n",
    "\n",
    "        train_pred = self.predict(model,train_x)\n",
    "        test_pred  = self.predict(model,test_x)\n",
    "        \n",
    "        train_mll = self.get_mll(model,train_x,train_y)\n",
    "        test_mll = self.get_mll(model,test_x,test_y)\n",
    "        \n",
    "        \n",
    "        #fig = plt.figure(constrained_layout=True,figsize=(8,12))\n",
    "        fig = plt.figure(constrained_layout=True,figsize=(15,12))\n",
    "        subfigures = fig.subfigures(1,4)\n",
    "        ### train plots\n",
    "        \n",
    "        y_hat,lower,upper = train_pred\n",
    "        self.plot(train_x,train_y,train_mean,self.local_opt,\"train_mean\",\n",
    "                  subfigures[0])\n",
    "        \n",
    "        self.plot(train_x,train_y,y_hat,self.local_opt,\"train_gp\",\n",
    "                  subfigures[1])\n",
    "        \n",
    "        ### test plots\n",
    "        \n",
    "        y_hat,lower,upper = test_pred\n",
    "        self.plot(test_x,test_y,test_mean,self.local_opt,\"test_mean\",\n",
    "                  subfigures[2])\n",
    "        \n",
    "        self.plot(test_x,test_y,y_hat,self.local_opt,\"test_gp\",\n",
    "                  subfigures[3])\n",
    "\n",
    "tester = Tester(model,objective_env,optimizer.theta_i)\n",
    "tester.run()"
   ]
  },
  {
   "cell_type": "code",
   "execution_count": 6,
   "metadata": {},
   "outputs": [
    {
     "data": {
      "text/plain": [
       "[<matplotlib.lines.Line2D at 0x7efcc45225b0>]"
      ]
     },
     "execution_count": 6,
     "metadata": {},
     "output_type": "execute_result"
    },
    {
     "data": {
      "image/png": "[encoded data removed]",
      "text/plain": [
       "<Figure size 432x288 with 1 Axes>"
      ]
     },
     "metadata": {
      "needs_background": "light"
     },
     "output_type": "display_data"
    }
   ],
   "source": [
    "import scipy.stats as stats \n",
    "import numpy as np\n",
    "import matplotlib.pyplot as plt\n",
    "\n",
    "alpha = 1.25\n",
    "beta = 0.25\n",
    "x = np.linspace (0, 10, 2000) \n",
    "y1 = stats.gamma.pdf(x, a=alpha, scale=1/beta)\n",
    "plt.plot(x,y1)"
   ]
  }
 ],
 "metadata": {
  "kernelspec": {
   "display_name": "Python 3.9.0 ('bopt')",
   "language": "python",
   "name": "python3"
  },
  "language_info": {
   "codemirror_mode": {
    "name": "ipython",
    "version": 3
   },
   "file_extension": ".py",
   "mimetype": "text/x-python",
   "name": "python",
   "nbconvert_exporter": "python",
   "pygments_lexer": "ipython3",
   "version": "3.9.12"
  },
  "orig_nbformat": 4,
  "vscode": {
   "interpreter": {
    "hash": "d6c7e76b21fbf8268359659a13a1687ca07cc6ddf0d10c2b26cf47d2a8edd420"
   }
  }
 },
 "nbformat": 4,
 "nbformat_minor": 2
}
