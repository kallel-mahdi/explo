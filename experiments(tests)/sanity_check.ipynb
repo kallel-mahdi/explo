{
 "cells": [
  {
   "cell_type": "code",
   "execution_count": 1,
   "metadata": {},
   "outputs": [
    {
     "name": "stdout",
     "output_type": "stream",
     "text": [
      "/home/q123/Desktop/explo\n"
     ]
    },
    {
     "name": "stderr",
     "output_type": "stream",
     "text": [
      "/home/q123/miniconda3/envs/explo/lib/python3.8/site-packages/tqdm/auto.py:22: TqdmWarning: IProgress not found. Please update jupyter and ipywidgets. See https://ipywidgets.readthedocs.io/en/stable/user_install.html\n",
      "  from .autonotebook import tqdm as notebook_tqdm\n"
     ]
    }
   ],
   "source": [
    "%cd /home/q123/Desktop/explo\n",
    "import torch\n",
    "import math \n",
    "from src.optim import step\n",
    "\n",
    "import logging\n",
    "logging.basicConfig(filename='myapp.log', level=logging.CRITICAL)"
   ]
  },
  {
   "cell_type": "code",
   "execution_count": 5,
   "metadata": {},
   "outputs": [],
   "source": [
    "# use a GPU if available\n",
    "device = torch.device(\"cuda\" if torch.cuda.is_available() else \"cpu\")\n",
    "dtype = torch.float\n",
    "\n",
    "# use regular spaced points on the interval [0, 1]\n",
    "train_X = torch.linspace(0.3, 0.5, 15, dtype=dtype, device=device)\n",
    "# training data needs to be explicitly multi-dimensional\n",
    "train_X = train_X.unsqueeze(1)\n",
    "\n",
    "# sample observed values and add some synthetic noise\n",
    "train_Y = torch.sin(train_X * (2 * math.pi)) + 0.15 * torch.randn_like(train_X)\n",
    "train_Y = train_Y\n",
    "objective_env = lambda x : torch.sin(x).squeeze(dim=1) +  0.15 * torch.rand(1)"
   ]
  },
  {
   "cell_type": "code",
   "execution_count": 6,
   "metadata": {},
   "outputs": [],
   "source": [
    "from botorch.models import SingleTaskGP\n",
    "from gpytorch.constraints import GreaterThan\n",
    "from gpytorch.mlls import ExactMarginalLogLikelihood\n",
    "\n",
    "model = SingleTaskGP(train_X=train_X, train_Y=train_Y)\n",
    "model.likelihood.noise_covar.register_constraint(\"raw_noise\", GreaterThan(1e-5))\n",
    "mll = ExactMarginalLogLikelihood(likelihood=model.likelihood, model=model)\n",
    "# set mll and all submodules to the specified dtype and device\n",
    "mll = mll.to(train_X)"
   ]
  },
  {
   "cell_type": "code",
   "execution_count": 7,
   "metadata": {},
   "outputs": [
    {
     "name": "stdout",
     "output_type": "stream",
     "text": [
      "curr 0.009023568592965603 max 0.8074154853820801\n",
      "new_x tensor([[0.]]) new_y tensor([0.0090])\n",
      "curr 0.8513906598091125 max 0.8513906598091125\n",
      "new_x tensor([[1.]]) new_y tensor([0.8514])\n",
      "curr 0.8538792729377747 max 0.8538792729377747\n",
      "new_x tensor([[0.8971]]) new_y tensor([0.8539])\n",
      "curr 0.9095646739006042 max 0.9095646739006042\n",
      "new_x tensor([[0.9500]]) new_y tensor([0.9096])\n",
      "curr 0.8682857155799866 max 0.9095646739006042\n",
      "new_x tensor([[0.9501]]) new_y tensor([0.8683])\n",
      "curr 0.8652675151824951 max 0.9095646739006042\n",
      "new_x tensor([[1.]]) new_y tensor([0.8653])\n",
      "curr 0.9071233868598938 max 0.9095646739006042\n",
      "new_x tensor([[0.9435]]) new_y tensor([0.9071])\n",
      "curr 0.952530562877655 max 0.952530562877655\n",
      "new_x tensor([[0.9443]]) new_y tensor([0.9525])\n",
      "curr 0.7325518131256104 max 0.952530562877655\n",
      "new_x tensor([[0.8214]]) new_y tensor([0.7326])\n",
      "curr 0.8793346285820007 max 0.952530562877655\n",
      "new_x tensor([[0.9126]]) new_y tensor([0.8793])\n",
      "curr 0.899834394454956 max 0.952530562877655\n",
      "new_x tensor([[0.9172]]) new_y tensor([0.8998])\n",
      "curr 0.8693677186965942 max 0.952530562877655\n",
      "new_x tensor([[1.]]) new_y tensor([0.8694])\n",
      "curr 0.2399599850177765 max 0.952530562877655\n",
      "new_x tensor([[0.1858]]) new_y tensor([0.2400])\n",
      "curr 0.9389714598655701 max 0.952530562877655\n",
      "new_x tensor([[0.9462]]) new_y tensor([0.9390])\n",
      "curr 0.8448147177696228 max 0.952530562877655\n",
      "new_x tensor([[0.9471]]) new_y tensor([0.8448])\n",
      "curr 0.8785439729690552 max 0.952530562877655\n",
      "new_x tensor([[0.8967]]) new_y tensor([0.8785])\n",
      "curr 0.9304126501083374 max 0.952530562877655\n",
      "new_x tensor([[1.]]) new_y tensor([0.9304])\n",
      "curr 0.8865708708763123 max 0.952530562877655\n",
      "new_x tensor([[1.]]) new_y tensor([0.8866])\n",
      "curr 0.8852510452270508 max 0.952530562877655\n",
      "new_x tensor([[0.9535]]) new_y tensor([0.8853])\n",
      "curr 0.8047032952308655 max 0.952530562877655\n",
      "new_x tensor([[0.8929]]) new_y tensor([0.8047])\n"
     ]
    }
   ],
   "source": [
    "max_iter = 20\n",
    "for i in range(max_iter):\n",
    "    \n",
    "  new_x,new_y = step(model,objective_env)\n",
    "  #print(\"outputscale\",model.covar_module.raw_outputscale)\n",
    "  best_val = model.train_targets.max()\n",
    "  curr_val = model.train_targets[-1]\n",
    "  print(f'curr {curr_val} max {best_val}')\n",
    "  print(f'new_x {new_x} new_y {new_y}')"
   ]
  },
  {
   "cell_type": "code",
   "execution_count": null,
   "metadata": {},
   "outputs": [],
   "source": []
  }
 ],
 "metadata": {
  "interpreter": {
   "hash": "3b54cb4d83655428105eabb77a9cd1898504607119e0ebf088afaf3437f4d048"
  },
  "kernelspec": {
   "display_name": "Python 3.8.13 ('explo')",
   "language": "python",
   "name": "python3"
  },
  "language_info": {
   "codemirror_mode": {
    "name": "ipython",
    "version": 3
   },
   "file_extension": ".py",
   "mimetype": "text/x-python",
   "name": "python",
   "nbconvert_exporter": "python",
   "pygments_lexer": "ipython3",
   "version": "3.8.13"
  },
  "orig_nbformat": 4
 },
 "nbformat": 4,
 "nbformat_minor": 2
}
